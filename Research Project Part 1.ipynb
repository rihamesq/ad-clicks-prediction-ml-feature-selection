{
 "cells": [
  {
   "cell_type": "markdown",
   "id": "02840e35-3ecd-4366-8c30-e94b611f4249",
   "metadata": {},
   "source": [
    "<div style=\"text-align: center;\">\n",
    "    <h1>RESEARCH PROJECT PART 1</h1>\n",
    "</div>"
   ]
  },
  {
   "cell_type": "markdown",
   "id": "dfd91d22-c0e4-4ada-ba31-a69fbdeb796a",
   "metadata": {},
   "source": [
    "<div style=\"text-align: center;\">\n",
    "    The primary purpose of this Jupyter notebook is to preprocess the datasets while maintaining data quality and downsizing them as much as possible, aiming to transform the Taobao dataset into a medium-sized, computationally manageable dataset that aligns with the SMEs narrative.</h1>\n",
    "</div>"
   ]
  },
  {
   "cell_type": "markdown",
   "id": "7899c184-84de-4215-b34c-fce087ff7567",
   "metadata": {},
   "source": [
    "# 1. Environment preparation"
   ]
  },
  {
   "cell_type": "code",
   "execution_count": 3,
   "id": "46127a16-7cd6-494c-badf-1f323fdb2fb7",
   "metadata": {},
   "outputs": [],
   "source": [
    "import gzip\n",
    "import pandas as pd\n",
    "import warnings\n",
    "warnings.filterwarnings(\"ignore\")\n",
    "import time"
   ]
  },
  {
   "cell_type": "markdown",
   "id": "968f859f-f288-4d75-8a4f-d3844fd48a1b",
   "metadata": {},
   "source": [
    "The 4 different subsets of Taobao needs to be linked, with behaviour log dataset being the largest, after experimenting, it was more ideal to start linking first the user and ad feature using the ad_id."
   ]
  },
  {
   "cell_type": "code",
   "execution_count": 2,
   "id": "e141413e-146d-49c4-bf25-c5de6607f0f7",
   "metadata": {},
   "outputs": [],
   "source": [
    "#define the raw sample dataset\n",
    "df_sample = pd.read_csv(\"raw_sample.csv\")"
   ]
  },
  {
   "cell_type": "code",
   "execution_count": 3,
   "id": "9539367f-9e5f-4880-9cc1-6516bbe32917",
   "metadata": {},
   "outputs": [],
   "source": [
    "#define the ad feature dataset\n",
    "df_ad = pd.read_csv(\"ad_feature.csv\")"
   ]
  },
  {
   "cell_type": "code",
   "execution_count": 4,
   "id": "a6d3196f-5d1f-4871-a654-c75f9847ffa0",
   "metadata": {},
   "outputs": [],
   "source": [
    "#define the user profile dataset\n",
    "df_user = pd.read_csv(\"user_profile.csv\")"
   ]
  },
  {
   "cell_type": "markdown",
   "id": "319ec732-b553-40f4-a67f-c978bd1d81c1",
   "metadata": {},
   "source": [
    "# 2. Treating datasets"
   ]
  },
  {
   "cell_type": "markdown",
   "id": "833aeff4-17f3-4f0e-a9f5-e391d508954c",
   "metadata": {},
   "source": [
    "### 2.1. Df_sample"
   ]
  },
  {
   "cell_type": "markdown",
   "id": "ecbea6d9-51c1-4312-8eff-1a029fad85f5",
   "metadata": {},
   "source": [
    "#### 2.1.1.  Dataset shape"
   ]
  },
  {
   "cell_type": "code",
   "execution_count": 5,
   "id": "9ba1e958-efa1-4e22-85c4-d4344cb7ecb2",
   "metadata": {},
   "outputs": [
    {
     "data": {
      "text/plain": [
       "(26557961, 6)"
      ]
     },
     "execution_count": 5,
     "metadata": {},
     "output_type": "execute_result"
    }
   ],
   "source": [
    "#inspect the shape of the df sample \n",
    "df_sample.shape"
   ]
  },
  {
   "cell_type": "markdown",
   "id": "11ca1924-79b2-4123-8f03-b06812f01340",
   "metadata": {},
   "source": [
    "There are 26M rows of user information."
   ]
  },
  {
   "cell_type": "markdown",
   "id": "4c37a921-3a2d-4cd9-af8f-b78214304cdd",
   "metadata": {},
   "source": [
    "#### 2.1.2. Target variable proportions"
   ]
  },
  {
   "cell_type": "code",
   "execution_count": 6,
   "id": "325310ab-2599-4e5e-857c-e9c97040ff7f",
   "metadata": {},
   "outputs": [
    {
     "name": "stdout",
     "output_type": "stream",
     "text": [
      "clk\n",
      "0    0.948563\n",
      "1    0.051437\n",
      "Name: proportion, dtype: float64\n"
     ]
    }
   ],
   "source": [
    "#calculate the proportion of each unique value in the 'clk' column\n",
    "proportions = df_sample['clk'].value_counts(normalize=True)\n",
    "\n",
    "#print the proportions\n",
    "print(proportions)"
   ]
  },
  {
   "cell_type": "markdown",
   "id": "e7b8bc1e-f85b-4d65-9709-2079c83d996f",
   "metadata": {},
   "source": [
    "The proportion of clicks to non clicks is way too disproportionate, with only 5% clicks as opposed to 95% non clicks."
   ]
  },
  {
   "cell_type": "markdown",
   "id": "2ca12d5a-01ed-4960-828e-b88fc83b4c27",
   "metadata": {},
   "source": [
    "### 2.2. Df_ad"
   ]
  },
  {
   "cell_type": "code",
   "execution_count": 7,
   "id": "5e911034-710f-4ed1-8de4-aeab6b7a91b1",
   "metadata": {},
   "outputs": [
    {
     "data": {
      "text/plain": [
       "(846811, 6)"
      ]
     },
     "execution_count": 7,
     "metadata": {},
     "output_type": "execute_result"
    }
   ],
   "source": [
    "df_ad.shape"
   ]
  },
  {
   "cell_type": "markdown",
   "id": "9b303cc0-619f-4fe6-a62a-d7469b1a025b",
   "metadata": {},
   "source": [
    "There are 846K rows of ad information and 6 ad features."
   ]
  },
  {
   "cell_type": "markdown",
   "id": "3883ea1b-bf5f-4b7c-a8b2-c93fed1aa55a",
   "metadata": {},
   "source": [
    "### 2.3. Missing values"
   ]
  },
  {
   "cell_type": "markdown",
   "id": "edc5c257-9d16-431b-9d33-c5ad03095762",
   "metadata": {},
   "source": [
    "#### 2.3.1.  Identification"
   ]
  },
  {
   "cell_type": "markdown",
   "id": "5121de18-b6fe-450d-aa27-7cbc090e75e6",
   "metadata": {},
   "source": [
    "Both datasets will first be checked for any missing values."
   ]
  },
  {
   "cell_type": "code",
   "execution_count": 8,
   "id": "0cb55179-7e4b-4a6a-bf19-1c3484ffab42",
   "metadata": {},
   "outputs": [
    {
     "data": {
      "text/plain": [
       "user          0\n",
       "time_stamp    0\n",
       "adgroup_id    0\n",
       "pid           0\n",
       "nonclk        0\n",
       "clk           0\n",
       "dtype: int64"
      ]
     },
     "execution_count": 8,
     "metadata": {},
     "output_type": "execute_result"
    }
   ],
   "source": [
    "df_sample.isna().sum()"
   ]
  },
  {
   "cell_type": "code",
   "execution_count": 9,
   "id": "0c0d8214-bc2a-48ef-8272-137756e0f285",
   "metadata": {},
   "outputs": [
    {
     "data": {
      "text/plain": [
       "adgroup_id          0\n",
       "cate_id             0\n",
       "campaign_id         0\n",
       "customer            0\n",
       "brand          246330\n",
       "price               0\n",
       "dtype: int64"
      ]
     },
     "execution_count": 9,
     "metadata": {},
     "output_type": "execute_result"
    }
   ],
   "source": [
    "df_ad.isna().sum()"
   ]
  },
  {
   "cell_type": "markdown",
   "id": "bf014b84-65c1-4319-8c1a-167170268233",
   "metadata": {},
   "source": [
    "The ad feature dataset has 246K missing values, since it is large, we can choose to drop them instead of filling them."
   ]
  },
  {
   "cell_type": "markdown",
   "id": "e48cc23c-2dfd-4584-a647-1a19937e0206",
   "metadata": {},
   "source": [
    "#### 2.3.2.  Drop missing values"
   ]
  },
  {
   "cell_type": "code",
   "execution_count": 10,
   "id": "149efd4a-1c61-4563-8b6c-ea6704d3c3cb",
   "metadata": {},
   "outputs": [],
   "source": [
    "#define the new df clean of missing values\n",
    "df_ad_cleaned = df_ad.dropna()"
   ]
  },
  {
   "cell_type": "code",
   "execution_count": 11,
   "id": "0272d259-58fa-4dae-9444-184951290f6a",
   "metadata": {},
   "outputs": [
    {
     "data": {
      "text/plain": [
       "adgroup_id     0\n",
       "cate_id        0\n",
       "campaign_id    0\n",
       "customer       0\n",
       "brand          0\n",
       "price          0\n",
       "dtype: int64"
      ]
     },
     "execution_count": 11,
     "metadata": {},
     "output_type": "execute_result"
    }
   ],
   "source": [
    "#verify if there are still any missing values\n",
    "df_ad_cleaned.isna().sum()"
   ]
  },
  {
   "cell_type": "markdown",
   "id": "9f36a2ee-d22f-4da9-a05e-cf25de393e88",
   "metadata": {},
   "source": [
    "Some datatypes do take a lot of computing space, adjusting them will reduce it."
   ]
  },
  {
   "cell_type": "code",
   "execution_count": 12,
   "id": "3809173f-36db-4e39-adff-5ebe6e3bcbd7",
   "metadata": {},
   "outputs": [
    {
     "data": {
      "text/plain": [
       "adgroup_id       int64\n",
       "cate_id          int64\n",
       "campaign_id      int64\n",
       "customer         int64\n",
       "brand          float64\n",
       "price          float64\n",
       "dtype: object"
      ]
     },
     "execution_count": 12,
     "metadata": {},
     "output_type": "execute_result"
    }
   ],
   "source": [
    "#identify large datatypes to reduce computing space\n",
    "df_ad_cleaned.dtypes"
   ]
  },
  {
   "cell_type": "code",
   "execution_count": 13,
   "id": "dbf2e299-6429-4e13-9380-888d7e77d7a0",
   "metadata": {},
   "outputs": [],
   "source": [
    "#convert columns from float64 to int from df_sample\n",
    "df_sample['user'] = df_sample['user'].astype('int')\n",
    "df_sample['time_stamp'] = df_sample['time_stamp'].astype('int')\n",
    "df_sample['adgroup_id'] = df_sample['adgroup_id'].astype('int')\n",
    "df_sample['nonclk'] = df_sample['nonclk'].astype('int')\n",
    "df_sample['clk'] = df_sample['clk'].astype('int')"
   ]
  },
  {
   "cell_type": "code",
   "execution_count": 14,
   "id": "71f6a862-3bae-4155-a89c-fc1bbb269304",
   "metadata": {},
   "outputs": [],
   "source": [
    "#convert columns from float64 to int from df_ad_cleaned\n",
    "df_ad_cleaned['adgroup_id'] = df_ad_cleaned['adgroup_id'].astype('int')\n",
    "df_ad_cleaned['cate_id'] = df_ad_cleaned['cate_id'].astype('int')\n",
    "df_ad_cleaned['campaign_id'] = df_ad_cleaned['campaign_id'].astype('int')\n",
    "df_ad_cleaned['customer'] = df_ad_cleaned['customer'].astype('int')\n",
    "df_ad_cleaned['brand'] = df_ad_cleaned['brand'].astype('int')"
   ]
  },
  {
   "cell_type": "markdown",
   "id": "853e350d-f31a-4000-8c5d-dff8bc6e9b9b",
   "metadata": {},
   "source": [
    "### 2.4. Merge both datasets"
   ]
  },
  {
   "cell_type": "markdown",
   "id": "311f8a1b-ee7a-4e1c-99f5-8c285fc141a2",
   "metadata": {},
   "source": [
    "Next, df_sample and df_ad_cleaned will be merged using the common column ad_id."
   ]
  },
  {
   "cell_type": "markdown",
   "id": "a0aa9e0a-86db-44e5-97cf-3c1b3d4219ab",
   "metadata": {},
   "source": [
    "#### 2.4.1.  Merge using the common column"
   ]
  },
  {
   "cell_type": "code",
   "execution_count": 15,
   "id": "c30e3f48-3869-4001-bf16-2f9a79371b2a",
   "metadata": {},
   "outputs": [],
   "source": [
    "new_df = pd.merge(df_sample, df_ad_cleaned, on=['adgroup_id'])"
   ]
  },
  {
   "cell_type": "markdown",
   "id": "0f712c5a-01ef-46e0-80a8-1d1170889a7d",
   "metadata": {},
   "source": [
    "#### 2.4.2. Inspect new dataset characteristics"
   ]
  },
  {
   "cell_type": "code",
   "execution_count": 16,
   "id": "0e2ea8e2-8bc6-4272-a830-4e8089019085",
   "metadata": {},
   "outputs": [
    {
     "data": {
      "text/plain": [
       "(18266267, 11)"
      ]
     },
     "execution_count": 16,
     "metadata": {},
     "output_type": "execute_result"
    }
   ],
   "source": [
    "new_df.shape"
   ]
  },
  {
   "cell_type": "markdown",
   "id": "497c293b-1ed4-40d2-b053-32473bace531",
   "metadata": {},
   "source": [
    "The new merged dataset has 18M of rows, less than before."
   ]
  },
  {
   "cell_type": "code",
   "execution_count": 17,
   "id": "f8f1135a-7409-4361-9c0d-412c559c8649",
   "metadata": {},
   "outputs": [
    {
     "data": {
      "text/html": [
       "<div>\n",
       "<style scoped>\n",
       "    .dataframe tbody tr th:only-of-type {\n",
       "        vertical-align: middle;\n",
       "    }\n",
       "\n",
       "    .dataframe tbody tr th {\n",
       "        vertical-align: top;\n",
       "    }\n",
       "\n",
       "    .dataframe thead th {\n",
       "        text-align: right;\n",
       "    }\n",
       "</style>\n",
       "<table border=\"1\" class=\"dataframe\">\n",
       "  <thead>\n",
       "    <tr style=\"text-align: right;\">\n",
       "      <th></th>\n",
       "      <th>user</th>\n",
       "      <th>time_stamp</th>\n",
       "      <th>adgroup_id</th>\n",
       "      <th>pid</th>\n",
       "      <th>nonclk</th>\n",
       "      <th>clk</th>\n",
       "      <th>cate_id</th>\n",
       "      <th>campaign_id</th>\n",
       "      <th>customer</th>\n",
       "      <th>brand</th>\n",
       "      <th>price</th>\n",
       "    </tr>\n",
       "  </thead>\n",
       "  <tbody>\n",
       "    <tr>\n",
       "      <th>0</th>\n",
       "      <td>581738</td>\n",
       "      <td>1494137644</td>\n",
       "      <td>1</td>\n",
       "      <td>430548_1007</td>\n",
       "      <td>1</td>\n",
       "      <td>0</td>\n",
       "      <td>9025</td>\n",
       "      <td>108570</td>\n",
       "      <td>1337</td>\n",
       "      <td>20169</td>\n",
       "      <td>17.0</td>\n",
       "    </tr>\n",
       "    <tr>\n",
       "      <th>1</th>\n",
       "      <td>914836</td>\n",
       "      <td>1494650879</td>\n",
       "      <td>4</td>\n",
       "      <td>430548_1007</td>\n",
       "      <td>1</td>\n",
       "      <td>0</td>\n",
       "      <td>7958</td>\n",
       "      <td>385883</td>\n",
       "      <td>39662</td>\n",
       "      <td>216840</td>\n",
       "      <td>85.0</td>\n",
       "    </tr>\n",
       "    <tr>\n",
       "      <th>2</th>\n",
       "      <td>914836</td>\n",
       "      <td>1494651029</td>\n",
       "      <td>5</td>\n",
       "      <td>430548_1007</td>\n",
       "      <td>1</td>\n",
       "      <td>0</td>\n",
       "      <td>7958</td>\n",
       "      <td>385883</td>\n",
       "      <td>39662</td>\n",
       "      <td>216840</td>\n",
       "      <td>60.0</td>\n",
       "    </tr>\n",
       "    <tr>\n",
       "      <th>3</th>\n",
       "      <td>399907</td>\n",
       "      <td>1494302958</td>\n",
       "      <td>8</td>\n",
       "      <td>430548_1007</td>\n",
       "      <td>1</td>\n",
       "      <td>0</td>\n",
       "      <td>1626</td>\n",
       "      <td>388290</td>\n",
       "      <td>42349</td>\n",
       "      <td>241359</td>\n",
       "      <td>63.0</td>\n",
       "    </tr>\n",
       "    <tr>\n",
       "      <th>4</th>\n",
       "      <td>628137</td>\n",
       "      <td>1494524935</td>\n",
       "      <td>9</td>\n",
       "      <td>430548_1007</td>\n",
       "      <td>1</td>\n",
       "      <td>0</td>\n",
       "      <td>9784</td>\n",
       "      <td>393714</td>\n",
       "      <td>32496</td>\n",
       "      <td>457216</td>\n",
       "      <td>396.0</td>\n",
       "    </tr>\n",
       "  </tbody>\n",
       "</table>\n",
       "</div>"
      ],
      "text/plain": [
       "     user  time_stamp  adgroup_id          pid  nonclk  clk  cate_id  \\\n",
       "0  581738  1494137644           1  430548_1007       1    0     9025   \n",
       "1  914836  1494650879           4  430548_1007       1    0     7958   \n",
       "2  914836  1494651029           5  430548_1007       1    0     7958   \n",
       "3  399907  1494302958           8  430548_1007       1    0     1626   \n",
       "4  628137  1494524935           9  430548_1007       1    0     9784   \n",
       "\n",
       "   campaign_id  customer   brand  price  \n",
       "0       108570      1337   20169   17.0  \n",
       "1       385883     39662  216840   85.0  \n",
       "2       385883     39662  216840   60.0  \n",
       "3       388290     42349  241359   63.0  \n",
       "4       393714     32496  457216  396.0  "
      ]
     },
     "execution_count": 17,
     "metadata": {},
     "output_type": "execute_result"
    }
   ],
   "source": [
    "#get an overview of the dataset \n",
    "new_df.head()"
   ]
  },
  {
   "cell_type": "markdown",
   "id": "46599ffa-5c2a-4a71-bf8c-01e26df0997d",
   "metadata": {},
   "source": [
    "### 2.5. Treat user profile dataset"
   ]
  },
  {
   "cell_type": "markdown",
   "id": "85ba0c1b-f3db-4e62-b0fd-2cb871e510ea",
   "metadata": {},
   "source": [
    "Next, user_profile and df_sample will be merged, but first user_profile has to be inspected for any missing values."
   ]
  },
  {
   "cell_type": "markdown",
   "id": "d10f0194-9509-4c05-90ad-a5594437d0e5",
   "metadata": {},
   "source": [
    "#### 2.5.1.  Missing values"
   ]
  },
  {
   "cell_type": "code",
   "execution_count": 19,
   "id": "6f32901f-d688-4f38-9f72-91399a61e865",
   "metadata": {},
   "outputs": [
    {
     "data": {
      "text/plain": [
       "userid                        0\n",
       "cms_segid                     0\n",
       "cms_group_id                  0\n",
       "final_gender_code             0\n",
       "age_level                     0\n",
       "pvalue_level             575917\n",
       "shopping_level                0\n",
       "occupation                    0\n",
       "new_user_class_level     344920\n",
       "dtype: int64"
      ]
     },
     "execution_count": 19,
     "metadata": {},
     "output_type": "execute_result"
    }
   ],
   "source": [
    "df_user.isna().sum()"
   ]
  },
  {
   "cell_type": "markdown",
   "id": "7a551d3b-4d66-4384-9071-bc7633f049d7",
   "metadata": {},
   "source": [
    "All missing values will again be dropped instead of filled due to the large dataset size."
   ]
  },
  {
   "cell_type": "code",
   "execution_count": 20,
   "id": "f0878cbe-a51a-42cd-badc-7c40c9452e14",
   "metadata": {},
   "outputs": [],
   "source": [
    "#drop missing values \n",
    "df_user_cleaned = df_user.dropna()"
   ]
  },
  {
   "cell_type": "code",
   "execution_count": 21,
   "id": "74a05536-bcb0-49f3-aa3d-e0fd3910f5a4",
   "metadata": {},
   "outputs": [
    {
     "data": {
      "text/plain": [
       "userid                   0\n",
       "cms_segid                0\n",
       "cms_group_id             0\n",
       "final_gender_code        0\n",
       "age_level                0\n",
       "pvalue_level             0\n",
       "shopping_level           0\n",
       "occupation               0\n",
       "new_user_class_level     0\n",
       "dtype: int64"
      ]
     },
     "execution_count": 21,
     "metadata": {},
     "output_type": "execute_result"
    }
   ],
   "source": [
    "#verify if there are any null values left\n",
    "df_user_cleaned.isna().sum()"
   ]
  },
  {
   "cell_type": "code",
   "execution_count": 22,
   "id": "da6ccf6c-4dfb-4d25-9b12-b7f9f3d80961",
   "metadata": {},
   "outputs": [
    {
     "data": {
      "text/plain": [
       "(395932, 9)"
      ]
     },
     "execution_count": 22,
     "metadata": {},
     "output_type": "execute_result"
    }
   ],
   "source": [
    "#inspect the new dimensions of dataset \n",
    "df_user_cleaned.shape"
   ]
  },
  {
   "cell_type": "markdown",
   "id": "6396b652-c123-4814-a425-d125d6838959",
   "metadata": {},
   "source": [
    "#### 2.5.2. Merge datasets"
   ]
  },
  {
   "cell_type": "code",
   "execution_count": 23,
   "id": "9bb83f16-01b8-4e2b-9e81-c35ca99dfa2d",
   "metadata": {},
   "outputs": [],
   "source": [
    "#rename column to match the one in the combined dataset \n",
    "df_user_cleaned.rename(columns={'userid': 'user'}, inplace=True)"
   ]
  },
  {
   "cell_type": "code",
   "execution_count": 24,
   "id": "214edbad-acb5-431c-8587-1194777c3ccb",
   "metadata": {},
   "outputs": [],
   "source": [
    "#merge datasets using the common column user \n",
    "other_df = pd.merge(new_df, df_user_cleaned, on=['user'])"
   ]
  },
  {
   "cell_type": "code",
   "execution_count": 25,
   "id": "5df08191-6125-4800-bb17-ff4305616167",
   "metadata": {},
   "outputs": [
    {
     "data": {
      "text/plain": [
       "(7003565, 19)"
      ]
     },
     "execution_count": 25,
     "metadata": {},
     "output_type": "execute_result"
    }
   ],
   "source": [
    "other_df.shape"
   ]
  },
  {
   "cell_type": "markdown",
   "id": "add2272c-c239-4638-8c4a-296ebb5ed07b",
   "metadata": {},
   "source": [
    "The size of the dataset got reduced to 7M rows."
   ]
  },
  {
   "cell_type": "code",
   "execution_count": 26,
   "id": "3041393e-8059-4e77-a263-30f7bfebb757",
   "metadata": {},
   "outputs": [
    {
     "data": {
      "text/plain": [
       "clk\n",
       "0    0.950807\n",
       "1    0.049193\n",
       "Name: proportion, dtype: float64"
      ]
     },
     "execution_count": 26,
     "metadata": {},
     "output_type": "execute_result"
    }
   ],
   "source": [
    "#calculate again the proportion of each unique value in the 'clk' column\n",
    "new_proportions = other_df['clk'].value_counts(normalize=True)\n",
    "\n",
    "#print the new proportions \n",
    "new_proportions"
   ]
  },
  {
   "cell_type": "markdown",
   "id": "90e815b3-8a6e-4eb6-9f6c-c38720dbece9",
   "metadata": {},
   "source": [
    "The original distribution of clicks to non clicks is more or less still maintained."
   ]
  },
  {
   "cell_type": "markdown",
   "id": "4998158f-2072-439d-989d-fb7f204c1019",
   "metadata": {},
   "source": [
    "#### 2.5.3. Inspect the newly merged dataset characteristics"
   ]
  },
  {
   "cell_type": "code",
   "execution_count": 27,
   "id": "a751fd97-017a-4e77-abc4-84bc5f1691b3",
   "metadata": {},
   "outputs": [
    {
     "data": {
      "text/html": [
       "<div>\n",
       "<style scoped>\n",
       "    .dataframe tbody tr th:only-of-type {\n",
       "        vertical-align: middle;\n",
       "    }\n",
       "\n",
       "    .dataframe tbody tr th {\n",
       "        vertical-align: top;\n",
       "    }\n",
       "\n",
       "    .dataframe thead th {\n",
       "        text-align: right;\n",
       "    }\n",
       "</style>\n",
       "<table border=\"1\" class=\"dataframe\">\n",
       "  <thead>\n",
       "    <tr style=\"text-align: right;\">\n",
       "      <th></th>\n",
       "      <th>user</th>\n",
       "      <th>time_stamp</th>\n",
       "      <th>adgroup_id</th>\n",
       "      <th>pid</th>\n",
       "      <th>nonclk</th>\n",
       "      <th>clk</th>\n",
       "      <th>cate_id</th>\n",
       "      <th>campaign_id</th>\n",
       "      <th>customer</th>\n",
       "      <th>brand</th>\n",
       "      <th>price</th>\n",
       "      <th>cms_segid</th>\n",
       "      <th>cms_group_id</th>\n",
       "      <th>final_gender_code</th>\n",
       "      <th>age_level</th>\n",
       "      <th>pvalue_level</th>\n",
       "      <th>shopping_level</th>\n",
       "      <th>occupation</th>\n",
       "      <th>new_user_class_level</th>\n",
       "    </tr>\n",
       "  </thead>\n",
       "  <tbody>\n",
       "    <tr>\n",
       "      <th>0</th>\n",
       "      <td>117840</td>\n",
       "      <td>1494036743</td>\n",
       "      <td>11</td>\n",
       "      <td>430548_1007</td>\n",
       "      <td>1</td>\n",
       "      <td>0</td>\n",
       "      <td>5239</td>\n",
       "      <td>384809</td>\n",
       "      <td>25745</td>\n",
       "      <td>134255</td>\n",
       "      <td>176.0</td>\n",
       "      <td>49</td>\n",
       "      <td>6</td>\n",
       "      <td>2</td>\n",
       "      <td>6</td>\n",
       "      <td>2.0</td>\n",
       "      <td>3</td>\n",
       "      <td>0</td>\n",
       "      <td>2.0</td>\n",
       "    </tr>\n",
       "    <tr>\n",
       "      <th>1</th>\n",
       "      <td>623911</td>\n",
       "      <td>1494625301</td>\n",
       "      <td>11</td>\n",
       "      <td>430548_1007</td>\n",
       "      <td>1</td>\n",
       "      <td>0</td>\n",
       "      <td>5239</td>\n",
       "      <td>384809</td>\n",
       "      <td>25745</td>\n",
       "      <td>134255</td>\n",
       "      <td>176.0</td>\n",
       "      <td>93</td>\n",
       "      <td>11</td>\n",
       "      <td>1</td>\n",
       "      <td>5</td>\n",
       "      <td>3.0</td>\n",
       "      <td>3</td>\n",
       "      <td>0</td>\n",
       "      <td>2.0</td>\n",
       "    </tr>\n",
       "    <tr>\n",
       "      <th>2</th>\n",
       "      <td>623911</td>\n",
       "      <td>1494451608</td>\n",
       "      <td>11</td>\n",
       "      <td>430548_1007</td>\n",
       "      <td>1</td>\n",
       "      <td>0</td>\n",
       "      <td>5239</td>\n",
       "      <td>384809</td>\n",
       "      <td>25745</td>\n",
       "      <td>134255</td>\n",
       "      <td>176.0</td>\n",
       "      <td>93</td>\n",
       "      <td>11</td>\n",
       "      <td>1</td>\n",
       "      <td>5</td>\n",
       "      <td>3.0</td>\n",
       "      <td>3</td>\n",
       "      <td>0</td>\n",
       "      <td>2.0</td>\n",
       "    </tr>\n",
       "    <tr>\n",
       "      <th>3</th>\n",
       "      <td>976358</td>\n",
       "      <td>1494156949</td>\n",
       "      <td>13</td>\n",
       "      <td>430548_1007</td>\n",
       "      <td>1</td>\n",
       "      <td>0</td>\n",
       "      <td>7211</td>\n",
       "      <td>130458</td>\n",
       "      <td>6395</td>\n",
       "      <td>112840</td>\n",
       "      <td>289.0</td>\n",
       "      <td>20</td>\n",
       "      <td>3</td>\n",
       "      <td>2</td>\n",
       "      <td>3</td>\n",
       "      <td>2.0</td>\n",
       "      <td>3</td>\n",
       "      <td>0</td>\n",
       "      <td>4.0</td>\n",
       "    </tr>\n",
       "    <tr>\n",
       "      <th>4</th>\n",
       "      <td>286630</td>\n",
       "      <td>1494218579</td>\n",
       "      <td>13</td>\n",
       "      <td>430539_1007</td>\n",
       "      <td>1</td>\n",
       "      <td>0</td>\n",
       "      <td>7211</td>\n",
       "      <td>130458</td>\n",
       "      <td>6395</td>\n",
       "      <td>112840</td>\n",
       "      <td>289.0</td>\n",
       "      <td>17</td>\n",
       "      <td>3</td>\n",
       "      <td>2</td>\n",
       "      <td>3</td>\n",
       "      <td>1.0</td>\n",
       "      <td>3</td>\n",
       "      <td>0</td>\n",
       "      <td>4.0</td>\n",
       "    </tr>\n",
       "  </tbody>\n",
       "</table>\n",
       "</div>"
      ],
      "text/plain": [
       "     user  time_stamp  adgroup_id          pid  nonclk  clk  cate_id  \\\n",
       "0  117840  1494036743          11  430548_1007       1    0     5239   \n",
       "1  623911  1494625301          11  430548_1007       1    0     5239   \n",
       "2  623911  1494451608          11  430548_1007       1    0     5239   \n",
       "3  976358  1494156949          13  430548_1007       1    0     7211   \n",
       "4  286630  1494218579          13  430539_1007       1    0     7211   \n",
       "\n",
       "   campaign_id  customer   brand  price  cms_segid  cms_group_id  \\\n",
       "0       384809     25745  134255  176.0         49             6   \n",
       "1       384809     25745  134255  176.0         93            11   \n",
       "2       384809     25745  134255  176.0         93            11   \n",
       "3       130458      6395  112840  289.0         20             3   \n",
       "4       130458      6395  112840  289.0         17             3   \n",
       "\n",
       "   final_gender_code  age_level  pvalue_level  shopping_level  occupation  \\\n",
       "0                  2          6           2.0               3           0   \n",
       "1                  1          5           3.0               3           0   \n",
       "2                  1          5           3.0               3           0   \n",
       "3                  2          3           2.0               3           0   \n",
       "4                  2          3           1.0               3           0   \n",
       "\n",
       "   new_user_class_level   \n",
       "0                    2.0  \n",
       "1                    2.0  \n",
       "2                    2.0  \n",
       "3                    4.0  \n",
       "4                    4.0  "
      ]
     },
     "execution_count": 27,
     "metadata": {},
     "output_type": "execute_result"
    }
   ],
   "source": [
    "other_df.head()"
   ]
  },
  {
   "cell_type": "code",
   "execution_count": 29,
   "id": "d92b9047-5bc0-4bf5-82a1-f2b5c5f99081",
   "metadata": {},
   "outputs": [],
   "source": [
    "#rename the column to remove the extra space in the original column name \n",
    "other_df.rename(columns={\"new_user_class_level \": \"new_user_class_level\"}, inplace=True)"
   ]
  },
  {
   "cell_type": "code",
   "execution_count": 30,
   "id": "dc81230e-4a11-4652-8c32-7e7080b42bc0",
   "metadata": {},
   "outputs": [],
   "source": [
    "#convert columns from float64 to int\n",
    "other_df['pvalue_level'] = other_df['pvalue_level'].astype('int')\n",
    "other_df['new_user_class_level'] = other_df['new_user_class_level'].astype('int')"
   ]
  },
  {
   "cell_type": "markdown",
   "id": "7524fe51-f99c-45f3-a83d-faef234dc22d",
   "metadata": {},
   "source": [
    "### 2.6. Behaviour dataset"
   ]
  },
  {
   "cell_type": "markdown",
   "id": "8f0a792e-f6fa-4242-9bce-782bf7675fb7",
   "metadata": {},
   "source": [
    "For the final merge, the behaviour_log will first be broken down into separate CSV files to reduce strain on memory resources. To minimise file sizes and eliminate unnecessary information, only rows with matching brand IDs and category IDs will be included. Ideally, matching user IDs could also be added as a condition for more precise filtering, however, this significantly increases computational complexity and processing time, making it less practical. This approach accounts for the prior removal of rows with missing values, which may have left rows in behaviour_log without exact matches in the merged dataset."
   ]
  },
  {
   "cell_type": "code",
   "execution_count": 83,
   "id": "75f13c88-6938-4973-950b-8710e63d677d",
   "metadata": {},
   "outputs": [
    {
     "name": "stdout",
     "output_type": "stream",
     "text": [
      "Processed 100 chunks...\n",
      "Processed 200 chunks...\n",
      "Processed 300 chunks...\n",
      "Processed 400 chunks...\n",
      "Processed 500 chunks...\n",
      "Processed 600 chunks...\n",
      "Processed 700 chunks...\n",
      "Processed 800 chunks...\n",
      "Processed 900 chunks...\n",
      "Processed 1000 chunks...\n",
      "Processed 1100 chunks...\n",
      "Processed 1200 chunks...\n",
      "Processed 1205 chunks and saved to file 0.csv\n",
      "Processed 1300 chunks...\n",
      "Processed 1400 chunks...\n",
      "Processed 1500 chunks...\n",
      "Processed 1600 chunks...\n",
      "Processed 1700 chunks...\n",
      "Processed 1800 chunks...\n",
      "Processed 1900 chunks...\n",
      "Processed 2000 chunks...\n",
      "Processed 2100 chunks...\n",
      "Processed 2200 chunks...\n",
      "Processed 2300 chunks...\n",
      "Processed 2400 chunks...\n",
      "Processed 2410 chunks and saved to file 1.csv\n",
      "Processed 2500 chunks...\n",
      "Processed 2600 chunks...\n",
      "Processed 2700 chunks...\n",
      "Processed 2800 chunks...\n",
      "Processed 2900 chunks...\n",
      "Processed 3000 chunks...\n",
      "Processed 3100 chunks...\n",
      "Processed 3200 chunks...\n",
      "Processed 3300 chunks...\n",
      "Processed 3400 chunks...\n",
      "Processed 3500 chunks...\n",
      "Processed 3600 chunks...\n",
      "Processed 3615 chunks and saved to file 2.csv\n",
      "Processed 3700 chunks...\n",
      "Processed 3800 chunks...\n",
      "Processed 3900 chunks...\n",
      "Processed 4000 chunks...\n",
      "Processed 4100 chunks...\n",
      "Processed 4200 chunks...\n",
      "Processed 4300 chunks...\n",
      "Processed 4400 chunks...\n",
      "Processed 4500 chunks...\n",
      "Processed 4600 chunks...\n",
      "Processed 4700 chunks...\n",
      "Processed 4800 chunks...\n",
      "Processed 4820 chunks and saved to file 3.csv\n",
      "Processed 4900 chunks...\n",
      "Processed 5000 chunks...\n",
      "Processed 5100 chunks...\n",
      "Processed 5200 chunks...\n",
      "Processed 5300 chunks...\n",
      "Processed 5400 chunks...\n",
      "Processed 5500 chunks...\n",
      "Processed 5600 chunks...\n",
      "Processed 5700 chunks...\n",
      "Processed 5800 chunks...\n",
      "Processed 5900 chunks...\n",
      "Processed 6000 chunks...\n",
      "Processed 6025 chunks and saved to file 4.csv\n",
      "Processed 6100 chunks...\n",
      "Processed 6200 chunks...\n",
      "Processed 6300 chunks...\n",
      "Processed 6400 chunks...\n",
      "Processed 6500 chunks...\n",
      "Processed 6600 chunks...\n",
      "Processed 6700 chunks...\n",
      "Processed 6800 chunks...\n",
      "Processed 6900 chunks...\n",
      "Processed 7000 chunks...\n",
      "Processed 7100 chunks...\n",
      "Processed 7200 chunks...\n",
      "Processed 7230 chunks and saved to file 5.csv\n",
      "Processed remaining chunks and saved to file 6.csv\n",
      "Time taken to filter and process the CSV: 11205.48 seconds\n",
      "Total number of chunks processed: 7233\n"
     ]
    }
   ],
   "source": [
    "def filter_and_rename_csv_gzip(file_path, df_ad_cleaned, chunk_size=100000, chunks_per_file=1205):\n",
    "    #convert df_ad_cleaned to a set of tuples for fast lookup\n",
    "    ad_cleaned_set = set(df_ad_cleaned[['cate_id', 'brand']].itertuples(index=False, name=None))\n",
    "    \n",
    "    filtered_chunks = []\n",
    "    \n",
    "    #Start the timer\n",
    "    start_time = time.time()\n",
    "    chunk_count = 0\n",
    "    file_count = 0\n",
    "    \n",
    "    #open the gzipped file\n",
    "    with gzip.open(file_path, 'rt') as f:\n",
    "        #read the file in chunks \n",
    "        for chunk in pd.read_csv(f, chunksize=chunk_size):\n",
    "            #rename columns of the behaviour log in the chunk to match the ones in the merged dataset \n",
    "            chunk.rename(columns={'cate': 'cate_id'}, inplace=True)\n",
    "            \n",
    "            #convert to tuples for fast lookup\n",
    "            chunk_tuples = chunk[['cate_id', 'brand']].apply(tuple, axis=1)\n",
    "            \n",
    "            #filter the chunk to include only rows with matching cate_id and brand\n",
    "            filtered_chunk = chunk[chunk_tuples.isin(ad_cleaned_set)]\n",
    "            \n",
    "            #append the filtered chunk to the list\n",
    "            if not filtered_chunk.empty:\n",
    "                filtered_chunks.append(filtered_chunk)\n",
    "            \n",
    "            chunk_count += 1\n",
    "            \n",
    "            #print progress every 100 chunks to track it\n",
    "            if chunk_count % 100 == 0:\n",
    "                print(f\"Processed {chunk_count} chunks...\")\n",
    "            \n",
    "            #save the file after processing 1205 chunks\n",
    "            if chunk_count % chunks_per_file == 0:\n",
    "                #concatenate all filtered chunks into a single df for this batch\n",
    "                batch_df = pd.concat(filtered_chunks, ignore_index=True)\n",
    "                #save to a new file\n",
    "                batch_df.to_csv(f'filtered_results_{file_count}.csv', index=False)\n",
    "                print(f\"Processed {chunk_count} chunks and saved to file {file_count}.csv\")\n",
    "                #clear the list of filtered chunks\n",
    "                filtered_chunks = []\n",
    "                file_count += 1\n",
    "    \n",
    "    #save any remaining chunks to a final file\n",
    "    if filtered_chunks:\n",
    "        batch_df = pd.concat(filtered_chunks, ignore_index=True)\n",
    "        batch_df.to_csv(f'filtered_results_{file_count}.csv', index=False)\n",
    "        print(f\"Processed remaining chunks and saved to file {file_count}.csv\")\n",
    "    \n",
    "    #stop the timer and print the elapsed time\n",
    "    elapsed_time = time.time() - start_time\n",
    "    print(f\"Time taken to filter and process the CSV: {elapsed_time:.2f} seconds\")\n",
    "    print(f\"Total number of chunks processed: {chunk_count}\")\n",
    "\n",
    "#define the path of the behaviour dataset large gzipped CSV file\n",
    "file_path = 'C:\\\\Users\\\\riham\\\\Desktop\\\\Jupyter Notebook\\\\Research project\\\\behavior_log.csv.tar.gz'\n",
    "\n",
    "#use the function to filter the CSV file\n",
    "filter_and_rename_csv_gzip(file_path, df_ad_cleaned)"
   ]
  },
  {
   "cell_type": "markdown",
   "id": "8e12ef41-d984-4124-95e7-0e73f1ebaa89",
   "metadata": {},
   "source": [
    "With the behaviour dataset split into separate files, the next step is to identify and filter the desired users. Users will be separated into those who clicked and those who did not click to investigate the presence of any duplicates."
   ]
  },
  {
   "cell_type": "markdown",
   "id": "4ecf0885-bcd9-4ad2-844a-20dab7a0e91b",
   "metadata": {},
   "source": [
    "### 2.7. Users characteristics"
   ]
  },
  {
   "cell_type": "markdown",
   "id": "56c9ba36-4f13-408b-aea2-0a14a7600ca3",
   "metadata": {},
   "source": [
    "#### 2.7.1. Unique users"
   ]
  },
  {
   "cell_type": "code",
   "execution_count": 31,
   "id": "3c0db0f3-6613-4cab-a803-f57dba49b9c1",
   "metadata": {},
   "outputs": [
    {
     "data": {
      "text/plain": [
       "388162"
      ]
     },
     "execution_count": 31,
     "metadata": {},
     "output_type": "execute_result"
    }
   ],
   "source": [
    "other_df[\"user\"].nunique()"
   ]
  },
  {
   "cell_type": "markdown",
   "id": "dd4713bb-f17b-4702-9b53-0b809855649e",
   "metadata": {},
   "source": [
    "Overall, there are 388K unique users."
   ]
  },
  {
   "cell_type": "markdown",
   "id": "16958648-cda2-4d25-bcab-10853a76f8b2",
   "metadata": {},
   "source": [
    "#### 2.7.2. Users who clicked"
   ]
  },
  {
   "cell_type": "code",
   "execution_count": 32,
   "id": "eebb42c1-1ced-4148-bee6-80b9b85d5778",
   "metadata": {},
   "outputs": [],
   "source": [
    "#filter rows where column \"clk\" == 1\n",
    "clicked_users = other_df[other_df['clk'] == 1]"
   ]
  },
  {
   "cell_type": "code",
   "execution_count": 33,
   "id": "598c5e96-ffae-4501-ba38-5aced5d647e2",
   "metadata": {},
   "outputs": [
    {
     "data": {
      "text/plain": [
       "148608"
      ]
     },
     "execution_count": 33,
     "metadata": {},
     "output_type": "execute_result"
    }
   ],
   "source": [
    "#inspect number of unique users \n",
    "clicked_users['user'].nunique()"
   ]
  },
  {
   "cell_type": "markdown",
   "id": "79ee4698-26a7-4cb9-9452-d0e19e14c4c4",
   "metadata": {},
   "source": [
    "There are 141K unique users who clicked. "
   ]
  },
  {
   "cell_type": "markdown",
   "id": "c61a9bf1-d1de-4579-82f0-85f44938df89",
   "metadata": {},
   "source": [
    "#### 2.7.3. Users who did not click"
   ]
  },
  {
   "cell_type": "code",
   "execution_count": 34,
   "id": "31ae3d90-4edb-4461-9f55-901a3ecb2298",
   "metadata": {},
   "outputs": [],
   "source": [
    "#filter rows where column \"clk\" == 0\n",
    "non_clicked_users = other_df[other_df['clk'] == 0]"
   ]
  },
  {
   "cell_type": "code",
   "execution_count": 35,
   "id": "5f612ca3-fc78-4893-97ee-cfd7391686af",
   "metadata": {},
   "outputs": [
    {
     "data": {
      "text/plain": [
       "385363"
      ]
     },
     "execution_count": 35,
     "metadata": {},
     "output_type": "execute_result"
    }
   ],
   "source": [
    "#inspect number of unique users \n",
    "non_clicked_users['user'].nunique()"
   ]
  },
  {
   "cell_type": "markdown",
   "id": "68e0455e-fd50-4385-8c7f-b231cfbbd027",
   "metadata": {},
   "source": [
    "There are 381K unique users who did not click."
   ]
  },
  {
   "cell_type": "markdown",
   "id": "09fc687d-672d-495b-a420-9c54e7e8e599",
   "metadata": {},
   "source": [
    "#### 2.7.4. Overall shape of both"
   ]
  },
  {
   "cell_type": "code",
   "execution_count": 36,
   "id": "5f7a8cf0-ecfe-4b37-886e-63305d34af60",
   "metadata": {},
   "outputs": [
    {
     "data": {
      "text/plain": [
       "(6659039, 19)"
      ]
     },
     "execution_count": 36,
     "metadata": {},
     "output_type": "execute_result"
    }
   ],
   "source": [
    "non_clicked_users.shape"
   ]
  },
  {
   "cell_type": "code",
   "execution_count": 37,
   "id": "7e7d1ee4-1469-4b7f-8dfd-acf20375c554",
   "metadata": {},
   "outputs": [
    {
     "data": {
      "text/plain": [
       "(344526, 19)"
      ]
     },
     "execution_count": 37,
     "metadata": {},
     "output_type": "execute_result"
    }
   ],
   "source": [
    "clicked_users.shape"
   ]
  },
  {
   "cell_type": "markdown",
   "id": "adf2b977-5732-41da-994b-ed86d70e606a",
   "metadata": {},
   "source": [
    "The overall shape compared to the unique shape indicates that many users are recurrent. A new dataset will be created containing only unique users to reduce the size of the dataframe and eliminate duplicate information."
   ]
  },
  {
   "cell_type": "code",
   "execution_count": 38,
   "id": "12e988a3-6baa-4388-a020-fc022671eda6",
   "metadata": {},
   "outputs": [],
   "source": [
    "#get unique clicked users \n",
    "clicked_users_df = other_df[other_df['clk'] == 1].drop_duplicates(subset='user')\n",
    "\n",
    "#get unique non-clicked users \n",
    "non_clicked_users_df = other_df[other_df['clk'] == 0].drop_duplicates(subset='user')\n",
    "\n",
    "#concatenate both dfs\n",
    "merged_df = pd.concat([clicked_users_df, non_clicked_users_df])\n",
    "\n",
    "#reset the index \n",
    "merged_df.reset_index(drop=True, inplace=True)"
   ]
  },
  {
   "cell_type": "code",
   "execution_count": 39,
   "id": "13eddfe6-6b37-4ccd-b881-533a7985c50a",
   "metadata": {},
   "outputs": [
    {
     "data": {
      "text/plain": [
       "(533971, 19)"
      ]
     },
     "execution_count": 39,
     "metadata": {},
     "output_type": "execute_result"
    }
   ],
   "source": [
    "#inspect the new size\n",
    "merged_df.shape"
   ]
  },
  {
   "cell_type": "markdown",
   "id": "2c6503a5-75af-40d5-9f22-b7ff52dfb37a",
   "metadata": {},
   "source": [
    "The new dataset, containing only unique users, has been created with a reduced size. Next, the dataset will be examined to identify any users who clicked on one ad but did not click on another."
   ]
  },
  {
   "cell_type": "code",
   "execution_count": 40,
   "id": "24646f98-be4f-4cb3-9fee-d4d2eeaf7c10",
   "metadata": {},
   "outputs": [
    {
     "data": {
      "text/plain": [
       "user\n",
       "642854     2\n",
       "311954     2\n",
       "844162     2\n",
       "970090     2\n",
       "471726     2\n",
       "          ..\n",
       "7389       1\n",
       "512074     1\n",
       "221691     1\n",
       "567229     1\n",
       "1022567    1\n",
       "Name: count, Length: 388162, dtype: int64"
      ]
     },
     "execution_count": 40,
     "metadata": {},
     "output_type": "execute_result"
    }
   ],
   "source": [
    "merged_df['user'].value_counts()"
   ]
  },
  {
   "cell_type": "markdown",
   "id": "3e24dcda-cc6e-4827-9ae4-b4ef81a17acd",
   "metadata": {},
   "source": [
    "The dataset includes only unique users who clicked and did not click on an ad. A user with a frequency of 2 indicates that they were part of both the \"click\" and \"not clicked\" datasets. These users must be prioritised in the upcoming sampling, as they could be beneficial to the machine learning models due to having the same characteristics but different ad-clicking outcomes."
   ]
  },
  {
   "cell_type": "code",
   "execution_count": 41,
   "id": "8934ef37-b2e8-4d68-9114-1830094c3d8f",
   "metadata": {},
   "outputs": [
    {
     "data": {
      "text/html": [
       "<div>\n",
       "<style scoped>\n",
       "    .dataframe tbody tr th:only-of-type {\n",
       "        vertical-align: middle;\n",
       "    }\n",
       "\n",
       "    .dataframe tbody tr th {\n",
       "        vertical-align: top;\n",
       "    }\n",
       "\n",
       "    .dataframe thead th {\n",
       "        text-align: right;\n",
       "    }\n",
       "</style>\n",
       "<table border=\"1\" class=\"dataframe\">\n",
       "  <thead>\n",
       "    <tr style=\"text-align: right;\">\n",
       "      <th></th>\n",
       "      <th>user</th>\n",
       "      <th>time_stamp</th>\n",
       "      <th>adgroup_id</th>\n",
       "      <th>pid</th>\n",
       "      <th>nonclk</th>\n",
       "      <th>clk</th>\n",
       "      <th>cate_id</th>\n",
       "      <th>campaign_id</th>\n",
       "      <th>customer</th>\n",
       "      <th>brand</th>\n",
       "      <th>price</th>\n",
       "      <th>cms_segid</th>\n",
       "      <th>cms_group_id</th>\n",
       "      <th>final_gender_code</th>\n",
       "      <th>age_level</th>\n",
       "      <th>pvalue_level</th>\n",
       "      <th>shopping_level</th>\n",
       "      <th>occupation</th>\n",
       "      <th>new_user_class_level</th>\n",
       "    </tr>\n",
       "  </thead>\n",
       "  <tbody>\n",
       "    <tr>\n",
       "      <th>0</th>\n",
       "      <td>642854</td>\n",
       "      <td>1494264162</td>\n",
       "      <td>102</td>\n",
       "      <td>430539_1007</td>\n",
       "      <td>0</td>\n",
       "      <td>1</td>\n",
       "      <td>126</td>\n",
       "      <td>138148</td>\n",
       "      <td>20107</td>\n",
       "      <td>102457</td>\n",
       "      <td>98.0</td>\n",
       "      <td>8</td>\n",
       "      <td>2</td>\n",
       "      <td>2</td>\n",
       "      <td>2</td>\n",
       "      <td>2</td>\n",
       "      <td>3</td>\n",
       "      <td>0</td>\n",
       "      <td>3</td>\n",
       "    </tr>\n",
       "    <tr>\n",
       "      <th>1</th>\n",
       "      <td>843732</td>\n",
       "      <td>1494420431</td>\n",
       "      <td>102</td>\n",
       "      <td>430539_1007</td>\n",
       "      <td>0</td>\n",
       "      <td>1</td>\n",
       "      <td>126</td>\n",
       "      <td>138148</td>\n",
       "      <td>20107</td>\n",
       "      <td>102457</td>\n",
       "      <td>98.0</td>\n",
       "      <td>19</td>\n",
       "      <td>3</td>\n",
       "      <td>2</td>\n",
       "      <td>3</td>\n",
       "      <td>2</td>\n",
       "      <td>3</td>\n",
       "      <td>0</td>\n",
       "      <td>2</td>\n",
       "    </tr>\n",
       "    <tr>\n",
       "      <th>2</th>\n",
       "      <td>1076956</td>\n",
       "      <td>1494334701</td>\n",
       "      <td>102</td>\n",
       "      <td>430539_1007</td>\n",
       "      <td>0</td>\n",
       "      <td>1</td>\n",
       "      <td>126</td>\n",
       "      <td>138148</td>\n",
       "      <td>20107</td>\n",
       "      <td>102457</td>\n",
       "      <td>98.0</td>\n",
       "      <td>19</td>\n",
       "      <td>3</td>\n",
       "      <td>2</td>\n",
       "      <td>3</td>\n",
       "      <td>2</td>\n",
       "      <td>3</td>\n",
       "      <td>0</td>\n",
       "      <td>2</td>\n",
       "    </tr>\n",
       "    <tr>\n",
       "      <th>3</th>\n",
       "      <td>358193</td>\n",
       "      <td>1494393953</td>\n",
       "      <td>102</td>\n",
       "      <td>430548_1007</td>\n",
       "      <td>0</td>\n",
       "      <td>1</td>\n",
       "      <td>126</td>\n",
       "      <td>138148</td>\n",
       "      <td>20107</td>\n",
       "      <td>102457</td>\n",
       "      <td>98.0</td>\n",
       "      <td>7</td>\n",
       "      <td>2</td>\n",
       "      <td>2</td>\n",
       "      <td>2</td>\n",
       "      <td>2</td>\n",
       "      <td>3</td>\n",
       "      <td>0</td>\n",
       "      <td>1</td>\n",
       "    </tr>\n",
       "    <tr>\n",
       "      <th>4</th>\n",
       "      <td>1002263</td>\n",
       "      <td>1494513830</td>\n",
       "      <td>102</td>\n",
       "      <td>430539_1007</td>\n",
       "      <td>0</td>\n",
       "      <td>1</td>\n",
       "      <td>126</td>\n",
       "      <td>138148</td>\n",
       "      <td>20107</td>\n",
       "      <td>102457</td>\n",
       "      <td>98.0</td>\n",
       "      <td>19</td>\n",
       "      <td>3</td>\n",
       "      <td>2</td>\n",
       "      <td>3</td>\n",
       "      <td>2</td>\n",
       "      <td>3</td>\n",
       "      <td>0</td>\n",
       "      <td>2</td>\n",
       "    </tr>\n",
       "  </tbody>\n",
       "</table>\n",
       "</div>"
      ],
      "text/plain": [
       "      user  time_stamp  adgroup_id          pid  nonclk  clk  cate_id  \\\n",
       "0   642854  1494264162         102  430539_1007       0    1      126   \n",
       "1   843732  1494420431         102  430539_1007       0    1      126   \n",
       "2  1076956  1494334701         102  430539_1007       0    1      126   \n",
       "3   358193  1494393953         102  430548_1007       0    1      126   \n",
       "4  1002263  1494513830         102  430539_1007       0    1      126   \n",
       "\n",
       "   campaign_id  customer   brand  price  cms_segid  cms_group_id  \\\n",
       "0       138148     20107  102457   98.0          8             2   \n",
       "1       138148     20107  102457   98.0         19             3   \n",
       "2       138148     20107  102457   98.0         19             3   \n",
       "3       138148     20107  102457   98.0          7             2   \n",
       "4       138148     20107  102457   98.0         19             3   \n",
       "\n",
       "   final_gender_code  age_level  pvalue_level  shopping_level  occupation  \\\n",
       "0                  2          2             2               3           0   \n",
       "1                  2          3             2               3           0   \n",
       "2                  2          3             2               3           0   \n",
       "3                  2          2             2               3           0   \n",
       "4                  2          3             2               3           0   \n",
       "\n",
       "   new_user_class_level  \n",
       "0                     3  \n",
       "1                     2  \n",
       "2                     2  \n",
       "3                     1  \n",
       "4                     2  "
      ]
     },
     "execution_count": 41,
     "metadata": {},
     "output_type": "execute_result"
    }
   ],
   "source": [
    "#get an overview of the new dataset \n",
    "merged_df.head()"
   ]
  },
  {
   "cell_type": "code",
   "execution_count": 42,
   "id": "97b28117-f8c9-4baa-a455-b1adfdce4e8c",
   "metadata": {},
   "outputs": [
    {
     "data": {
      "text/plain": [
       "clk\n",
       "0    385363\n",
       "1    148608\n",
       "Name: count, dtype: int64"
      ]
     },
     "execution_count": 42,
     "metadata": {},
     "output_type": "execute_result"
    }
   ],
   "source": [
    "#inspect the target variable count \n",
    "merged_df['clk'].value_counts()"
   ]
  },
  {
   "cell_type": "code",
   "execution_count": 43,
   "id": "8196b23a-a010-4ff2-ac57-e46d77d601a8",
   "metadata": {},
   "outputs": [
    {
     "data": {
      "text/plain": [
       "clk\n",
       "0    0.721693\n",
       "1    0.278307\n",
       "Name: proportion, dtype: float64"
      ]
     },
     "execution_count": 43,
     "metadata": {},
     "output_type": "execute_result"
    }
   ],
   "source": [
    "#inspect the distribution of the target variable\n",
    "merged_df['clk'].value_counts(normalize=True)"
   ]
  },
  {
   "cell_type": "markdown",
   "id": "c3c7f2ad-549a-49df-a747-5d97837408c4",
   "metadata": {},
   "source": [
    "The proportions did shift compared to the intitial dataset, however the original distribution is still conserved to an acceptable degree."
   ]
  },
  {
   "cell_type": "code",
   "execution_count": 44,
   "id": "dfb1b38f-e513-4638-93fb-9be8ef78fcec",
   "metadata": {},
   "outputs": [
    {
     "data": {
      "text/plain": [
       "(533971, 19)"
      ]
     },
     "execution_count": 44,
     "metadata": {},
     "output_type": "execute_result"
    }
   ],
   "source": [
    "#inspect the new dataset shape\n",
    "merged_df.shape"
   ]
  },
  {
   "cell_type": "markdown",
   "id": "3413c257-adb8-45d4-ac15-83c0a398034e",
   "metadata": {},
   "source": [
    "The size of the users has been significantly downsized to almost half compared to the intial dataset. "
   ]
  },
  {
   "cell_type": "markdown",
   "id": "f18c7851-f469-4ccc-b24a-e64c08f789ea",
   "metadata": {},
   "source": [
    "### 2.8. The behaviour dataset processing"
   ]
  },
  {
   "cell_type": "markdown",
   "id": "823bcda5-dfe3-440d-a0e6-e5347b531872",
   "metadata": {},
   "source": [
    "For each CSV file that was saved previously, the same code will be run to extract only the rows matching the user, brand, and category IDs of the merged_df dataset. Ideally, this could be done in a single code execution and saved in one CSV file, but due to memory limitations, it must be broken into parts, with each CSV file treated separately."
   ]
  },
  {
   "cell_type": "markdown",
   "id": "de8a1d1e-a8a4-4b2d-b0a9-edc9773d1131",
   "metadata": {},
   "source": [
    "#### 2.8.1. First file"
   ]
  },
  {
   "cell_type": "code",
   "execution_count": 53,
   "id": "b1b36cc3-ea61-4a91-b843-a874bd09ed2f",
   "metadata": {},
   "outputs": [
    {
     "name": "stdout",
     "output_type": "stream",
     "text": [
      "Processed 100 chunks...\n",
      "Processed 200 chunks...\n",
      "Processed 300 chunks...\n",
      "Processed 400 chunks...\n",
      "Processed 500 chunks...\n",
      "Processed 600 chunks...\n",
      "Processed 700 chunks...\n",
      "Filtered DataFrame Shape: (403773, 5)\n",
      "      user  time_stamp btag  cate_id   brand\n",
      "0  1023869  1493765344   pv     9460  316040\n",
      "1   203542  1493809161   pv     7208  289629\n",
      "2   967005  1493823837   pv     4377  139797\n",
      "3   577498  1493779396   pv    11153  441003\n",
      "4   577498  1493778987   pv    11153  441003\n"
     ]
    }
   ],
   "source": [
    "def filter_csv_by_user_ids(file_path, merged_df, chunk_size=100000, progress_interval=100):\n",
    "    #extract unique combinations of 'user', 'cate_id', 'brand' from merged_df\n",
    "    user_cate_brand_set = set(merged_df[['user', 'cate_id', 'brand']].itertuples(index=False, name=None))\n",
    "    \n",
    "    filtered_chunks = []\n",
    "    chunk_count = 0\n",
    "    \n",
    "    #open the CSV file and read in chunks\n",
    "    for chunk in pd.read_csv(file_path, chunksize=chunk_size):\n",
    "        chunk_count += 1\n",
    "        \n",
    "        #filter the chunk to include only rows with matching 'user', 'cate_id', and 'brand'\n",
    "        chunk_tuples = chunk[['behavior_log.csv', 'cate_id', 'brand']].apply(tuple, axis=1)\n",
    "        filtered_chunk = chunk[chunk_tuples.isin(user_cate_brand_set)]\n",
    "        \n",
    "        #append the filtered chunk to the list\n",
    "        if not filtered_chunk.empty:\n",
    "            filtered_chunks.append(filtered_chunk)\n",
    "        \n",
    "        #print progress every 100 chunks\n",
    "        if chunk_count % progress_interval == 0:\n",
    "            print(f\"Processed {chunk_count} chunks...\")\n",
    "    \n",
    "    #concatenate all the filtered chunks into a single DataFrame\n",
    "    filtered_df = pd.concat(filtered_chunks, ignore_index=True)\n",
    "    \n",
    "    #rename the 'behavior_log.csv' column to 'user'\n",
    "    filtered_df.rename(columns={'behavior_log.csv': 'user'}, inplace=True)\n",
    "    \n",
    "    return filtered_df\n",
    "\n",
    "\n",
    "#path to the first behaviour csv file \n",
    "file_path = 'C:\\\\Users\\\\riham\\\\Desktop\\\\Jupyter Notebook\\\\Research project\\\\filtered_results_0.csv'\n",
    "\n",
    "#use the function to filter the CSV file\n",
    "first_filter_bh = filter_csv_by_user_ids(file_path, merged_df)\n",
    "\n",
    "#print the shape and first few rows of the filtered DataFrame to verify\n",
    "print(f\"Filtered DataFrame Shape: {first_filter_bh.shape}\")\n",
    "print(first_filter_bh.head())"
   ]
  },
  {
   "cell_type": "markdown",
   "id": "aca3f5cc-f88e-4cdf-bbc6-5ede1c7b7b85",
   "metadata": {},
   "source": [
    "#### 2.8.2. Second file"
   ]
  },
  {
   "cell_type": "code",
   "execution_count": 59,
   "id": "9cff12d7-ab4e-41e0-b98c-37812700ea64",
   "metadata": {},
   "outputs": [
    {
     "name": "stdout",
     "output_type": "stream",
     "text": [
      "Processed 100 chunks...\n",
      "Processed 200 chunks...\n",
      "Processed 300 chunks...\n",
      "Processed 400 chunks...\n",
      "Processed 500 chunks...\n",
      "Processed 600 chunks...\n",
      "Processed 700 chunks...\n",
      "Filtered DataFrame Shape: (441047, 5)\n",
      "     user  time_stamp btag  cate_id   brand\n",
      "0    6996  1493823272   pv     6806  453462\n",
      "1  441450  1493807565   pv     6736  396805\n",
      "2  441450  1493807571   pv     6736  396805\n",
      "3  631381  1493812848   pv     6261  136767\n",
      "4  631381  1493812829   pv     6261  136767\n"
     ]
    }
   ],
   "source": [
    "def filter_csv_by_user_ids(file_path, merged_df, chunk_size=100000, progress_interval=100):\n",
    "    #extract unique combinations of 'user', 'cate_id', 'brand' from merged_df\n",
    "    user_cate_brand_set = set(merged_df[['user', 'cate_id', 'brand']].itertuples(index=False, name=None))\n",
    "    \n",
    "    filtered_chunks = []\n",
    "    chunk_count = 0\n",
    "    \n",
    "    #open the CSV file and read in chunks\n",
    "    for chunk in pd.read_csv(file_path, chunksize=chunk_size):\n",
    "        chunk_count += 1\n",
    "        \n",
    "        # Filter the chunk to include only rows with matching 'user', 'cate_id', 'brand', and 'adgroup_id'\n",
    "        chunk_tuples = chunk[['behavior_log.csv', 'cate_id', 'brand']].apply(tuple, axis=1)\n",
    "        filtered_chunk = chunk[chunk_tuples.isin(user_cate_brand_set)]\n",
    "        \n",
    "        # Append the filtered chunk to the list\n",
    "        if not filtered_chunk.empty:\n",
    "            filtered_chunks.append(filtered_chunk)\n",
    "        \n",
    "        # Print progress every `progress_interval` chunks\n",
    "        if chunk_count % progress_interval == 0:\n",
    "            print(f\"Processed {chunk_count} chunks...\")\n",
    "    \n",
    "    # Concatenate all the filtered chunks into a single DataFrame\n",
    "    filtered_df = pd.concat(filtered_chunks, ignore_index=True)\n",
    "    \n",
    "    # Rename the 'behavior_log.csv' column to 'user'\n",
    "    filtered_df.rename(columns={'behavior_log.csv': 'user'}, inplace=True)\n",
    "    \n",
    "    return filtered_df\n",
    "\n",
    "# Assuming `combined_df` is the DataFrame containing the final 'user', 'cate_id', 'brand', and 'adgroup_id' combinations\n",
    "# Path to your regular CSV file\n",
    "file_path = 'C:\\\\Users\\\\riham\\\\Desktop\\\\Jupyter Notebook\\\\Research project\\\\filtered_results_1.csv'\n",
    "\n",
    "# Use the function to filter the CSV file\n",
    "second_filter_bh = filter_csv_by_user_ids(file_path, merged_df)\n",
    "\n",
    "# Print the shape and first few rows of the filtered DataFrame to verify\n",
    "print(f\"Filtered DataFrame Shape: {second_filter_bh.shape}\")\n",
    "print(second_filter_bh.head())"
   ]
  },
  {
   "cell_type": "markdown",
   "id": "b7129de5-6a46-4d13-a2d3-e60b29a88626",
   "metadata": {},
   "source": [
    "#### 2.8.3. Third file"
   ]
  },
  {
   "cell_type": "code",
   "execution_count": 54,
   "id": "eb957b98-a807-4a1a-aeb4-34ff2a691c13",
   "metadata": {},
   "outputs": [
    {
     "name": "stdout",
     "output_type": "stream",
     "text": [
      "Processed 100 chunks...\n",
      "Processed 200 chunks...\n",
      "Processed 300 chunks...\n",
      "Processed 400 chunks...\n",
      "Processed 500 chunks...\n",
      "Processed 600 chunks...\n",
      "Processed 700 chunks...\n",
      "Filtered DataFrame Shape: (514752, 5)\n",
      "    user  time_stamp btag  cate_id  brand\n",
      "0  47038  1493108532   pv     6261  96354\n",
      "1  47038  1493108539   pv     6261  96354\n",
      "2  47038  1493108516   pv     6261  96354\n",
      "3  47038  1493108496   pv     6261  96354\n",
      "4  47038  1493108532   pv     6261  96354\n"
     ]
    }
   ],
   "source": [
    "def filter_csv_by_user_ids(file_path, merged_df, chunk_size=100000, progress_interval=100):\n",
    "    # Extract unique combinations of 'user', 'cate_id', 'brand', and 'adgroup_id' from combined_df\n",
    "    user_cate_brand_set = set(merged_df[['user', 'cate_id', 'brand']].itertuples(index=False, name=None))\n",
    "    \n",
    "    filtered_chunks = []\n",
    "    chunk_count = 0\n",
    "    \n",
    "    # Open the CSV file and read in chunks\n",
    "    for chunk in pd.read_csv(file_path, chunksize=chunk_size):\n",
    "        chunk_count += 1\n",
    "        \n",
    "        # Filter the chunk to include only rows with matching 'user', 'cate_id', 'brand', and 'adgroup_id'\n",
    "        chunk_tuples = chunk[['behavior_log.csv', 'cate_id', 'brand']].apply(tuple, axis=1)\n",
    "        filtered_chunk = chunk[chunk_tuples.isin(user_cate_brand_set)]\n",
    "        \n",
    "        # Append the filtered chunk to the list\n",
    "        if not filtered_chunk.empty:\n",
    "            filtered_chunks.append(filtered_chunk)\n",
    "        \n",
    "        # Print progress every `progress_interval` chunks\n",
    "        if chunk_count % progress_interval == 0:\n",
    "            print(f\"Processed {chunk_count} chunks...\")\n",
    "    \n",
    "    # Concatenate all the filtered chunks into a single DataFrame\n",
    "    filtered_df = pd.concat(filtered_chunks, ignore_index=True)\n",
    "    \n",
    "    # Rename the 'behavior_log.csv' column to 'user'\n",
    "    filtered_df.rename(columns={'behavior_log.csv': 'user'}, inplace=True)\n",
    "    \n",
    "    return filtered_df\n",
    "\n",
    "# Assuming `combined_df` is the DataFrame containing the final 'user', 'cate_id', 'brand', and 'adgroup_id' combinations\n",
    "# Path to your regular CSV file\n",
    "file_path = 'C:\\\\Users\\\\riham\\\\Desktop\\\\Jupyter Notebook\\\\Research project\\\\filtered_results_2.csv'\n",
    "\n",
    "# Use the function to filter the CSV file\n",
    "third_filter_bh = filter_csv_by_user_ids(file_path, merged_df)\n",
    "\n",
    "# Print the shape and first few rows of the filtered DataFrame to verify\n",
    "print(f\"Filtered DataFrame Shape: {third_filter_bh.shape}\")\n",
    "print(third_filter_bh.head())"
   ]
  },
  {
   "cell_type": "markdown",
   "id": "325d37fe-edb2-44bd-ad13-7b5407bb68db",
   "metadata": {},
   "source": [
    "#### 2.8.4. Fourth file"
   ]
  },
  {
   "cell_type": "code",
   "execution_count": 55,
   "id": "bc0eadac-2080-4949-b3f1-593477e6e068",
   "metadata": {},
   "outputs": [
    {
     "name": "stdout",
     "output_type": "stream",
     "text": [
      "Processed 100 chunks...\n",
      "Processed 200 chunks...\n",
      "Processed 300 chunks...\n",
      "Processed 400 chunks...\n",
      "Processed 500 chunks...\n",
      "Processed 600 chunks...\n",
      "Processed 700 chunks...\n",
      "Filtered DataFrame Shape: (414414, 5)\n",
      "     user  time_stamp btag  cate_id   brand\n",
      "0  997893  1493987951   pv        1  185160\n",
      "1  997893  1493951661   pv        1  185160\n",
      "2  997893  1493951660   pv        1  185160\n",
      "3  997893  1493951603   pv        1  185160\n",
      "4  997893  1493951583   pv        1  185160\n"
     ]
    }
   ],
   "source": [
    "def filter_csv_by_user_ids(file_path, merged_df, chunk_size=100000, progress_interval=100):\n",
    "    # Extract unique combinations of 'user', 'cate_id', 'brand', and 'adgroup_id' from combined_df\n",
    "    user_cate_brand_set = set(merged_df[['user', 'cate_id', 'brand']].itertuples(index=False, name=None))\n",
    "    \n",
    "    filtered_chunks = []\n",
    "    chunk_count = 0\n",
    "    \n",
    "    # Open the CSV file and read in chunks\n",
    "    for chunk in pd.read_csv(file_path, chunksize=chunk_size):\n",
    "        chunk_count += 1\n",
    "        \n",
    "        # Filter the chunk to include only rows with matching 'user', 'cate_id', 'brand', and 'adgroup_id'\n",
    "        chunk_tuples = chunk[['behavior_log.csv', 'cate_id', 'brand']].apply(tuple, axis=1)\n",
    "        filtered_chunk = chunk[chunk_tuples.isin(user_cate_brand_set)]\n",
    "        \n",
    "        # Append the filtered chunk to the list\n",
    "        if not filtered_chunk.empty:\n",
    "            filtered_chunks.append(filtered_chunk)\n",
    "        \n",
    "        # Print progress every `progress_interval` chunks\n",
    "        if chunk_count % progress_interval == 0:\n",
    "            print(f\"Processed {chunk_count} chunks...\")\n",
    "    \n",
    "    # Concatenate all the filtered chunks into a single DataFrame\n",
    "    filtered_df = pd.concat(filtered_chunks, ignore_index=True)\n",
    "    \n",
    "    # Rename the 'behavior_log.csv' column to 'user'\n",
    "    filtered_df.rename(columns={'behavior_log.csv': 'user'}, inplace=True)\n",
    "    \n",
    "    return filtered_df\n",
    "\n",
    "# Assuming `combined_df` is the DataFrame containing the final 'user', 'cate_id', 'brand', and 'adgroup_id' combinations\n",
    "# Path to your regular CSV file\n",
    "file_path = 'C:\\\\Users\\\\riham\\\\Desktop\\\\Jupyter Notebook\\\\Research project\\\\filtered_results_3.csv'\n",
    "\n",
    "# Use the function to filter the CSV file\n",
    "fourth_filter_bh = filter_csv_by_user_ids(file_path, merged_df)\n",
    "\n",
    "# Print the shape and first few rows of the filtered DataFrame to verify\n",
    "print(f\"Filtered DataFrame Shape: {fourth_filter_bh.shape}\")\n",
    "print(fourth_filter_bh.head())"
   ]
  },
  {
   "cell_type": "markdown",
   "id": "c3833829-901a-4216-8002-c91ab4dd8396",
   "metadata": {},
   "source": [
    "#### 2.8.5. Fifth file"
   ]
  },
  {
   "cell_type": "code",
   "execution_count": 56,
   "id": "4a2ee54f-7296-4723-94b9-66f618db2408",
   "metadata": {},
   "outputs": [
    {
     "name": "stdout",
     "output_type": "stream",
     "text": [
      "Processed 100 chunks...\n",
      "Processed 200 chunks...\n",
      "Processed 300 chunks...\n",
      "Processed 400 chunks...\n",
      "Processed 500 chunks...\n",
      "Processed 600 chunks...\n",
      "Processed 700 chunks...\n",
      "Filtered DataFrame Shape: (310984, 5)\n",
      "     user  time_stamp btag  cate_id   brand\n",
      "0  230939  1494592425   pv     6057   70992\n",
      "1  502932  1494555089   pv     6181  242771\n",
      "2  502932  1494555098   pv     6181  242771\n",
      "3  502932  1494555098   pv     6181  242771\n",
      "4  788774  1494576649   pv    11480  242206\n"
     ]
    }
   ],
   "source": [
    "def filter_csv_by_user_ids(file_path, merged_df, chunk_size=100000, progress_interval=100):\n",
    "    # Extract unique combinations of 'user', 'cate_id', 'brand', and 'adgroup_id' from combined_df\n",
    "    user_cate_brand_set = set(merged_df[['user', 'cate_id', 'brand']].itertuples(index=False, name=None))\n",
    "    \n",
    "    filtered_chunks = []\n",
    "    chunk_count = 0\n",
    "    \n",
    "    # Open the CSV file and read in chunks\n",
    "    for chunk in pd.read_csv(file_path, chunksize=chunk_size):\n",
    "        chunk_count += 1\n",
    "        \n",
    "        # Filter the chunk to include only rows with matching 'user', 'cate_id', 'brand', and 'adgroup_id'\n",
    "        chunk_tuples = chunk[['behavior_log.csv', 'cate_id', 'brand']].apply(tuple, axis=1)\n",
    "        filtered_chunk = chunk[chunk_tuples.isin(user_cate_brand_set)]\n",
    "        \n",
    "        # Append the filtered chunk to the list\n",
    "        if not filtered_chunk.empty:\n",
    "            filtered_chunks.append(filtered_chunk)\n",
    "        \n",
    "        # Print progress every `progress_interval` chunks\n",
    "        if chunk_count % progress_interval == 0:\n",
    "            print(f\"Processed {chunk_count} chunks...\")\n",
    "    \n",
    "    # Concatenate all the filtered chunks into a single DataFrame\n",
    "    filtered_df = pd.concat(filtered_chunks, ignore_index=True)\n",
    "    \n",
    "    # Rename the 'behavior_log.csv' column to 'user'\n",
    "    filtered_df.rename(columns={'behavior_log.csv': 'user'}, inplace=True)\n",
    "    \n",
    "    return filtered_df\n",
    "\n",
    "# Assuming `combined_df` is the DataFrame containing the final 'user', 'cate_id', 'brand', and 'adgroup_id' combinations\n",
    "# Path to your regular CSV file\n",
    "file_path = 'C:\\\\Users\\\\riham\\\\Desktop\\\\Jupyter Notebook\\\\Research project\\\\filtered_results_4.csv'\n",
    "\n",
    "# Use the function to filter the CSV file\n",
    "fifth_filter_bh = filter_csv_by_user_ids(file_path, merged_df)\n",
    "\n",
    "# Print the shape and first few rows of the filtered DataFrame to verify\n",
    "print(f\"Filtered DataFrame Shape: {fifth_filter_bh.shape}\")\n",
    "print(fifth_filter_bh.head())"
   ]
  },
  {
   "cell_type": "markdown",
   "id": "b1e39f9a-9bee-4189-8705-3197cce8ebb8",
   "metadata": {},
   "source": [
    "#### 2.8.6. Sixth file"
   ]
  },
  {
   "cell_type": "code",
   "execution_count": 57,
   "id": "4f0a8ee6-e610-48d7-8d06-7e16585a4632",
   "metadata": {},
   "outputs": [
    {
     "name": "stdout",
     "output_type": "stream",
     "text": [
      "Processed 100 chunks...\n",
      "Processed 200 chunks...\n",
      "Processed 300 chunks...\n",
      "Processed 400 chunks...\n",
      "Processed 500 chunks...\n",
      "Processed 600 chunks...\n",
      "Processed 700 chunks...\n",
      "Filtered DataFrame Shape: (583566, 5)\n",
      "     user  time_stamp btag  cate_id   brand\n",
      "0  840506  1494149456   pv     6380  139615\n",
      "1  881255  1494140213   pv     4378  139106\n",
      "2  345986  1494115341   pv     4513   51551\n",
      "3  413096  1494125853   pv     9202  249007\n",
      "4  101693  1494139552   pv     6806  387520\n"
     ]
    }
   ],
   "source": [
    "def filter_csv_by_user_ids(file_path, merged_df, chunk_size=100000, progress_interval=100):\n",
    "    # Extract unique combinations of 'user', 'cate_id', 'brand', and 'adgroup_id' from combined_df\n",
    "    user_cate_brand_set = set(merged_df[['user', 'cate_id', 'brand']].itertuples(index=False, name=None))\n",
    "    \n",
    "    filtered_chunks = []\n",
    "    chunk_count = 0\n",
    "    \n",
    "    # Open the CSV file and read in chunks\n",
    "    for chunk in pd.read_csv(file_path, chunksize=chunk_size):\n",
    "        chunk_count += 1\n",
    "        \n",
    "        # Filter the chunk to include only rows with matching 'user', 'cate_id', 'brand', and 'adgroup_id'\n",
    "        chunk_tuples = chunk[['behavior_log.csv', 'cate_id', 'brand']].apply(tuple, axis=1)\n",
    "        filtered_chunk = chunk[chunk_tuples.isin(user_cate_brand_set)]\n",
    "        \n",
    "        # Append the filtered chunk to the list\n",
    "        if not filtered_chunk.empty:\n",
    "            filtered_chunks.append(filtered_chunk)\n",
    "        \n",
    "        # Print progress every `progress_interval` chunks\n",
    "        if chunk_count % progress_interval == 0:\n",
    "            print(f\"Processed {chunk_count} chunks...\")\n",
    "    \n",
    "    # Concatenate all the filtered chunks into a single DataFrame\n",
    "    filtered_df = pd.concat(filtered_chunks, ignore_index=True)\n",
    "    \n",
    "    # Rename the 'behavior_log.csv' column to 'user'\n",
    "    filtered_df.rename(columns={'behavior_log.csv': 'user'}, inplace=True)\n",
    "    \n",
    "    return filtered_df\n",
    "\n",
    "# Assuming `combined_df` is the DataFrame containing the final 'user', 'cate_id', 'brand', and 'adgroup_id' combinations\n",
    "# Path to your regular CSV file\n",
    "file_path = 'C:\\\\Users\\\\riham\\\\Desktop\\\\Jupyter Notebook\\\\Research project\\\\filtered_results_5.csv'\n",
    "\n",
    "# Use the function to filter the CSV file\n",
    "sixth_filter_bh = filter_csv_by_user_ids(file_path, merged_df)\n",
    "\n",
    "# Print the shape and first few rows of the filtered DataFrame to verify\n",
    "print(f\"Filtered DataFrame Shape: {sixth_filter_bh.shape}\")\n",
    "print(sixth_filter_bh.head())"
   ]
  },
  {
   "cell_type": "markdown",
   "id": "fae85a05-d2df-4d36-a19a-1dc1224d05eb",
   "metadata": {},
   "source": [
    "#### 2.8.7. Seventh file"
   ]
  },
  {
   "cell_type": "code",
   "execution_count": 58,
   "id": "1081cb01-0242-4c5c-94ea-90fc3500b33e",
   "metadata": {},
   "outputs": [
    {
     "name": "stdout",
     "output_type": "stream",
     "text": [
      "Filtered DataFrame Shape: (624, 5)\n",
      "       user    time_stamp btag  cate_id     brand\n",
      "0  552418.0  1.493489e+09   pv   6055.0  101331.0\n",
      "1  743343.0  1.493536e+09   pv  11392.0   39211.0\n",
      "2  743343.0  1.493536e+09   pv  11392.0   39211.0\n",
      "3  913636.0  1.493530e+09   pv   4315.0   54393.0\n",
      "4  913636.0  1.493530e+09   pv   4315.0   54393.0\n"
     ]
    }
   ],
   "source": [
    "def filter_csv_by_user_ids(file_path, merged_df, chunk_size=100000, progress_interval=100):\n",
    "    # Extract unique combinations of 'user', 'cate_id', 'brand', and 'adgroup_id' from combined_df\n",
    "    user_cate_brand_set = set(merged_df[['user', 'cate_id', 'brand']].itertuples(index=False, name=None))\n",
    "    \n",
    "    filtered_chunks = []\n",
    "    chunk_count = 0\n",
    "    \n",
    "    # Open the CSV file and read in chunks\n",
    "    for chunk in pd.read_csv(file_path, chunksize=chunk_size):\n",
    "        chunk_count += 1\n",
    "        \n",
    "        # Filter the chunk to include only rows with matching 'user', 'cate_id', 'brand', and 'adgroup_id'\n",
    "        chunk_tuples = chunk[['behavior_log.csv', 'cate_id', 'brand']].apply(tuple, axis=1)\n",
    "        filtered_chunk = chunk[chunk_tuples.isin(user_cate_brand_set)]\n",
    "        \n",
    "        # Append the filtered chunk to the list\n",
    "        if not filtered_chunk.empty:\n",
    "            filtered_chunks.append(filtered_chunk)\n",
    "        \n",
    "        # Print progress every `progress_interval` chunks\n",
    "        if chunk_count % progress_interval == 0:\n",
    "            print(f\"Processed {chunk_count} chunks...\")\n",
    "    \n",
    "    # Concatenate all the filtered chunks into a single DataFrame\n",
    "    filtered_df = pd.concat(filtered_chunks, ignore_index=True)\n",
    "    \n",
    "    # Rename the 'behavior_log.csv' column to 'user'\n",
    "    filtered_df.rename(columns={'behavior_log.csv': 'user'}, inplace=True)\n",
    "    \n",
    "    return filtered_df\n",
    "\n",
    "# Assuming `combined_df` is the DataFrame containing the final 'user', 'cate_id', 'brand', and 'adgroup_id' combinations\n",
    "# Path to your regular CSV file\n",
    "file_path = 'C:\\\\Users\\\\riham\\\\Desktop\\\\Jupyter Notebook\\\\Research project\\\\filtered_results_6.csv'\n",
    "\n",
    "# Use the function to filter the CSV file\n",
    "seventh_filter_bh = filter_csv_by_user_ids(file_path, merged_df)\n",
    "\n",
    "# Print the shape and first few rows of the filtered DataFrame to verify\n",
    "print(f\"Filtered DataFrame Shape: {seventh_filter_bh.shape}\")\n",
    "print(seventh_filter_bh.head())"
   ]
  },
  {
   "cell_type": "markdown",
   "id": "66aa8f79-5b8d-45ac-a3af-e492fba797c7",
   "metadata": {},
   "source": [
    "#### 2.8.8. Save progress"
   ]
  },
  {
   "cell_type": "markdown",
   "id": "3742c3d6-daa8-4e8f-8393-b4a38482526d",
   "metadata": {},
   "source": [
    "All progress made from filtering the separate files will be saved into other separate CSV files, this ensures that the code does not need to be rerun and allows the files to be used at any time."
   ]
  },
  {
   "cell_type": "code",
   "execution_count": 65,
   "id": "d4ea9789-bed7-48a3-b12f-b6cad6f2ffa7",
   "metadata": {},
   "outputs": [],
   "source": [
    "first_filter_bh.to_csv('first_filter_bh.csv', index=False)\n",
    "\n",
    "second_filter_bh.to_csv('second_filter_bh.csv', index=False)\n",
    "\n",
    "third_filter_bh.to_csv('third_filter_bh.csv', index=False)\n",
    "\n",
    "fourth_filter_bh.to_csv('fourth_filter_bh.csv', index=False)\n",
    "\n",
    "fifth_filter_bh.to_csv('fifth_filter_bh.csv', index=False)\n",
    "\n",
    "sixth_filter_bh.to_csv('sixth_filter_bh.csv', index=False)\n",
    "\n",
    "seventh_filter_bh.to_csv('seventh_filter_bh.csv', index=False)"
   ]
  },
  {
   "cell_type": "code",
   "execution_count": 45,
   "id": "f463e331-45f6-41b4-a353-2ce30bd5269b",
   "metadata": {},
   "outputs": [],
   "source": [
    "first_filter_bh = pd.read_csv(\"first_filter_bh.csv\")\n",
    "\n",
    "second_filter_bh = pd.read_csv(\"second_filter_bh.csv\")\n",
    "\n",
    "third_filter_bh = pd.read_csv(\"third_filter_bh.csv\")\n",
    "\n",
    "fourth_filter_bh = pd.read_csv(\"fourth_filter_bh.csv\")\n",
    "\n",
    "fifth_filter_bh = pd.read_csv(\"fifth_filter_bh.csv\")\n",
    "\n",
    "sixth_filter_bh = pd.read_csv(\"sixth_filter_bh.csv\")\n",
    "\n",
    "seventh_filter_bh = pd.read_csv(\"seventh_filter_bh.csv\")"
   ]
  },
  {
   "cell_type": "markdown",
   "id": "7b370321-a01e-4bfd-b668-3096b7d08b59",
   "metadata": {},
   "source": [
    "#### 2.8.9. Concatenate all the subsets into one dataset"
   ]
  },
  {
   "cell_type": "code",
   "execution_count": 46,
   "id": "5e01a679-a965-456d-b78b-df8b7e07c7ca",
   "metadata": {},
   "outputs": [],
   "source": [
    "merged_bh_1 = pd.concat([first_filter_bh, second_filter_bh])"
   ]
  },
  {
   "cell_type": "code",
   "execution_count": 47,
   "id": "c24e61ff-ad85-489a-b104-34c84548f330",
   "metadata": {},
   "outputs": [],
   "source": [
    "merged_bh_2 = pd.concat([third_filter_bh, merged_bh_1])"
   ]
  },
  {
   "cell_type": "code",
   "execution_count": 48,
   "id": "9227cadc-7709-43b5-bd4b-d4d436e2577a",
   "metadata": {},
   "outputs": [],
   "source": [
    "merged_bh_3 = pd.concat([merged_bh_2, fourth_filter_bh])"
   ]
  },
  {
   "cell_type": "code",
   "execution_count": 49,
   "id": "3ea05821-72b5-453e-8710-81fa6624d998",
   "metadata": {},
   "outputs": [],
   "source": [
    "merged_bh_4 = pd.concat([merged_bh_3, fifth_filter_bh])"
   ]
  },
  {
   "cell_type": "code",
   "execution_count": 50,
   "id": "352a56a8-bd97-4a54-87b3-a4a0ee5b56ed",
   "metadata": {},
   "outputs": [],
   "source": [
    "merged_bh_5 = pd.concat([merged_bh_4, sixth_filter_bh])"
   ]
  },
  {
   "cell_type": "code",
   "execution_count": 51,
   "id": "91d922c5-91bb-4fcb-98cf-13783499f839",
   "metadata": {},
   "outputs": [],
   "source": [
    "merged_bh = pd.concat([merged_bh_5, seventh_filter_bh])"
   ]
  },
  {
   "cell_type": "markdown",
   "id": "e515f883-7583-4470-aa04-a797dae0a7d5",
   "metadata": {},
   "source": [
    "#### 2.8.10. Inspect both datasets"
   ]
  },
  {
   "cell_type": "code",
   "execution_count": 52,
   "id": "18ef3486-1264-4940-8962-71671c75a6fa",
   "metadata": {},
   "outputs": [
    {
     "data": {
      "text/plain": [
       "(533971, 19)"
      ]
     },
     "execution_count": 52,
     "metadata": {},
     "output_type": "execute_result"
    }
   ],
   "source": [
    "#inspect the merged_df shape\n",
    "merged_df.shape"
   ]
  },
  {
   "cell_type": "code",
   "execution_count": 53,
   "id": "db511bec-fc52-474d-8fe7-798437adcd1f",
   "metadata": {},
   "outputs": [
    {
     "data": {
      "text/plain": [
       "(2669160, 5)"
      ]
     },
     "execution_count": 53,
     "metadata": {},
     "output_type": "execute_result"
    }
   ],
   "source": [
    "#inspect the merged_bh shape\n",
    "merged_bh.shape"
   ]
  },
  {
   "cell_type": "markdown",
   "id": "e5cfbba5-5b78-475b-8c20-d1e1f55056b7",
   "metadata": {},
   "source": [
    "The merged_df contains around 533k users, and merged_bh contains 2M records. Combining the datasets will increase the total volume of records, and the merging process will be complex, requiring several steps to ensure everything is properly handled."
   ]
  },
  {
   "cell_type": "code",
   "execution_count": 54,
   "id": "67617554-ccf1-4d74-87a7-fac87dd5632a",
   "metadata": {},
   "outputs": [
    {
     "data": {
      "text/html": [
       "<div>\n",
       "<style scoped>\n",
       "    .dataframe tbody tr th:only-of-type {\n",
       "        vertical-align: middle;\n",
       "    }\n",
       "\n",
       "    .dataframe tbody tr th {\n",
       "        vertical-align: top;\n",
       "    }\n",
       "\n",
       "    .dataframe thead th {\n",
       "        text-align: right;\n",
       "    }\n",
       "</style>\n",
       "<table border=\"1\" class=\"dataframe\">\n",
       "  <thead>\n",
       "    <tr style=\"text-align: right;\">\n",
       "      <th></th>\n",
       "      <th>user</th>\n",
       "      <th>time_stamp</th>\n",
       "      <th>btag</th>\n",
       "      <th>cate_id</th>\n",
       "      <th>brand</th>\n",
       "    </tr>\n",
       "  </thead>\n",
       "  <tbody>\n",
       "    <tr>\n",
       "      <th>0</th>\n",
       "      <td>47038.0</td>\n",
       "      <td>1.493109e+09</td>\n",
       "      <td>pv</td>\n",
       "      <td>6261.0</td>\n",
       "      <td>96354.0</td>\n",
       "    </tr>\n",
       "    <tr>\n",
       "      <th>1</th>\n",
       "      <td>47038.0</td>\n",
       "      <td>1.493109e+09</td>\n",
       "      <td>pv</td>\n",
       "      <td>6261.0</td>\n",
       "      <td>96354.0</td>\n",
       "    </tr>\n",
       "    <tr>\n",
       "      <th>2</th>\n",
       "      <td>47038.0</td>\n",
       "      <td>1.493109e+09</td>\n",
       "      <td>pv</td>\n",
       "      <td>6261.0</td>\n",
       "      <td>96354.0</td>\n",
       "    </tr>\n",
       "    <tr>\n",
       "      <th>3</th>\n",
       "      <td>47038.0</td>\n",
       "      <td>1.493108e+09</td>\n",
       "      <td>pv</td>\n",
       "      <td>6261.0</td>\n",
       "      <td>96354.0</td>\n",
       "    </tr>\n",
       "    <tr>\n",
       "      <th>4</th>\n",
       "      <td>47038.0</td>\n",
       "      <td>1.493109e+09</td>\n",
       "      <td>pv</td>\n",
       "      <td>6261.0</td>\n",
       "      <td>96354.0</td>\n",
       "    </tr>\n",
       "  </tbody>\n",
       "</table>\n",
       "</div>"
      ],
      "text/plain": [
       "      user    time_stamp btag  cate_id    brand\n",
       "0  47038.0  1.493109e+09   pv   6261.0  96354.0\n",
       "1  47038.0  1.493109e+09   pv   6261.0  96354.0\n",
       "2  47038.0  1.493109e+09   pv   6261.0  96354.0\n",
       "3  47038.0  1.493108e+09   pv   6261.0  96354.0\n",
       "4  47038.0  1.493109e+09   pv   6261.0  96354.0"
      ]
     },
     "execution_count": 54,
     "metadata": {},
     "output_type": "execute_result"
    }
   ],
   "source": [
    "#get an overview of merged_bh df\n",
    "merged_bh.head()"
   ]
  },
  {
   "cell_type": "markdown",
   "id": "4f5b2e31-cbe9-4885-a667-4bcc3504ebba",
   "metadata": {},
   "source": [
    "### 2.9. Treatement of merged_df and merged_bh datasets"
   ]
  },
  {
   "cell_type": "markdown",
   "id": "a277ee5b-fb78-4a72-bce9-52bbd9bca339",
   "metadata": {},
   "source": [
    "#### 2.9.1. Add readable datetime format"
   ]
  },
  {
   "cell_type": "code",
   "execution_count": 55,
   "id": "f1ec554d-1df7-4fb0-9570-580cece34081",
   "metadata": {},
   "outputs": [],
   "source": [
    "merged_df['normal_date'] = pd.to_datetime(merged_df['time_stamp'], unit='s')"
   ]
  },
  {
   "cell_type": "code",
   "execution_count": 56,
   "id": "8c4a8549-59f3-4b83-8784-9aa08b8356d5",
   "metadata": {},
   "outputs": [],
   "source": [
    "merged_bh['normal_date'] = pd.to_datetime(merged_df['time_stamp'], unit='s')"
   ]
  },
  {
   "cell_type": "code",
   "execution_count": 57,
   "id": "f8dcbc15-5878-4010-92aa-05e19c1de5d2",
   "metadata": {},
   "outputs": [
    {
     "data": {
      "text/html": [
       "<div>\n",
       "<style scoped>\n",
       "    .dataframe tbody tr th:only-of-type {\n",
       "        vertical-align: middle;\n",
       "    }\n",
       "\n",
       "    .dataframe tbody tr th {\n",
       "        vertical-align: top;\n",
       "    }\n",
       "\n",
       "    .dataframe thead th {\n",
       "        text-align: right;\n",
       "    }\n",
       "</style>\n",
       "<table border=\"1\" class=\"dataframe\">\n",
       "  <thead>\n",
       "    <tr style=\"text-align: right;\">\n",
       "      <th></th>\n",
       "      <th>user</th>\n",
       "      <th>time_stamp</th>\n",
       "      <th>btag</th>\n",
       "      <th>cate_id</th>\n",
       "      <th>brand</th>\n",
       "      <th>normal_date</th>\n",
       "    </tr>\n",
       "  </thead>\n",
       "  <tbody>\n",
       "    <tr>\n",
       "      <th>0</th>\n",
       "      <td>47038.0</td>\n",
       "      <td>1.493109e+09</td>\n",
       "      <td>pv</td>\n",
       "      <td>6261.0</td>\n",
       "      <td>96354.0</td>\n",
       "      <td>2017-05-08 17:22:42</td>\n",
       "    </tr>\n",
       "    <tr>\n",
       "      <th>1</th>\n",
       "      <td>47038.0</td>\n",
       "      <td>1.493109e+09</td>\n",
       "      <td>pv</td>\n",
       "      <td>6261.0</td>\n",
       "      <td>96354.0</td>\n",
       "      <td>2017-05-10 12:47:11</td>\n",
       "    </tr>\n",
       "    <tr>\n",
       "      <th>2</th>\n",
       "      <td>47038.0</td>\n",
       "      <td>1.493109e+09</td>\n",
       "      <td>pv</td>\n",
       "      <td>6261.0</td>\n",
       "      <td>96354.0</td>\n",
       "      <td>2017-05-09 12:58:21</td>\n",
       "    </tr>\n",
       "    <tr>\n",
       "      <th>3</th>\n",
       "      <td>47038.0</td>\n",
       "      <td>1.493108e+09</td>\n",
       "      <td>pv</td>\n",
       "      <td>6261.0</td>\n",
       "      <td>96354.0</td>\n",
       "      <td>2017-05-10 05:25:53</td>\n",
       "    </tr>\n",
       "    <tr>\n",
       "      <th>4</th>\n",
       "      <td>47038.0</td>\n",
       "      <td>1.493109e+09</td>\n",
       "      <td>pv</td>\n",
       "      <td>6261.0</td>\n",
       "      <td>96354.0</td>\n",
       "      <td>2017-05-11 14:43:50</td>\n",
       "    </tr>\n",
       "  </tbody>\n",
       "</table>\n",
       "</div>"
      ],
      "text/plain": [
       "      user    time_stamp btag  cate_id    brand         normal_date\n",
       "0  47038.0  1.493109e+09   pv   6261.0  96354.0 2017-05-08 17:22:42\n",
       "1  47038.0  1.493109e+09   pv   6261.0  96354.0 2017-05-10 12:47:11\n",
       "2  47038.0  1.493109e+09   pv   6261.0  96354.0 2017-05-09 12:58:21\n",
       "3  47038.0  1.493108e+09   pv   6261.0  96354.0 2017-05-10 05:25:53\n",
       "4  47038.0  1.493109e+09   pv   6261.0  96354.0 2017-05-11 14:43:50"
      ]
     },
     "execution_count": 57,
     "metadata": {},
     "output_type": "execute_result"
    }
   ],
   "source": [
    "#inspect the output\n",
    "merged_bh.head()"
   ]
  },
  {
   "cell_type": "markdown",
   "id": "3410a485-206c-4416-a310-945eaea85307",
   "metadata": {},
   "source": [
    "#### 2.9.2. Inspect the users of both datasets"
   ]
  },
  {
   "cell_type": "code",
   "execution_count": 58,
   "id": "274859eb-80b2-43dd-b8d5-bb3fd7e8ce4c",
   "metadata": {},
   "outputs": [
    {
     "data": {
      "text/plain": [
       "388162"
      ]
     },
     "execution_count": 58,
     "metadata": {},
     "output_type": "execute_result"
    }
   ],
   "source": [
    "merged_df['user'].nunique()"
   ]
  },
  {
   "cell_type": "code",
   "execution_count": 59,
   "id": "af6426de-69b6-4979-8d64-5d7536f7419a",
   "metadata": {},
   "outputs": [
    {
     "data": {
      "text/plain": [
       "243678"
      ]
     },
     "execution_count": 59,
     "metadata": {},
     "output_type": "execute_result"
    }
   ],
   "source": [
    "merged_bh['user'].nunique()"
   ]
  },
  {
   "cell_type": "markdown",
   "id": "0e2a45af-b483-426c-8d2c-976df5bb0724",
   "metadata": {},
   "source": [
    "It is observed that the behaviour dataset has fewer unique users than the semi-final dataset. Since both datasets need to be combined and downsized simultaneously, the selection process must be handled carefully. Two key aspects will be addressed first:\n",
    "\n",
    "- Users who have instances of both clicking and not clicking on an ad will be preserved.\n",
    "- Records of verrepresented users in the behaviour dataset will be reduced, as a single user may have multiple rows indicating their behaviour."
   ]
  },
  {
   "cell_type": "markdown",
   "id": "a9ec292e-dd87-4e6e-9a88-0a6f474147b1",
   "metadata": {},
   "source": [
    "#### 2.9.3. Identify unique users with two instances"
   ]
  },
  {
   "cell_type": "code",
   "execution_count": 60,
   "id": "35064782-07d2-4f03-b052-2350a48b5a62",
   "metadata": {},
   "outputs": [
    {
     "data": {
      "text/plain": [
       "user\n",
       "642854     2\n",
       "311954     2\n",
       "844162     2\n",
       "970090     2\n",
       "471726     2\n",
       "          ..\n",
       "7389       1\n",
       "512074     1\n",
       "221691     1\n",
       "567229     1\n",
       "1022567    1\n",
       "Name: count, Length: 388162, dtype: int64"
      ]
     },
     "execution_count": 60,
     "metadata": {},
     "output_type": "execute_result"
    }
   ],
   "source": [
    "#identify users with a frequency of two \n",
    "merged_df['user'].value_counts()"
   ]
  },
  {
   "cell_type": "code",
   "execution_count": 61,
   "id": "be514c32-9fc9-4cb3-9bb4-bec2b06ee6bc",
   "metadata": {},
   "outputs": [
    {
     "data": {
      "text/plain": [
       "count\n",
       "1    242353\n",
       "2    145809\n",
       "Name: count, dtype: int64"
      ]
     },
     "execution_count": 61,
     "metadata": {},
     "output_type": "execute_result"
    }
   ],
   "source": [
    "#identify the count of users who have a frequency of two \n",
    "merged_df['user'].value_counts().value_counts().sort_index()"
   ]
  },
  {
   "cell_type": "markdown",
   "id": "0fdefb0e-b849-44a4-98ba-49800cbcec7f",
   "metadata": {},
   "source": [
    "The count of users with a frequency of two is already high, so the downsized dataset can proceed with including only those users."
   ]
  },
  {
   "cell_type": "markdown",
   "id": "a03aac70-e627-4ebd-b217-e36be6d3bbda",
   "metadata": {},
   "source": [
    "#### 2.9.4. Identify frequency of unique users in behaviour dataset:"
   ]
  },
  {
   "cell_type": "code",
   "execution_count": 62,
   "id": "e20ce007-9886-4701-a413-aa0be7d4a202",
   "metadata": {},
   "outputs": [
    {
     "data": {
      "text/plain": [
       "user\n",
       "310051.0    2990\n",
       "19113.0     2021\n",
       "510076.0    1559\n",
       "6684.0      1306\n",
       "159104.0    1151\n",
       "            ... \n",
       "889127.0       1\n",
       "379820.0       1\n",
       "190924.0       1\n",
       "841779.0       1\n",
       "787827.0       1\n",
       "Name: count, Length: 243678, dtype: int64"
      ]
     },
     "execution_count": 62,
     "metadata": {},
     "output_type": "execute_result"
    }
   ],
   "source": [
    "merged_bh['user'].value_counts()"
   ]
  },
  {
   "cell_type": "markdown",
   "id": "bed2a5f4-76e7-4036-b285-1f36fbcb63bc",
   "metadata": {},
   "source": [
    "Some users have a high frequency of behaviour-related information, while others have less due to previous data cleaning or missing values in the behavior dataset. To ensure behaviour rows provide meaningful information to the model, only users with more than 2 instances are considered. A minimum quota of 5 was chosen to filter out users who appear only 4 times in the behavior dataset."
   ]
  },
  {
   "cell_type": "markdown",
   "id": "7af2d72c-8921-4308-ae7d-b5df2a4cf6be",
   "metadata": {},
   "source": [
    "#### 2.9.5. Filter users that have less than 5 occurences in behaviour dataset"
   ]
  },
  {
   "cell_type": "code",
   "execution_count": 63,
   "id": "c9b67077-fd75-468e-9267-7fe9b5610bf4",
   "metadata": {},
   "outputs": [
    {
     "data": {
      "text/plain": [
       "user\n",
       "310051.0    2990\n",
       "19113.0     2021\n",
       "510076.0    1559\n",
       "6684.0      1306\n",
       "159104.0    1151\n",
       "            ... \n",
       "384452.0       5\n",
       "213952.0       5\n",
       "521678.0       5\n",
       "143877.0       5\n",
       "73190.0        5\n",
       "Name: count, Length: 112112, dtype: int64"
      ]
     },
     "execution_count": 63,
     "metadata": {},
     "output_type": "execute_result"
    }
   ],
   "source": [
    "#get the frequency of each user in merged_bh\n",
    "user_counts = merged_bh['user'].value_counts()\n",
    "\n",
    "#filter users that appear more than once\n",
    "users_more_than_once = user_counts[user_counts > 4].index\n",
    "\n",
    "#create a new df that excludes users who appear only once\n",
    "merged_bh_filtered = merged_bh[merged_bh['user'].isin(users_more_than_once)]\n",
    "\n",
    "merged_bh_filtered['user'].value_counts()"
   ]
  },
  {
   "cell_type": "code",
   "execution_count": 64,
   "id": "d8cfac93-51c9-4d5c-a65b-6690fd92abbd",
   "metadata": {},
   "outputs": [],
   "source": [
    "#get the unique users from merged_bh_filtered\n",
    "users_in_bh = merged_bh_filtered['user'].unique()\n",
    "\n",
    "#filter merged_df to keep only users that are in merged_bh\n",
    "merged_df_filtered = merged_df[merged_df['user'].isin(users_in_bh)]"
   ]
  },
  {
   "cell_type": "markdown",
   "id": "0413ccd4-f018-4372-b17a-19bcb4e2e85d",
   "metadata": {},
   "source": [
    "#### 2.9.6. Inspection of the new merged_df_filtered:"
   ]
  },
  {
   "cell_type": "code",
   "execution_count": 65,
   "id": "b7179767-c21c-473a-ad5e-b9f27ce7501d",
   "metadata": {},
   "outputs": [
    {
     "data": {
      "text/plain": [
       "(185033, 20)"
      ]
     },
     "execution_count": 65,
     "metadata": {},
     "output_type": "execute_result"
    }
   ],
   "source": [
    "merged_df_filtered.shape"
   ]
  },
  {
   "cell_type": "markdown",
   "id": "2f398756-e91f-4a8d-8cd9-e22d3f1271dd",
   "metadata": {},
   "source": [
    "The final shape of the dataset, merged_df_filtered, has been significantly reduced from 533K rows to 185K rows."
   ]
  },
  {
   "cell_type": "code",
   "execution_count": 66,
   "id": "f3239f8b-00d5-4315-b96b-aa2cd92a6b87",
   "metadata": {},
   "outputs": [
    {
     "data": {
      "text/plain": [
       "count\n",
       "1    39191\n",
       "2    72921\n",
       "Name: count, dtype: int64"
      ]
     },
     "execution_count": 66,
     "metadata": {},
     "output_type": "execute_result"
    }
   ],
   "source": [
    "merged_df_filtered['user'].value_counts().value_counts().sort_index()"
   ]
  },
  {
   "cell_type": "markdown",
   "id": "876e4cf4-8fbf-460c-b15f-c6bc36ccfb0a",
   "metadata": {},
   "source": [
    "The number of users who have more than two instances (clicked and not clicked on an ad) is now higher than those with only one instance."
   ]
  },
  {
   "cell_type": "code",
   "execution_count": 67,
   "id": "589b5c4d-df05-4f98-a427-501ccabd2ce0",
   "metadata": {},
   "outputs": [
    {
     "data": {
      "text/plain": [
       "clk\n",
       "0    0.600244\n",
       "1    0.399756\n",
       "Name: proportion, dtype: float64"
      ]
     },
     "execution_count": 67,
     "metadata": {},
     "output_type": "execute_result"
    }
   ],
   "source": [
    "merged_df_filtered['clk'].value_counts(normalize=True)"
   ]
  },
  {
   "cell_type": "markdown",
   "id": "5cdd7286-2f9d-43c2-9729-d35712c51b49",
   "metadata": {},
   "source": [
    "The proportion of clicks to non-clicks has changed again, but this is not a concern at this stage, as it will be addressed during further downsampling. The next step involves combining the semi-final dataset with the behaviour dataset."
   ]
  },
  {
   "cell_type": "markdown",
   "id": "5c7933ab-4392-4a41-918f-2df4fd440508",
   "metadata": {},
   "source": [
    "### 2.10. Combining datasets"
   ]
  },
  {
   "cell_type": "markdown",
   "id": "09fccc88-cad2-4e5e-a4e9-12052a907e97",
   "metadata": {},
   "source": [
    "Both datasets share a common column named \"timestamp,\" where one indicates when a user saw an ad and the other reflects the timestamp of the behaviour. The challenge is determining how to link these two datasets, as the semi-final dataset lacks behaviour information, and the behaviour dataset lacks user and ad information.\n",
    "\n",
    "To address this, the following steps will be taken:\n",
    "\n",
    "- First, the timestamps will be distinguished using the standard datetime format, and the original column will be dropped.\n",
    "\n",
    "- Second, a new behaviour element will be added to reference the ad view, with the ad's timestamp set as the behavior time."
   ]
  },
  {
   "cell_type": "markdown",
   "id": "015aba33-c7da-44ee-8809-eab1fec81dd0",
   "metadata": {},
   "source": [
    "#### 2.10.1. Timestamp processing"
   ]
  },
  {
   "cell_type": "code",
   "execution_count": 68,
   "id": "ecbe9573-4129-4297-8d22-26a55a296e24",
   "metadata": {},
   "outputs": [
    {
     "data": {
      "text/plain": [
       "Index(['user', 'time_stamp', 'btag', 'cate_id', 'brand', 'normal_date'], dtype='object')"
      ]
     },
     "execution_count": 68,
     "metadata": {},
     "output_type": "execute_result"
    }
   ],
   "source": [
    "#identify common columns\n",
    "merged_bh_filtered.columns"
   ]
  },
  {
   "cell_type": "code",
   "execution_count": 69,
   "id": "5e9d4d99-7213-44ff-8f2f-0d8c33bb729e",
   "metadata": {},
   "outputs": [],
   "source": [
    "#rename the column 'normal_date' to 'ad_normal_date' for both dfs\n",
    "merged_df_filtered = merged_df_filtered.rename(columns={'normal_date': 'ad_normal_date'})\n",
    "\n",
    "merged_bh_filtered = merged_bh_filtered.rename(columns={'normal_date': 'bh_normal_date'})"
   ]
  },
  {
   "cell_type": "code",
   "execution_count": 70,
   "id": "5cf5abd6-44cf-42eb-8e0f-137b95da125c",
   "metadata": {},
   "outputs": [],
   "source": [
    "# Add new columns to merged_df that fills in the missing info in merged_bh\n",
    "merged_df_filtered['btag'] = 'adseen'\n",
    "merged_df_filtered['bh_normal_date'] = merged_df_filtered['ad_normal_date']"
   ]
  },
  {
   "cell_type": "code",
   "execution_count": 71,
   "id": "2336b401-efa8-485e-873e-d74748828b68",
   "metadata": {},
   "outputs": [],
   "source": [
    "#drop 'time_stamp' column from merged_df_filtered\n",
    "merged_df_filtered = merged_df_filtered.drop(columns=['time_stamp'])\n",
    "#drop 'pid' column from merged_df_filtered\n",
    "merged_df_filtered = merged_df_filtered.drop(columns=['pid'])\n",
    "\n",
    "#drop 'time_stamp' column from merged_bh_filtered\n",
    "merged_bh_filtered = merged_bh_filtered.drop(columns=['time_stamp'])"
   ]
  },
  {
   "cell_type": "code",
   "execution_count": 72,
   "id": "21382269-eb58-4dc4-974f-117f8bf8d226",
   "metadata": {},
   "outputs": [
    {
     "data": {
      "text/plain": [
       "Index(['user', 'adgroup_id', 'nonclk', 'clk', 'cate_id', 'campaign_id',\n",
       "       'customer', 'brand', 'price', 'cms_segid', 'cms_group_id',\n",
       "       'final_gender_code', 'age_level', 'pvalue_level', 'shopping_level',\n",
       "       'occupation', 'new_user_class_level', 'ad_normal_date', 'btag',\n",
       "       'bh_normal_date'],\n",
       "      dtype='object')"
      ]
     },
     "execution_count": 72,
     "metadata": {},
     "output_type": "execute_result"
    }
   ],
   "source": [
    "merged_df_filtered.columns"
   ]
  },
  {
   "cell_type": "code",
   "execution_count": 73,
   "id": "b859d818-ff73-4b0f-9223-d7adea8f012a",
   "metadata": {},
   "outputs": [
    {
     "data": {
      "text/plain": [
       "Index(['user', 'btag', 'cate_id', 'brand', 'bh_normal_date'], dtype='object')"
      ]
     },
     "execution_count": 73,
     "metadata": {},
     "output_type": "execute_result"
    }
   ],
   "source": [
    "merged_bh_filtered.columns"
   ]
  },
  {
   "cell_type": "code",
   "execution_count": 74,
   "id": "bcbd4a51-105e-4057-b630-f109221c6cd7",
   "metadata": {},
   "outputs": [
    {
     "data": {
      "text/html": [
       "<div>\n",
       "<style scoped>\n",
       "    .dataframe tbody tr th:only-of-type {\n",
       "        vertical-align: middle;\n",
       "    }\n",
       "\n",
       "    .dataframe tbody tr th {\n",
       "        vertical-align: top;\n",
       "    }\n",
       "\n",
       "    .dataframe thead th {\n",
       "        text-align: right;\n",
       "    }\n",
       "</style>\n",
       "<table border=\"1\" class=\"dataframe\">\n",
       "  <thead>\n",
       "    <tr style=\"text-align: right;\">\n",
       "      <th></th>\n",
       "      <th>user</th>\n",
       "      <th>adgroup_id</th>\n",
       "      <th>nonclk</th>\n",
       "      <th>clk</th>\n",
       "      <th>cate_id</th>\n",
       "      <th>campaign_id</th>\n",
       "      <th>customer</th>\n",
       "      <th>brand</th>\n",
       "      <th>price</th>\n",
       "      <th>cms_segid</th>\n",
       "      <th>cms_group_id</th>\n",
       "      <th>final_gender_code</th>\n",
       "      <th>age_level</th>\n",
       "      <th>pvalue_level</th>\n",
       "      <th>shopping_level</th>\n",
       "      <th>occupation</th>\n",
       "      <th>new_user_class_level</th>\n",
       "      <th>ad_normal_date</th>\n",
       "      <th>btag</th>\n",
       "      <th>bh_normal_date</th>\n",
       "    </tr>\n",
       "  </thead>\n",
       "  <tbody>\n",
       "    <tr>\n",
       "      <th>3</th>\n",
       "      <td>358193</td>\n",
       "      <td>102</td>\n",
       "      <td>0</td>\n",
       "      <td>1</td>\n",
       "      <td>126</td>\n",
       "      <td>138148</td>\n",
       "      <td>20107</td>\n",
       "      <td>102457</td>\n",
       "      <td>98.0</td>\n",
       "      <td>7</td>\n",
       "      <td>2</td>\n",
       "      <td>2</td>\n",
       "      <td>2</td>\n",
       "      <td>2</td>\n",
       "      <td>3</td>\n",
       "      <td>0</td>\n",
       "      <td>1</td>\n",
       "      <td>2017-05-10 05:25:53</td>\n",
       "      <td>adseen</td>\n",
       "      <td>2017-05-10 05:25:53</td>\n",
       "    </tr>\n",
       "    <tr>\n",
       "      <th>4</th>\n",
       "      <td>1002263</td>\n",
       "      <td>102</td>\n",
       "      <td>0</td>\n",
       "      <td>1</td>\n",
       "      <td>126</td>\n",
       "      <td>138148</td>\n",
       "      <td>20107</td>\n",
       "      <td>102457</td>\n",
       "      <td>98.0</td>\n",
       "      <td>19</td>\n",
       "      <td>3</td>\n",
       "      <td>2</td>\n",
       "      <td>3</td>\n",
       "      <td>2</td>\n",
       "      <td>3</td>\n",
       "      <td>0</td>\n",
       "      <td>2</td>\n",
       "      <td>2017-05-11 14:43:50</td>\n",
       "      <td>adseen</td>\n",
       "      <td>2017-05-11 14:43:50</td>\n",
       "    </tr>\n",
       "    <tr>\n",
       "      <th>5</th>\n",
       "      <td>1031322</td>\n",
       "      <td>102</td>\n",
       "      <td>0</td>\n",
       "      <td>1</td>\n",
       "      <td>126</td>\n",
       "      <td>138148</td>\n",
       "      <td>20107</td>\n",
       "      <td>102457</td>\n",
       "      <td>98.0</td>\n",
       "      <td>33</td>\n",
       "      <td>4</td>\n",
       "      <td>2</td>\n",
       "      <td>4</td>\n",
       "      <td>2</td>\n",
       "      <td>3</td>\n",
       "      <td>0</td>\n",
       "      <td>2</td>\n",
       "      <td>2017-05-07 21:42:12</td>\n",
       "      <td>adseen</td>\n",
       "      <td>2017-05-07 21:42:12</td>\n",
       "    </tr>\n",
       "    <tr>\n",
       "      <th>6</th>\n",
       "      <td>478059</td>\n",
       "      <td>102</td>\n",
       "      <td>0</td>\n",
       "      <td>1</td>\n",
       "      <td>126</td>\n",
       "      <td>138148</td>\n",
       "      <td>20107</td>\n",
       "      <td>102457</td>\n",
       "      <td>98.0</td>\n",
       "      <td>33</td>\n",
       "      <td>4</td>\n",
       "      <td>2</td>\n",
       "      <td>4</td>\n",
       "      <td>2</td>\n",
       "      <td>3</td>\n",
       "      <td>0</td>\n",
       "      <td>2</td>\n",
       "      <td>2017-05-10 12:58:32</td>\n",
       "      <td>adseen</td>\n",
       "      <td>2017-05-10 12:58:32</td>\n",
       "    </tr>\n",
       "    <tr>\n",
       "      <th>10</th>\n",
       "      <td>1024561</td>\n",
       "      <td>339</td>\n",
       "      <td>0</td>\n",
       "      <td>1</td>\n",
       "      <td>12411</td>\n",
       "      <td>400918</td>\n",
       "      <td>50632</td>\n",
       "      <td>118742</td>\n",
       "      <td>98.0</td>\n",
       "      <td>34</td>\n",
       "      <td>4</td>\n",
       "      <td>2</td>\n",
       "      <td>4</td>\n",
       "      <td>2</td>\n",
       "      <td>3</td>\n",
       "      <td>0</td>\n",
       "      <td>3</td>\n",
       "      <td>2017-05-06 00:11:14</td>\n",
       "      <td>adseen</td>\n",
       "      <td>2017-05-06 00:11:14</td>\n",
       "    </tr>\n",
       "    <tr>\n",
       "      <th>...</th>\n",
       "      <td>...</td>\n",
       "      <td>...</td>\n",
       "      <td>...</td>\n",
       "      <td>...</td>\n",
       "      <td>...</td>\n",
       "      <td>...</td>\n",
       "      <td>...</td>\n",
       "      <td>...</td>\n",
       "      <td>...</td>\n",
       "      <td>...</td>\n",
       "      <td>...</td>\n",
       "      <td>...</td>\n",
       "      <td>...</td>\n",
       "      <td>...</td>\n",
       "      <td>...</td>\n",
       "      <td>...</td>\n",
       "      <td>...</td>\n",
       "      <td>...</td>\n",
       "      <td>...</td>\n",
       "      <td>...</td>\n",
       "    </tr>\n",
       "    <tr>\n",
       "      <th>533940</th>\n",
       "      <td>1121165</td>\n",
       "      <td>841622</td>\n",
       "      <td>1</td>\n",
       "      <td>0</td>\n",
       "      <td>6952</td>\n",
       "      <td>376379</td>\n",
       "      <td>38335</td>\n",
       "      <td>352919</td>\n",
       "      <td>159.0</td>\n",
       "      <td>35</td>\n",
       "      <td>4</td>\n",
       "      <td>2</td>\n",
       "      <td>4</td>\n",
       "      <td>2</td>\n",
       "      <td>3</td>\n",
       "      <td>0</td>\n",
       "      <td>1</td>\n",
       "      <td>2017-05-11 05:36:59</td>\n",
       "      <td>adseen</td>\n",
       "      <td>2017-05-11 05:36:59</td>\n",
       "    </tr>\n",
       "    <tr>\n",
       "      <th>533942</th>\n",
       "      <td>908212</td>\n",
       "      <td>842095</td>\n",
       "      <td>1</td>\n",
       "      <td>0</td>\n",
       "      <td>7964</td>\n",
       "      <td>74727</td>\n",
       "      <td>109790</td>\n",
       "      <td>452114</td>\n",
       "      <td>90.0</td>\n",
       "      <td>22</td>\n",
       "      <td>3</td>\n",
       "      <td>2</td>\n",
       "      <td>3</td>\n",
       "      <td>2</td>\n",
       "      <td>3</td>\n",
       "      <td>0</td>\n",
       "      <td>3</td>\n",
       "      <td>2017-05-13 00:00:22</td>\n",
       "      <td>adseen</td>\n",
       "      <td>2017-05-13 00:00:22</td>\n",
       "    </tr>\n",
       "    <tr>\n",
       "      <th>533966</th>\n",
       "      <td>642893</td>\n",
       "      <td>845624</td>\n",
       "      <td>1</td>\n",
       "      <td>0</td>\n",
       "      <td>6847</td>\n",
       "      <td>122359</td>\n",
       "      <td>25961</td>\n",
       "      <td>18593</td>\n",
       "      <td>39.8</td>\n",
       "      <td>8</td>\n",
       "      <td>2</td>\n",
       "      <td>2</td>\n",
       "      <td>2</td>\n",
       "      <td>2</td>\n",
       "      <td>3</td>\n",
       "      <td>0</td>\n",
       "      <td>4</td>\n",
       "      <td>2017-05-13 10:25:32</td>\n",
       "      <td>adseen</td>\n",
       "      <td>2017-05-13 10:25:32</td>\n",
       "    </tr>\n",
       "    <tr>\n",
       "      <th>533967</th>\n",
       "      <td>39286</td>\n",
       "      <td>845862</td>\n",
       "      <td>1</td>\n",
       "      <td>0</td>\n",
       "      <td>6860</td>\n",
       "      <td>305485</td>\n",
       "      <td>35830</td>\n",
       "      <td>124895</td>\n",
       "      <td>318.0</td>\n",
       "      <td>5</td>\n",
       "      <td>2</td>\n",
       "      <td>2</td>\n",
       "      <td>2</td>\n",
       "      <td>1</td>\n",
       "      <td>3</td>\n",
       "      <td>1</td>\n",
       "      <td>2</td>\n",
       "      <td>2017-05-07 12:56:57</td>\n",
       "      <td>adseen</td>\n",
       "      <td>2017-05-07 12:56:57</td>\n",
       "    </tr>\n",
       "    <tr>\n",
       "      <th>533968</th>\n",
       "      <td>573144</td>\n",
       "      <td>846263</td>\n",
       "      <td>1</td>\n",
       "      <td>0</td>\n",
       "      <td>5360</td>\n",
       "      <td>135721</td>\n",
       "      <td>11874</td>\n",
       "      <td>366773</td>\n",
       "      <td>69.0</td>\n",
       "      <td>60</td>\n",
       "      <td>9</td>\n",
       "      <td>1</td>\n",
       "      <td>3</td>\n",
       "      <td>2</td>\n",
       "      <td>2</td>\n",
       "      <td>0</td>\n",
       "      <td>2</td>\n",
       "      <td>2017-05-11 14:19:42</td>\n",
       "      <td>adseen</td>\n",
       "      <td>2017-05-11 14:19:42</td>\n",
       "    </tr>\n",
       "  </tbody>\n",
       "</table>\n",
       "<p>185033 rows × 20 columns</p>\n",
       "</div>"
      ],
      "text/plain": [
       "           user  adgroup_id  nonclk  clk  cate_id  campaign_id  customer  \\\n",
       "3        358193         102       0    1      126       138148     20107   \n",
       "4       1002263         102       0    1      126       138148     20107   \n",
       "5       1031322         102       0    1      126       138148     20107   \n",
       "6        478059         102       0    1      126       138148     20107   \n",
       "10      1024561         339       0    1    12411       400918     50632   \n",
       "...         ...         ...     ...  ...      ...          ...       ...   \n",
       "533940  1121165      841622       1    0     6952       376379     38335   \n",
       "533942   908212      842095       1    0     7964        74727    109790   \n",
       "533966   642893      845624       1    0     6847       122359     25961   \n",
       "533967    39286      845862       1    0     6860       305485     35830   \n",
       "533968   573144      846263       1    0     5360       135721     11874   \n",
       "\n",
       "         brand  price  cms_segid  cms_group_id  final_gender_code  age_level  \\\n",
       "3       102457   98.0          7             2                  2          2   \n",
       "4       102457   98.0         19             3                  2          3   \n",
       "5       102457   98.0         33             4                  2          4   \n",
       "6       102457   98.0         33             4                  2          4   \n",
       "10      118742   98.0         34             4                  2          4   \n",
       "...        ...    ...        ...           ...                ...        ...   \n",
       "533940  352919  159.0         35             4                  2          4   \n",
       "533942  452114   90.0         22             3                  2          3   \n",
       "533966   18593   39.8          8             2                  2          2   \n",
       "533967  124895  318.0          5             2                  2          2   \n",
       "533968  366773   69.0         60             9                  1          3   \n",
       "\n",
       "        pvalue_level  shopping_level  occupation  new_user_class_level  \\\n",
       "3                  2               3           0                     1   \n",
       "4                  2               3           0                     2   \n",
       "5                  2               3           0                     2   \n",
       "6                  2               3           0                     2   \n",
       "10                 2               3           0                     3   \n",
       "...              ...             ...         ...                   ...   \n",
       "533940             2               3           0                     1   \n",
       "533942             2               3           0                     3   \n",
       "533966             2               3           0                     4   \n",
       "533967             1               3           1                     2   \n",
       "533968             2               2           0                     2   \n",
       "\n",
       "            ad_normal_date    btag      bh_normal_date  \n",
       "3      2017-05-10 05:25:53  adseen 2017-05-10 05:25:53  \n",
       "4      2017-05-11 14:43:50  adseen 2017-05-11 14:43:50  \n",
       "5      2017-05-07 21:42:12  adseen 2017-05-07 21:42:12  \n",
       "6      2017-05-10 12:58:32  adseen 2017-05-10 12:58:32  \n",
       "10     2017-05-06 00:11:14  adseen 2017-05-06 00:11:14  \n",
       "...                    ...     ...                 ...  \n",
       "533940 2017-05-11 05:36:59  adseen 2017-05-11 05:36:59  \n",
       "533942 2017-05-13 00:00:22  adseen 2017-05-13 00:00:22  \n",
       "533966 2017-05-13 10:25:32  adseen 2017-05-13 10:25:32  \n",
       "533967 2017-05-07 12:56:57  adseen 2017-05-07 12:56:57  \n",
       "533968 2017-05-11 14:19:42  adseen 2017-05-11 14:19:42  \n",
       "\n",
       "[185033 rows x 20 columns]"
      ]
     },
     "execution_count": 74,
     "metadata": {},
     "output_type": "execute_result"
    }
   ],
   "source": [
    "#get an overview look of the now updated dataset\n",
    "merged_df_filtered"
   ]
  },
  {
   "cell_type": "markdown",
   "id": "2b3fb321-8210-4d8f-a93b-c470281b88fe",
   "metadata": {},
   "source": [
    "#### 2.10.2. Behaviour dataset missing values treatement"
   ]
  },
  {
   "cell_type": "code",
   "execution_count": 75,
   "id": "4826f088-1364-4da1-8131-e4e148acc490",
   "metadata": {},
   "outputs": [
    {
     "data": {
      "text/plain": [
       "(2413058, 5)"
      ]
     },
     "execution_count": 75,
     "metadata": {},
     "output_type": "execute_result"
    }
   ],
   "source": [
    "#check the shape of the df\n",
    "merged_bh_filtered.shape"
   ]
  },
  {
   "cell_type": "code",
   "execution_count": 76,
   "id": "1351d549-43d0-47c4-913c-5e18fb036510",
   "metadata": {},
   "outputs": [
    {
     "data": {
      "text/plain": [
       "user                  0\n",
       "btag                  0\n",
       "cate_id               0\n",
       "brand                 0\n",
       "bh_normal_date    45091\n",
       "dtype: int64"
      ]
     },
     "execution_count": 76,
     "metadata": {},
     "output_type": "execute_result"
    }
   ],
   "source": [
    "#identify if there are any missing values\n",
    "merged_bh_filtered.isna().sum()"
   ]
  },
  {
   "cell_type": "markdown",
   "id": "82a1e889-1405-4147-8647-c8d20cb3a96d",
   "metadata": {},
   "source": [
    "Given the large size of the dataset and the significant number of missing datetime values, it is more efficient to drop these rows."
   ]
  },
  {
   "cell_type": "code",
   "execution_count": 77,
   "id": "f9370ad5-26ae-4f48-a6f3-7d47bb90204b",
   "metadata": {},
   "outputs": [],
   "source": [
    "#drop the missing values \n",
    "merged_bh_filtered = merged_bh_filtered.dropna()"
   ]
  },
  {
   "cell_type": "code",
   "execution_count": 78,
   "id": "f7c0d5cc-39d1-4a8d-b302-274629e9545c",
   "metadata": {},
   "outputs": [
    {
     "data": {
      "text/plain": [
       "(2367967, 5)"
      ]
     },
     "execution_count": 78,
     "metadata": {},
     "output_type": "execute_result"
    }
   ],
   "source": [
    "#check now the shape of the df after dropping the missing values \n",
    "merged_bh_filtered.shape"
   ]
  },
  {
   "cell_type": "markdown",
   "id": "381d3422-e944-407d-bffa-ecdaae269e65",
   "metadata": {},
   "source": [
    "With all missing values addressed, the two dataframes can now be concatenated, as they contain different information despite sharing common columns."
   ]
  },
  {
   "cell_type": "markdown",
   "id": "513434b2-2769-46d8-b80c-14206bbf1548",
   "metadata": {},
   "source": [
    "#### 2.10.3. Concatenate both datasets:"
   ]
  },
  {
   "cell_type": "code",
   "execution_count": 79,
   "id": "bc3698bd-1bb1-4c50-833c-0d1fb8082ce4",
   "metadata": {},
   "outputs": [],
   "source": [
    "#concatenate both dfs\n",
    "combined_df = pd.concat([merged_df_filtered, merged_bh_filtered], axis=0, ignore_index=True)"
   ]
  },
  {
   "cell_type": "code",
   "execution_count": 80,
   "id": "6bdee064-14d4-4bc0-87ea-3b29a0c139e8",
   "metadata": {},
   "outputs": [
    {
     "data": {
      "text/plain": [
       "(185033, 20)"
      ]
     },
     "execution_count": 80,
     "metadata": {},
     "output_type": "execute_result"
    }
   ],
   "source": [
    "#check again the shape of the merged_df\n",
    "merged_df_filtered.shape"
   ]
  },
  {
   "cell_type": "code",
   "execution_count": 81,
   "id": "2471a9fb-1df9-49af-b1d1-0f03e74774ec",
   "metadata": {},
   "outputs": [
    {
     "data": {
      "text/plain": [
       "(2553000, 20)"
      ]
     },
     "execution_count": 81,
     "metadata": {},
     "output_type": "execute_result"
    }
   ],
   "source": [
    "#check the new shape of both dfs concatenated\n",
    "combined_df.shape"
   ]
  },
  {
   "cell_type": "markdown",
   "id": "e0a652be-3fa2-49d1-a520-36d61bd5fff9",
   "metadata": {},
   "source": [
    "The final dataset, now containing all user and ad information, is observed to be quite large with 2 million rows. As a result, new downsizing steps will need to be implemented."
   ]
  },
  {
   "cell_type": "code",
   "execution_count": 82,
   "id": "18f8d143-5a72-41ff-99b7-bd09a8235ebf",
   "metadata": {},
   "outputs": [
    {
     "data": {
      "text/html": [
       "<div>\n",
       "<style scoped>\n",
       "    .dataframe tbody tr th:only-of-type {\n",
       "        vertical-align: middle;\n",
       "    }\n",
       "\n",
       "    .dataframe tbody tr th {\n",
       "        vertical-align: top;\n",
       "    }\n",
       "\n",
       "    .dataframe thead th {\n",
       "        text-align: right;\n",
       "    }\n",
       "</style>\n",
       "<table border=\"1\" class=\"dataframe\">\n",
       "  <thead>\n",
       "    <tr style=\"text-align: right;\">\n",
       "      <th></th>\n",
       "      <th>user</th>\n",
       "      <th>adgroup_id</th>\n",
       "      <th>nonclk</th>\n",
       "      <th>clk</th>\n",
       "      <th>cate_id</th>\n",
       "      <th>campaign_id</th>\n",
       "      <th>customer</th>\n",
       "      <th>brand</th>\n",
       "      <th>price</th>\n",
       "      <th>cms_segid</th>\n",
       "      <th>cms_group_id</th>\n",
       "      <th>final_gender_code</th>\n",
       "      <th>age_level</th>\n",
       "      <th>pvalue_level</th>\n",
       "      <th>shopping_level</th>\n",
       "      <th>occupation</th>\n",
       "      <th>new_user_class_level</th>\n",
       "      <th>ad_normal_date</th>\n",
       "      <th>btag</th>\n",
       "      <th>bh_normal_date</th>\n",
       "    </tr>\n",
       "  </thead>\n",
       "  <tbody>\n",
       "    <tr>\n",
       "      <th>0</th>\n",
       "      <td>358193.0</td>\n",
       "      <td>102.0</td>\n",
       "      <td>0.0</td>\n",
       "      <td>1.0</td>\n",
       "      <td>126.0</td>\n",
       "      <td>138148.0</td>\n",
       "      <td>20107.0</td>\n",
       "      <td>102457.0</td>\n",
       "      <td>98.0</td>\n",
       "      <td>7.0</td>\n",
       "      <td>2.0</td>\n",
       "      <td>2.0</td>\n",
       "      <td>2.0</td>\n",
       "      <td>2.0</td>\n",
       "      <td>3.0</td>\n",
       "      <td>0.0</td>\n",
       "      <td>1.0</td>\n",
       "      <td>2017-05-10 05:25:53</td>\n",
       "      <td>adseen</td>\n",
       "      <td>2017-05-10 05:25:53</td>\n",
       "    </tr>\n",
       "    <tr>\n",
       "      <th>1</th>\n",
       "      <td>1002263.0</td>\n",
       "      <td>102.0</td>\n",
       "      <td>0.0</td>\n",
       "      <td>1.0</td>\n",
       "      <td>126.0</td>\n",
       "      <td>138148.0</td>\n",
       "      <td>20107.0</td>\n",
       "      <td>102457.0</td>\n",
       "      <td>98.0</td>\n",
       "      <td>19.0</td>\n",
       "      <td>3.0</td>\n",
       "      <td>2.0</td>\n",
       "      <td>3.0</td>\n",
       "      <td>2.0</td>\n",
       "      <td>3.0</td>\n",
       "      <td>0.0</td>\n",
       "      <td>2.0</td>\n",
       "      <td>2017-05-11 14:43:50</td>\n",
       "      <td>adseen</td>\n",
       "      <td>2017-05-11 14:43:50</td>\n",
       "    </tr>\n",
       "    <tr>\n",
       "      <th>2</th>\n",
       "      <td>1031322.0</td>\n",
       "      <td>102.0</td>\n",
       "      <td>0.0</td>\n",
       "      <td>1.0</td>\n",
       "      <td>126.0</td>\n",
       "      <td>138148.0</td>\n",
       "      <td>20107.0</td>\n",
       "      <td>102457.0</td>\n",
       "      <td>98.0</td>\n",
       "      <td>33.0</td>\n",
       "      <td>4.0</td>\n",
       "      <td>2.0</td>\n",
       "      <td>4.0</td>\n",
       "      <td>2.0</td>\n",
       "      <td>3.0</td>\n",
       "      <td>0.0</td>\n",
       "      <td>2.0</td>\n",
       "      <td>2017-05-07 21:42:12</td>\n",
       "      <td>adseen</td>\n",
       "      <td>2017-05-07 21:42:12</td>\n",
       "    </tr>\n",
       "    <tr>\n",
       "      <th>3</th>\n",
       "      <td>478059.0</td>\n",
       "      <td>102.0</td>\n",
       "      <td>0.0</td>\n",
       "      <td>1.0</td>\n",
       "      <td>126.0</td>\n",
       "      <td>138148.0</td>\n",
       "      <td>20107.0</td>\n",
       "      <td>102457.0</td>\n",
       "      <td>98.0</td>\n",
       "      <td>33.0</td>\n",
       "      <td>4.0</td>\n",
       "      <td>2.0</td>\n",
       "      <td>4.0</td>\n",
       "      <td>2.0</td>\n",
       "      <td>3.0</td>\n",
       "      <td>0.0</td>\n",
       "      <td>2.0</td>\n",
       "      <td>2017-05-10 12:58:32</td>\n",
       "      <td>adseen</td>\n",
       "      <td>2017-05-10 12:58:32</td>\n",
       "    </tr>\n",
       "    <tr>\n",
       "      <th>4</th>\n",
       "      <td>1024561.0</td>\n",
       "      <td>339.0</td>\n",
       "      <td>0.0</td>\n",
       "      <td>1.0</td>\n",
       "      <td>12411.0</td>\n",
       "      <td>400918.0</td>\n",
       "      <td>50632.0</td>\n",
       "      <td>118742.0</td>\n",
       "      <td>98.0</td>\n",
       "      <td>34.0</td>\n",
       "      <td>4.0</td>\n",
       "      <td>2.0</td>\n",
       "      <td>4.0</td>\n",
       "      <td>2.0</td>\n",
       "      <td>3.0</td>\n",
       "      <td>0.0</td>\n",
       "      <td>3.0</td>\n",
       "      <td>2017-05-06 00:11:14</td>\n",
       "      <td>adseen</td>\n",
       "      <td>2017-05-06 00:11:14</td>\n",
       "    </tr>\n",
       "  </tbody>\n",
       "</table>\n",
       "</div>"
      ],
      "text/plain": [
       "        user  adgroup_id  nonclk  clk  cate_id  campaign_id  customer  \\\n",
       "0   358193.0       102.0     0.0  1.0    126.0     138148.0   20107.0   \n",
       "1  1002263.0       102.0     0.0  1.0    126.0     138148.0   20107.0   \n",
       "2  1031322.0       102.0     0.0  1.0    126.0     138148.0   20107.0   \n",
       "3   478059.0       102.0     0.0  1.0    126.0     138148.0   20107.0   \n",
       "4  1024561.0       339.0     0.0  1.0  12411.0     400918.0   50632.0   \n",
       "\n",
       "      brand  price  cms_segid  cms_group_id  final_gender_code  age_level  \\\n",
       "0  102457.0   98.0        7.0           2.0                2.0        2.0   \n",
       "1  102457.0   98.0       19.0           3.0                2.0        3.0   \n",
       "2  102457.0   98.0       33.0           4.0                2.0        4.0   \n",
       "3  102457.0   98.0       33.0           4.0                2.0        4.0   \n",
       "4  118742.0   98.0       34.0           4.0                2.0        4.0   \n",
       "\n",
       "   pvalue_level  shopping_level  occupation  new_user_class_level  \\\n",
       "0           2.0             3.0         0.0                   1.0   \n",
       "1           2.0             3.0         0.0                   2.0   \n",
       "2           2.0             3.0         0.0                   2.0   \n",
       "3           2.0             3.0         0.0                   2.0   \n",
       "4           2.0             3.0         0.0                   3.0   \n",
       "\n",
       "       ad_normal_date    btag      bh_normal_date  \n",
       "0 2017-05-10 05:25:53  adseen 2017-05-10 05:25:53  \n",
       "1 2017-05-11 14:43:50  adseen 2017-05-11 14:43:50  \n",
       "2 2017-05-07 21:42:12  adseen 2017-05-07 21:42:12  \n",
       "3 2017-05-10 12:58:32  adseen 2017-05-10 12:58:32  \n",
       "4 2017-05-06 00:11:14  adseen 2017-05-06 00:11:14  "
      ]
     },
     "execution_count": 82,
     "metadata": {},
     "output_type": "execute_result"
    }
   ],
   "source": [
    "#get an overview of the new combined dataset\n",
    "combined_df.head()"
   ]
  },
  {
   "cell_type": "code",
   "execution_count": 83,
   "id": "f3d6afa6-8fa5-44a3-ae43-4b8879bd1ccc",
   "metadata": {},
   "outputs": [
    {
     "data": {
      "text/plain": [
       "user                          0\n",
       "adgroup_id              2367967\n",
       "nonclk                  2367967\n",
       "clk                     2367967\n",
       "cate_id                       0\n",
       "campaign_id             2367967\n",
       "customer                2367967\n",
       "brand                         0\n",
       "price                   2367967\n",
       "cms_segid               2367967\n",
       "cms_group_id            2367967\n",
       "final_gender_code       2367967\n",
       "age_level               2367967\n",
       "pvalue_level            2367967\n",
       "shopping_level          2367967\n",
       "occupation              2367967\n",
       "new_user_class_level    2367967\n",
       "ad_normal_date          2367967\n",
       "btag                          0\n",
       "bh_normal_date                0\n",
       "dtype: int64"
      ]
     },
     "execution_count": 83,
     "metadata": {},
     "output_type": "execute_result"
    }
   ],
   "source": [
    "#check the presence of missing values \n",
    "combined_df.isna().sum()"
   ]
  },
  {
   "cell_type": "markdown",
   "id": "a8110b7c-bc0f-4261-9283-cc824d57fae2",
   "metadata": {},
   "source": [
    "Since each row from both dataframes contains different information in some columns while sharing the same information in others, concatenation was the appropriate choice. However, this results in the newly integrated columns from the behaviour dataframe having no values for the commonly shared traits."
   ]
  },
  {
   "cell_type": "markdown",
   "id": "9fb05f2c-e43f-4611-aee4-9886e111fb94",
   "metadata": {},
   "source": [
    "#### 2.10.4 Fill in the missing values"
   ]
  },
  {
   "cell_type": "markdown",
   "id": "7096c732-fc86-4dad-ac73-4fe1a164d532",
   "metadata": {},
   "source": [
    "Rather than using common methods to fill missing values, which are often inexact, it is possible to fill the empty values with the exact appropriate information, though this approach is more complex and computationally expensive. The method employed is as follows:\n",
    "\n",
    "- For each row with missing values, find the corresponding filled row using the columns user, cate_id, and brand.\n",
    "\n",
    "- For users with more than two instances (two different interactions with ads), it can be challenging for the program to select the appropriate row from the df dataset for the missing row in the bh dataset. Therefore, the time difference between seeing the ad and the behaviour should be evaluated, and the row with the smallest time difference should be selected.\n",
    "\n",
    "- Since missing values were previously deleted from the behaviour dataset, some users in merged_df may no longer be present in merged_bh. This should also be taken into account."
   ]
  },
  {
   "cell_type": "code",
   "execution_count": null,
   "id": "f1bcd396-ecda-497f-b6f5-6a1e965fa1f4",
   "metadata": {},
   "outputs": [],
   "source": [
    "#set up a function to find the closest matching filled row for a given missing row\n",
    "def find_closest_matching_filled_row(missing_row, filled_rows):\n",
    "    #filter filled_rows based on matching 'user', 'cate_id', and 'brand'\n",
    "    matches = filled_rows[\n",
    "        (filled_rows['user'] == missing_row['user']) &\n",
    "        (filled_rows['cate_id'] == missing_row['cate_id']) &\n",
    "        (filled_rows['brand'] == missing_row['brand'])\n",
    "    ]\n",
    "    \n",
    "    if not matches.empty:\n",
    "        if len(matches) > 1:\n",
    "            \n",
    "            #calculate the time difference\n",
    "            matches['time_diff'] = (matches['ad_normal_date'] - bh_normal_date).abs()\n",
    "            #return the row with the smallest time difference\n",
    "            closest_row = matches.loc[matches['time_diff'].idxmin()]\n",
    "        else:\n",
    "            #if only one match is found, return that match\n",
    "            closest_row = matches.iloc[0]\n",
    "        return closest_row\n",
    "    else:\n",
    "        #return None if no matching rows are found\n",
    "        return None\n",
    "\n",
    "#initialise an empty DataFrame to store results\n",
    "combined_df_filled = pd.DataFrame()\n",
    "\n",
    "#get unique users from combined_df\n",
    "users = combined_df['user'].unique()\n",
    "total_users = len(users)\n",
    "\n",
    "#set up a variable to track progress milestones\n",
    "milestone = 10  #set milestone at 10%\n",
    "\n",
    "#process each user\n",
    "for i, user in enumerate(users):\n",
    "    user_df = combined_df[combined_df['user'] == user]\n",
    "    \n",
    "    #separate filled and missing rows\n",
    "    filled_rows = user_df.dropna(subset=['ad_normal_date'])\n",
    "    missing_rows = user_df[user_df.isna().any(axis=1)]\n",
    "\n",
    "    if not missing_rows.empty:\n",
    "        #find closest matching filled row for each missing row\n",
    "        for idx, missing_row in missing_rows.iterrows():\n",
    "            matching_row = find_closest_matching_filled_row(missing_row, filled_rows)\n",
    "            if matching_row is not None:\n",
    "                #update missing_row with values from matching_row\n",
    "                for column in missing_row.index:\n",
    "                    if pd.isna(missing_row[column]) and column in matching_row.index:\n",
    "                        missing_rows.at[idx, column] = matching_row[column]\n",
    "        \n",
    "        #combine processed missing rows with already filled rows\n",
    "        user_df_filled = pd.concat([filled_rows, missing_rows], ignore_index=True)\n",
    "        combined_df_filled = pd.concat([combined_df_filled, user_df_filled], ignore_index=True)\n",
    "\n",
    "    #calculate and display progress in 10% increments\n",
    "    progress = (i + 1) / total_users * 100\n",
    "    if progress >= milestone:\n",
    "        print(f\"Progress: {milestone}% - {total_users - (i + 1)} users remaining\")\n",
    "        milestone += 10\n",
    "\n",
    "print(\"All users processed and missing values filled.\")"
   ]
  },
  {
   "attachments": {
    "282986dc-fb97-49fb-9ba7-fbf9c169bf4d.png": {
     "image/png": "[encoded data removed]"
    }
   },
   "cell_type": "markdown",
   "id": "0f4f69ad-65cf-4c2b-8413-f57665716b3e",
   "metadata": {},
   "source": [
    "![image.png](attachment:282986dc-fb97-49fb-9ba7-fbf9c169bf4d.png)\n",
    "\n",
    "(Note that the code was executed in a different notebook and the output is copied here due to its time-consuming nature.)"
   ]
  },
  {
   "cell_type": "code",
   "execution_count": null,
   "id": "fb09e12e-5d4c-434e-8c38-7d297820fc82",
   "metadata": {},
   "outputs": [],
   "source": [
    "combined_df_filled.to_csv('combined_df_filled.csv', index=False)"
   ]
  },
  {
   "cell_type": "code",
   "execution_count": 4,
   "id": "d8cfb410-d22a-4281-ac2c-ce235226cbc7",
   "metadata": {},
   "outputs": [],
   "source": [
    "combined_df_filled = pd.read_csv(\"combined_df_filled.csv\")"
   ]
  },
  {
   "cell_type": "markdown",
   "id": "8cafda28-3080-4e89-8b54-34a4fd9b1bed",
   "metadata": {},
   "source": [
    "#### 2.10.5. Inspect the combined_df_filled dataset"
   ]
  },
  {
   "cell_type": "code",
   "execution_count": 85,
   "id": "2f8913d5-cb2d-44e7-8467-69658b51780f",
   "metadata": {},
   "outputs": [
    {
     "data": {
      "text/plain": [
       "Index(['user', 'adgroup_id', 'nonclk', 'clk', 'cate_id', 'campaign_id',\n",
       "       'customer', 'brand', 'price', 'cms_segid', 'cms_group_id',\n",
       "       'final_gender_code', 'age_level', 'pvalue_level', 'shopping_level',\n",
       "       'occupation', 'new_user_class_level', 'ad_normal_date', 'btag',\n",
       "       'bh_normal_date'],\n",
       "      dtype='object')"
      ]
     },
     "execution_count": 85,
     "metadata": {},
     "output_type": "execute_result"
    }
   ],
   "source": [
    "combined_df_filled.columns"
   ]
  },
  {
   "cell_type": "code",
   "execution_count": 86,
   "id": "5e2a8472-13fb-455f-bff2-dc8c51d0875f",
   "metadata": {},
   "outputs": [
    {
     "data": {
      "text/plain": [
       "user                    0\n",
       "adgroup_id              0\n",
       "nonclk                  0\n",
       "clk                     0\n",
       "cate_id                 0\n",
       "campaign_id             0\n",
       "customer                0\n",
       "brand                   0\n",
       "price                   0\n",
       "cms_segid               0\n",
       "cms_group_id            0\n",
       "final_gender_code       0\n",
       "age_level               0\n",
       "pvalue_level            0\n",
       "shopping_level          0\n",
       "occupation              0\n",
       "new_user_class_level    0\n",
       "ad_normal_date          0\n",
       "btag                    0\n",
       "bh_normal_date          0\n",
       "dtype: int64"
      ]
     },
     "execution_count": 86,
     "metadata": {},
     "output_type": "execute_result"
    }
   ],
   "source": [
    "#inspect if there are any missing values left\n",
    "combined_df_filled.isna().sum()"
   ]
  },
  {
   "cell_type": "code",
   "execution_count": 87,
   "id": "25a2150a-234c-40a7-b26e-7d9dbbcc9dec",
   "metadata": {},
   "outputs": [
    {
     "data": {
      "text/plain": [
       "(2552709, 20)"
      ]
     },
     "execution_count": 87,
     "metadata": {},
     "output_type": "execute_result"
    }
   ],
   "source": [
    "combined_df_filled.shape"
   ]
  },
  {
   "cell_type": "code",
   "execution_count": 88,
   "id": "5d9ecf78-6409-4a6e-a17c-0d39d17a93ca",
   "metadata": {},
   "outputs": [
    {
     "data": {
      "text/html": [
       "<div>\n",
       "<style scoped>\n",
       "    .dataframe tbody tr th:only-of-type {\n",
       "        vertical-align: middle;\n",
       "    }\n",
       "\n",
       "    .dataframe tbody tr th {\n",
       "        vertical-align: top;\n",
       "    }\n",
       "\n",
       "    .dataframe thead th {\n",
       "        text-align: right;\n",
       "    }\n",
       "</style>\n",
       "<table border=\"1\" class=\"dataframe\">\n",
       "  <thead>\n",
       "    <tr style=\"text-align: right;\">\n",
       "      <th></th>\n",
       "      <th>user</th>\n",
       "      <th>adgroup_id</th>\n",
       "      <th>nonclk</th>\n",
       "      <th>clk</th>\n",
       "      <th>cate_id</th>\n",
       "      <th>campaign_id</th>\n",
       "      <th>customer</th>\n",
       "      <th>brand</th>\n",
       "      <th>price</th>\n",
       "      <th>cms_segid</th>\n",
       "      <th>cms_group_id</th>\n",
       "      <th>final_gender_code</th>\n",
       "      <th>age_level</th>\n",
       "      <th>pvalue_level</th>\n",
       "      <th>shopping_level</th>\n",
       "      <th>occupation</th>\n",
       "      <th>new_user_class_level</th>\n",
       "      <th>ad_normal_date</th>\n",
       "      <th>btag</th>\n",
       "      <th>bh_normal_date</th>\n",
       "    </tr>\n",
       "  </thead>\n",
       "  <tbody>\n",
       "    <tr>\n",
       "      <th>0</th>\n",
       "      <td>358193.0</td>\n",
       "      <td>102.0</td>\n",
       "      <td>0.0</td>\n",
       "      <td>1.0</td>\n",
       "      <td>126.0</td>\n",
       "      <td>138148.0</td>\n",
       "      <td>20107.0</td>\n",
       "      <td>102457.0</td>\n",
       "      <td>98.0</td>\n",
       "      <td>7.0</td>\n",
       "      <td>2.0</td>\n",
       "      <td>2.0</td>\n",
       "      <td>2.0</td>\n",
       "      <td>2.0</td>\n",
       "      <td>3.0</td>\n",
       "      <td>0.0</td>\n",
       "      <td>1.0</td>\n",
       "      <td>2017-05-10 05:25:53</td>\n",
       "      <td>adseen</td>\n",
       "      <td>2017-05-10 05:25:53</td>\n",
       "    </tr>\n",
       "    <tr>\n",
       "      <th>1</th>\n",
       "      <td>358193.0</td>\n",
       "      <td>102.0</td>\n",
       "      <td>1.0</td>\n",
       "      <td>0.0</td>\n",
       "      <td>126.0</td>\n",
       "      <td>138148.0</td>\n",
       "      <td>20107.0</td>\n",
       "      <td>102457.0</td>\n",
       "      <td>98.0</td>\n",
       "      <td>7.0</td>\n",
       "      <td>2.0</td>\n",
       "      <td>2.0</td>\n",
       "      <td>2.0</td>\n",
       "      <td>2.0</td>\n",
       "      <td>3.0</td>\n",
       "      <td>0.0</td>\n",
       "      <td>1.0</td>\n",
       "      <td>2017-05-09 19:39:42</td>\n",
       "      <td>adseen</td>\n",
       "      <td>2017-05-09 19:39:42</td>\n",
       "    </tr>\n",
       "    <tr>\n",
       "      <th>2</th>\n",
       "      <td>358193.0</td>\n",
       "      <td>102.0</td>\n",
       "      <td>1.0</td>\n",
       "      <td>0.0</td>\n",
       "      <td>126.0</td>\n",
       "      <td>138148.0</td>\n",
       "      <td>20107.0</td>\n",
       "      <td>102457.0</td>\n",
       "      <td>98.0</td>\n",
       "      <td>7.0</td>\n",
       "      <td>2.0</td>\n",
       "      <td>2.0</td>\n",
       "      <td>2.0</td>\n",
       "      <td>2.0</td>\n",
       "      <td>3.0</td>\n",
       "      <td>0.0</td>\n",
       "      <td>1.0</td>\n",
       "      <td>2017-05-09 19:39:42</td>\n",
       "      <td>pv</td>\n",
       "      <td>2017-05-09 13:53:43</td>\n",
       "    </tr>\n",
       "    <tr>\n",
       "      <th>3</th>\n",
       "      <td>358193.0</td>\n",
       "      <td>102.0</td>\n",
       "      <td>0.0</td>\n",
       "      <td>1.0</td>\n",
       "      <td>126.0</td>\n",
       "      <td>138148.0</td>\n",
       "      <td>20107.0</td>\n",
       "      <td>102457.0</td>\n",
       "      <td>98.0</td>\n",
       "      <td>7.0</td>\n",
       "      <td>2.0</td>\n",
       "      <td>2.0</td>\n",
       "      <td>2.0</td>\n",
       "      <td>2.0</td>\n",
       "      <td>3.0</td>\n",
       "      <td>0.0</td>\n",
       "      <td>1.0</td>\n",
       "      <td>2017-05-10 05:25:53</td>\n",
       "      <td>pv</td>\n",
       "      <td>2017-05-13 15:17:37</td>\n",
       "    </tr>\n",
       "    <tr>\n",
       "      <th>4</th>\n",
       "      <td>358193.0</td>\n",
       "      <td>102.0</td>\n",
       "      <td>1.0</td>\n",
       "      <td>0.0</td>\n",
       "      <td>126.0</td>\n",
       "      <td>138148.0</td>\n",
       "      <td>20107.0</td>\n",
       "      <td>102457.0</td>\n",
       "      <td>98.0</td>\n",
       "      <td>7.0</td>\n",
       "      <td>2.0</td>\n",
       "      <td>2.0</td>\n",
       "      <td>2.0</td>\n",
       "      <td>2.0</td>\n",
       "      <td>3.0</td>\n",
       "      <td>0.0</td>\n",
       "      <td>1.0</td>\n",
       "      <td>2017-05-09 19:39:42</td>\n",
       "      <td>pv</td>\n",
       "      <td>2017-05-08 13:51:09</td>\n",
       "    </tr>\n",
       "  </tbody>\n",
       "</table>\n",
       "</div>"
      ],
      "text/plain": [
       "       user  adgroup_id  nonclk  clk  cate_id  campaign_id  customer  \\\n",
       "0  358193.0       102.0     0.0  1.0    126.0     138148.0   20107.0   \n",
       "1  358193.0       102.0     1.0  0.0    126.0     138148.0   20107.0   \n",
       "2  358193.0       102.0     1.0  0.0    126.0     138148.0   20107.0   \n",
       "3  358193.0       102.0     0.0  1.0    126.0     138148.0   20107.0   \n",
       "4  358193.0       102.0     1.0  0.0    126.0     138148.0   20107.0   \n",
       "\n",
       "      brand  price  cms_segid  cms_group_id  final_gender_code  age_level  \\\n",
       "0  102457.0   98.0        7.0           2.0                2.0        2.0   \n",
       "1  102457.0   98.0        7.0           2.0                2.0        2.0   \n",
       "2  102457.0   98.0        7.0           2.0                2.0        2.0   \n",
       "3  102457.0   98.0        7.0           2.0                2.0        2.0   \n",
       "4  102457.0   98.0        7.0           2.0                2.0        2.0   \n",
       "\n",
       "   pvalue_level  shopping_level  occupation  new_user_class_level  \\\n",
       "0           2.0             3.0         0.0                   1.0   \n",
       "1           2.0             3.0         0.0                   1.0   \n",
       "2           2.0             3.0         0.0                   1.0   \n",
       "3           2.0             3.0         0.0                   1.0   \n",
       "4           2.0             3.0         0.0                   1.0   \n",
       "\n",
       "        ad_normal_date    btag       bh_normal_date  \n",
       "0  2017-05-10 05:25:53  adseen  2017-05-10 05:25:53  \n",
       "1  2017-05-09 19:39:42  adseen  2017-05-09 19:39:42  \n",
       "2  2017-05-09 19:39:42      pv  2017-05-09 13:53:43  \n",
       "3  2017-05-10 05:25:53      pv  2017-05-13 15:17:37  \n",
       "4  2017-05-09 19:39:42      pv  2017-05-08 13:51:09  "
      ]
     },
     "execution_count": 88,
     "metadata": {},
     "output_type": "execute_result"
    }
   ],
   "source": [
    "#get an overview of the new dataset\n",
    "combined_df_filled.head()"
   ]
  },
  {
   "cell_type": "code",
   "execution_count": 89,
   "id": "fcf69582-b4cc-4ee8-a554-01fa75924918",
   "metadata": {},
   "outputs": [
    {
     "data": {
      "text/plain": [
       "clk\n",
       "0.0    0.556825\n",
       "1.0    0.443175\n",
       "Name: proportion, dtype: float64"
      ]
     },
     "execution_count": 89,
     "metadata": {},
     "output_type": "execute_result"
    }
   ],
   "source": [
    "#check the new proportions of clicks to non clicks \n",
    "combined_df_filled['clk'].value_counts(normalize=True)"
   ]
  },
  {
   "cell_type": "code",
   "execution_count": 5,
   "id": "216aa9c7-2d46-44ce-9a8f-b8cd703448a0",
   "metadata": {},
   "outputs": [
    {
     "data": {
      "text/plain": [
       "btag\n",
       "pv        0.891156\n",
       "adseen    0.072371\n",
       "cart      0.021789\n",
       "fav       0.012346\n",
       "buy       0.002339\n",
       "Name: proportion, dtype: float64"
      ]
     },
     "execution_count": 5,
     "metadata": {},
     "output_type": "execute_result"
    }
   ],
   "source": [
    "combined_df_filled['btag'].value_counts(normalize=True)"
   ]
  },
  {
   "cell_type": "markdown",
   "id": "f3b79b83-5d77-470e-b75e-4f14ffbfca81",
   "metadata": {},
   "source": [
    "Upon inspecting the dataset, it was found that the click-to-non-click ratio had been distorted due to the duplication of click information across behavioural rows. Additionally, the behaviour \"pv\" (page view) in the btag column dominated. While the pv behaviour and its timestamp would be useful for sequencing user actions in a larger dataset and enabling machine models to better extract patterns of user behaviour, this approach does not align with the research goals for this dataset. The goal is to maintain a smaller dataset, and SMEs typically do not have the infrastructure or resources to handle such large volumes of detailed behavioural data, as it is not as commonly available to them as it is to large online retailers. Therefore, all rows with this btag value were removed, as they add unnecessary complexity that is not relevant for the intended analysis."
   ]
  },
  {
   "cell_type": "code",
   "execution_count": 90,
   "id": "c31dd9f3-0dca-4805-8553-250c860ae9b8",
   "metadata": {},
   "outputs": [],
   "source": [
    "combined_df_filled = combined_df_filled[combined_df_filled['btag'] != 'pv']"
   ]
  },
  {
   "cell_type": "code",
   "execution_count": 91,
   "id": "5f2dc89f-95c5-4749-80e8-351190eda5ec",
   "metadata": {},
   "outputs": [
    {
     "data": {
      "text/plain": [
       "(277848, 20)"
      ]
     },
     "execution_count": 91,
     "metadata": {},
     "output_type": "execute_result"
    }
   ],
   "source": [
    "combined_df_filled.shape"
   ]
  },
  {
   "cell_type": "code",
   "execution_count": 92,
   "id": "594050fd-f9e7-4988-9b26-597c22bd0699",
   "metadata": {},
   "outputs": [
    {
     "data": {
      "text/plain": [
       "clk\n",
       "0.0    0.58835\n",
       "1.0    0.41165\n",
       "Name: proportion, dtype: float64"
      ]
     },
     "execution_count": 92,
     "metadata": {},
     "output_type": "execute_result"
    }
   ],
   "source": [
    "#check the new proportions of clicks to non clicks \n",
    "combined_df_filled['clk'].value_counts(normalize=True)"
   ]
  },
  {
   "cell_type": "markdown",
   "id": "c5d297a6-8ac2-4b87-ab5b-03b13376dcd7",
   "metadata": {},
   "source": [
    "When downsizing, it is essential to restore the original ratio. Random sampling cannot be applied, as it may lead to over-representation of certain users or the removal of others' behaviours, potentially compromising the data quality of the final dataset. All of these issues will be addressed in Jupyter Notebook Part 2."
   ]
  },
  {
   "cell_type": "markdown",
   "id": "a3af9de8-4604-4db3-9c3a-3f6f0c339bd4",
   "metadata": {},
   "source": [
    "# 3. Exporting the final dataset:"
   ]
  },
  {
   "cell_type": "code",
   "execution_count": 94,
   "id": "0dd49e8d-158e-457f-bc9a-7ef5540c4d12",
   "metadata": {},
   "outputs": [],
   "source": [
    "#save the final dataset as a csv file \n",
    "combined_df_filled.to_csv('project_initial_file_new.csv', index=False)"
   ]
  }
 ],
 "metadata": {
  "kernelspec": {
   "display_name": "Python 3 (ipykernel)",
   "language": "python",
   "name": "python3"
  },
  "language_info": {
   "codemirror_mode": {
    "name": "ipython",
    "version": 3
   },
   "file_extension": ".py",
   "mimetype": "text/x-python",
   "name": "python",
   "nbconvert_exporter": "python",
   "pygments_lexer": "ipython3",
   "version": "3.12.4"
  }
 },
 "nbformat": 4,
 "nbformat_minor": 5
}
