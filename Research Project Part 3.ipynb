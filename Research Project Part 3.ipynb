{
 "cells": [
  {
   "cell_type": "markdown",
   "id": "e9c653d1-0125-4cd6-81e4-cf2f2e8652ca",
   "metadata": {},
   "source": [
    "<div style=\"text-align: center;\">\n",
    "    <h1>RESEARCH PROJECT PART 3</h1>\n",
    "</div>"
   ]
  },
  {
   "cell_type": "markdown",
   "id": "70804d17-f136-46b6-9c89-7b0c1239fbd2",
   "metadata": {},
   "source": [
    "<div style=\"text-align: center;\">\n",
    "     The primary goal of this Jupyter notebook is to train both machine learning and deep learning models, using hyperparameter fine-tuning, and evaluate the impact of feature selection methods on machine learning models as well.\n",
    "</div>"
   ]
  },
  {
   "cell_type": "markdown",
   "id": "54aa601a-0f59-486c-b89e-ad73692442b4",
   "metadata": {},
   "source": [
    "# 1. Preparing The Environment"
   ]
  },
  {
   "cell_type": "code",
   "execution_count": 62,
   "id": "a180b240-f219-4e61-a206-a93b4d3b9f44",
   "metadata": {},
   "outputs": [],
   "source": [
    "#libraries for dfs \n",
    "import numpy as np\n",
    "import pandas as pd\n",
    "import matplotlib.pyplot as plt\n",
    "import seaborn as sns\n",
    "\n",
    "#libraries for time \n",
    "import time\n",
    "from timeit import default_timer as timer\n",
    "from datetime import timedelta\n",
    "\n",
    "#libraries for metrics \n",
    "from sklearn.metrics import confusion_matrix, ConfusionMatrixDisplay\n",
    "from sklearn.metrics import accuracy_score\n",
    "from sklearn.metrics import precision_recall_fscore_support\n",
    "from sklearn.metrics import f1_score, make_scorer\n",
    "from sklearn.metrics import roc_auc_score\n",
    "from sklearn.metrics import roc_curve\n",
    "from tensorflow.keras.metrics import AUC\n",
    "\n",
    "#libraries for algorithms\n",
    "import tensorflow as tf  \n",
    "from sklearn.dummy import DummyClassifier\n",
    "from sklearn.tree import DecisionTreeClassifier\n",
    "from catboost import CatBoostClassifier\n",
    "from scikeras.wrappers import KerasClassifier\n",
    "from tensorflow.keras.models import Sequential\n",
    "from tensorflow.keras.layers import Dense, Dropout\n",
    "from deepctr.models import WDL\n",
    "from deepctr.models import DeepFM\n",
    "from deepctr.models import xDeepFM\n",
    "\n",
    "#libaries for features\n",
    "import shap\n",
    "from sklearn.feature_selection import RFE\n",
    "from sklearn.inspection import permutation_importance\n",
    "from sklearn.preprocessing import LabelEncoder, MinMaxScaler #for deep learning preprocessing\n",
    "from deepctr.feature_column import SparseFeat, DenseFeat, get_feature_names #for deep learning preprocessing\n",
    "\n",
    "#libraries for optimisation\n",
    "import optuna\n",
    "from optuna.integration import TFKerasPruningCallback\n",
    "from skopt import BayesSearchCV\n",
    "from sklearn.model_selection import StratifiedKFold, cross_val_score\n",
    "from tensorflow.keras.optimizers import Adam\n",
    "\n",
    "import dask.dataframe as dd\n",
    "from dask.distributed import Client\n",
    "from dask_ml.model_selection import GridSearchCV\n",
    "from dask_ml.preprocessing import Categorizer\n",
    "\n",
    "#other libraries\n",
    "from wakepy import keep #keep programs running despite inactivity \n",
    "from tqdm import tqdm #progress bar\n",
    "from dask.diagnostics import ProgressBar\n",
    "import warnings #supress warnings \n",
    "warnings.filterwarnings(\"ignore\")\n",
    "import random  #random operations\n",
    "import logging  #logging for debugging or tracking\n",
    "import joblib\n",
    "from joblib import dump, load\n",
    "from keras.models import load_model"
   ]
  },
  {
   "cell_type": "markdown",
   "id": "36ded68e-aa59-4c95-aa72-ced306bef399",
   "metadata": {},
   "source": [
    "### 1.1. Loading the datasets:"
   ]
  },
  {
   "cell_type": "code",
   "execution_count": 38,
   "id": "e1ac6a33-7953-497e-8af5-464afa6c0707",
   "metadata": {},
   "outputs": [],
   "source": [
    "Xtrain = pd.read_csv(\"Xtrain_new_exp.csv\")\n",
    "Xtest = pd.read_csv(\"Xtest_new_exp.csv\")\n",
    "\n",
    "ytrain = pd.read_csv(\"ytrain_new_exp.csv\").squeeze()\n",
    "ytest = pd.read_csv(\"ytest_new_exp.csv\").squeeze()"
   ]
  },
  {
   "cell_type": "markdown",
   "id": "bf84bac5-6e24-433d-b101-4e1c6abd5b2d",
   "metadata": {},
   "source": [
    "### 1.2. Inspect the datasets:"
   ]
  },
  {
   "cell_type": "code",
   "execution_count": 202,
   "id": "95958748-a4d2-4b28-b867-0f7a31275d1c",
   "metadata": {},
   "outputs": [
    {
     "data": {
      "text/plain": [
       "(99568, 110)"
      ]
     },
     "execution_count": 202,
     "metadata": {},
     "output_type": "execute_result"
    }
   ],
   "source": [
    "Xtrain.shape"
   ]
  },
  {
   "cell_type": "code",
   "execution_count": 203,
   "id": "151448d1-5a5f-4157-81c5-15fa976ac512",
   "metadata": {},
   "outputs": [
    {
     "data": {
      "text/plain": [
       "(99568,)"
      ]
     },
     "execution_count": 203,
     "metadata": {},
     "output_type": "execute_result"
    }
   ],
   "source": [
    "ytrain.shape"
   ]
  },
  {
   "cell_type": "code",
   "execution_count": 204,
   "id": "bde8d23b-9e78-448c-95ec-5a68ef6320e2",
   "metadata": {},
   "outputs": [
    {
     "data": {
      "text/plain": [
       "(13524, 110)"
      ]
     },
     "execution_count": 204,
     "metadata": {},
     "output_type": "execute_result"
    }
   ],
   "source": [
    "Xtest.shape"
   ]
  },
  {
   "cell_type": "code",
   "execution_count": 205,
   "id": "35e35d01-8669-4650-8a8a-81937914efa6",
   "metadata": {},
   "outputs": [
    {
     "data": {
      "text/plain": [
       "(13524,)"
      ]
     },
     "execution_count": 205,
     "metadata": {},
     "output_type": "execute_result"
    }
   ],
   "source": [
    "ytest.shape"
   ]
  },
  {
   "cell_type": "markdown",
   "id": "2d916fed-818b-45f9-82ff-07c1ec651997",
   "metadata": {},
   "source": [
    "# 2. Baseline:"
   ]
  },
  {
   "cell_type": "markdown",
   "id": "ebd32cca-8bd6-4f25-853a-c0f623f4f86a",
   "metadata": {},
   "source": [
    "### 2.1. Training set:"
   ]
  },
  {
   "cell_type": "code",
   "execution_count": 206,
   "id": "3a40ca00-0142-415c-bd32-fd5ede908ef9",
   "metadata": {},
   "outputs": [
    {
     "name": "stdout",
     "output_type": "stream",
     "text": [
      "Baseline:\n",
      "Precision: 0.468\n",
      "Recall: 0.500\n",
      "F1 Score: 0.484\n",
      "AUC Score: 0.500\n"
     ]
    }
   ],
   "source": [
    "#create a dummy classifier with the 'most_frequent' strategy\n",
    "dummy_clf = DummyClassifier(strategy=\"most_frequent\")\n",
    "dummy_clf.fit(Xtrain, ytrain)\n",
    "\n",
    "#predict the class labels\n",
    "yhat_train = dummy_clf.predict(Xtrain)\n",
    "\n",
    "#evaluate the performance of dummy classifier on the training set\n",
    "precision, recall, fscore, _ = precision_recall_fscore_support(ytrain, yhat_train, average=\"macro\", zero_division=0)\n",
    "auc_score = roc_auc_score(ytrain, yhat_train)\n",
    "\n",
    "print(\"Baseline:\")\n",
    "print(f\"Precision: {precision:.3f}\")\n",
    "print(f\"Recall: {recall:.3f}\")\n",
    "print(f\"F1 Score: {fscore:.3f}\")\n",
    "print(f\"AUC Score: {auc_score:.3f}\")"
   ]
  },
  {
   "cell_type": "markdown",
   "id": "7d0b04de-1c3e-4360-84af-a662a4530498",
   "metadata": {},
   "source": [
    "### 2.2. Testing set:"
   ]
  },
  {
   "cell_type": "code",
   "execution_count": 207,
   "id": "29892f32-4586-4fbc-9579-ec78b496b0a7",
   "metadata": {},
   "outputs": [
    {
     "name": "stdout",
     "output_type": "stream",
     "text": [
      "Baseline:\n",
      "Precision: 0.465\n",
      "Recall: 0.500\n",
      "F score: 0.482\n",
      "AUC Score: 0.500\n"
     ]
    }
   ],
   "source": [
    "#test the dummy variable on the testing set\n",
    "yhat_test = dummy_clf.predict(Xtest)\n",
    "auc_score = roc_auc_score(ytrain, yhat_train)\n",
    "\n",
    "#evaluate its performance\n",
    "p, r, f, s = precision_recall_fscore_support(ytest, yhat_test, average=\"macro\", zero_division=0)\n",
    "print(\"Baseline:\")\n",
    "print(f\"Precision: {p:.3f}\")\n",
    "print(f\"Recall: {r:.3f}\")\n",
    "print(f\"F score: {f:.3f}\")\n",
    "print(f\"AUC Score: {auc_score:.3f}\")"
   ]
  },
  {
   "cell_type": "markdown",
   "id": "97a1b2e6-619a-4b73-98b4-912b19a56e7c",
   "metadata": {},
   "source": [
    "The baseline AUC of 0.5 from the dummy classifier reflects random guessing result, as expected."
   ]
  },
  {
   "cell_type": "markdown",
   "id": "95b5bbba-8de2-4341-b96f-043c25f95f52",
   "metadata": {},
   "source": [
    "# 3. Machine Learning Models:"
   ]
  },
  {
   "cell_type": "markdown",
   "id": "c04a6c11-5bae-4f41-a11c-756c7377266a",
   "metadata": {},
   "source": [
    "The models picked for the evaluation are Decision Tree, CatBoost, and a simple custom Keras MLP."
   ]
  },
  {
   "cell_type": "markdown",
   "id": "cf7b48f2-6cdd-4015-ba07-e1c15e2407e3",
   "metadata": {},
   "source": [
    "## 3.1. Decision Tree:"
   ]
  },
  {
   "cell_type": "markdown",
   "id": "f480f10b-5975-49f8-b473-dc9861d979f8",
   "metadata": {},
   "source": [
    "### 3.1.1. Best model performance:"
   ]
  },
  {
   "cell_type": "markdown",
   "id": "4689e4ab-531d-490b-8760-25030f7ef219",
   "metadata": {},
   "source": [
    "#### 3.1.1.1. Hyperparameters optimisation:"
   ]
  },
  {
   "cell_type": "code",
   "execution_count": 208,
   "id": "85e4ec54-1a81-4acc-8224-14cea7c4a979",
   "metadata": {},
   "outputs": [
    {
     "name": "stderr",
     "output_type": "stream",
     "text": [
      "[I 2024-12-07 02:03:19,331] A new study created in memory with name: no-name-fdd76915-5964-4daa-b983-325e16dbe24e\n",
      "Best trial: 0. Best value: 0.944953:   5%|██▎                                           | 1/20 [00:06<01:57,  6.19s/it]"
     ]
    },
    {
     "name": "stdout",
     "output_type": "stream",
     "text": [
      "[I 2024-12-07 02:03:25,516] Trial 0 finished with value: 0.9449534374619271 and parameters: {'max_depth': 35, 'min_samples_split': 35}. Best is trial 0 with value: 0.9449534374619271.\n"
     ]
    },
    {
     "name": "stderr",
     "output_type": "stream",
     "text": [
      "Best trial: 1. Best value: 0.963601:  10%|████▌                                         | 2/20 [00:08<01:08,  3.82s/it]"
     ]
    },
    {
     "name": "stdout",
     "output_type": "stream",
     "text": [
      "[I 2024-12-07 02:03:27,683] Trial 1 finished with value: 0.9636007354691551 and parameters: {'max_depth': 15, 'min_samples_split': 10}. Best is trial 1 with value: 0.9636007354691551.\n"
     ]
    },
    {
     "name": "stderr",
     "output_type": "stream",
     "text": [
      "Best trial: 2. Best value: 0.973679:  15%|██████▉                                       | 3/20 [00:09<00:46,  2.73s/it]"
     ]
    },
    {
     "name": "stdout",
     "output_type": "stream",
     "text": [
      "[I 2024-12-07 02:03:29,111] Trial 2 finished with value: 0.9736793202134608 and parameters: {'max_depth': 10, 'min_samples_split': 25}. Best is trial 2 with value: 0.9736793202134608.\n"
     ]
    },
    {
     "name": "stderr",
     "output_type": "stream",
     "text": [
      "Best trial: 2. Best value: 0.973679:  20%|█████████▏                                    | 4/20 [00:10<00:33,  2.10s/it]"
     ]
    },
    {
     "name": "stdout",
     "output_type": "stream",
     "text": [
      "[I 2024-12-07 02:03:30,259] Trial 3 finished with value: 0.9056988518585157 and parameters: {'max_depth': 30, 'min_samples_split': 10}. Best is trial 2 with value: 0.9736793202134608.\n"
     ]
    },
    {
     "name": "stderr",
     "output_type": "stream",
     "text": [
      "Best trial: 2. Best value: 0.973679:  25%|███████████▌                                  | 5/20 [00:12<00:26,  1.75s/it]"
     ]
    },
    {
     "name": "stdout",
     "output_type": "stream",
     "text": [
      "[I 2024-12-07 02:03:31,370] Trial 4 finished with value: 0.9611623020594173 and parameters: {'max_depth': 15, 'min_samples_split': 5}. Best is trial 2 with value: 0.9736793202134608.\n"
     ]
    },
    {
     "name": "stderr",
     "output_type": "stream",
     "text": [
      "Best trial: 2. Best value: 0.973679:  30%|█████████████▊                                | 6/20 [00:13<00:22,  1.63s/it]"
     ]
    },
    {
     "name": "stdout",
     "output_type": "stream",
     "text": [
      "[I 2024-12-07 02:03:32,785] Trial 5 finished with value: 0.8950590230683927 and parameters: {'max_depth': 35, 'min_samples_split': 10}. Best is trial 2 with value: 0.9736793202134608.\n"
     ]
    },
    {
     "name": "stderr",
     "output_type": "stream",
     "text": [
      "Best trial: 2. Best value: 0.973679:  35%|████████████████                              | 7/20 [00:15<00:21,  1.66s/it]"
     ]
    },
    {
     "name": "stdout",
     "output_type": "stream",
     "text": [
      "[I 2024-12-07 02:03:34,492] Trial 6 finished with value: 0.9449534374619271 and parameters: {'max_depth': 35, 'min_samples_split': 35}. Best is trial 2 with value: 0.9736793202134608.\n"
     ]
    },
    {
     "name": "stderr",
     "output_type": "stream",
     "text": [
      "Best trial: 2. Best value: 0.973679:  40%|██████████████████▍                           | 8/20 [00:16<00:19,  1.61s/it]"
     ]
    },
    {
     "name": "stdout",
     "output_type": "stream",
     "text": [
      "[I 2024-12-07 02:03:35,986] Trial 7 finished with value: 0.9056988518585157 and parameters: {'max_depth': 30, 'min_samples_split': 10}. Best is trial 2 with value: 0.9736793202134608.\n"
     ]
    },
    {
     "name": "stderr",
     "output_type": "stream",
     "text": [
      "Best trial: 2. Best value: 0.973679:  45%|████████████████████▋                         | 9/20 [00:17<00:15,  1.45s/it]"
     ]
    },
    {
     "name": "stdout",
     "output_type": "stream",
     "text": [
      "[I 2024-12-07 02:03:37,083] Trial 8 finished with value: 0.9608922014927954 and parameters: {'max_depth': 5, 'min_samples_split': 25}. Best is trial 2 with value: 0.9736793202134608.\n"
     ]
    },
    {
     "name": "stderr",
     "output_type": "stream",
     "text": [
      "Best trial: 2. Best value: 0.973679:  50%|██████████████████████▌                      | 10/20 [00:19<00:14,  1.42s/it]"
     ]
    },
    {
     "name": "stdout",
     "output_type": "stream",
     "text": [
      "[I 2024-12-07 02:03:38,441] Trial 9 finished with value: 0.9684502991339137 and parameters: {'max_depth': 15, 'min_samples_split': 30}. Best is trial 2 with value: 0.9736793202134608.\n"
     ]
    },
    {
     "name": "stderr",
     "output_type": "stream",
     "text": [
      "Best trial: 2. Best value: 0.973679:  55%|████████████████████████▊                    | 11/20 [00:20<00:12,  1.42s/it]"
     ]
    },
    {
     "name": "stdout",
     "output_type": "stream",
     "text": [
      "[I 2024-12-07 02:03:39,864] Trial 10 finished with value: 0.9608922014927954 and parameters: {'max_depth': 5, 'min_samples_split': 20}. Best is trial 2 with value: 0.9736793202134608.\n"
     ]
    },
    {
     "name": "stderr",
     "output_type": "stream",
     "text": [
      "Best trial: 2. Best value: 0.973679:  60%|███████████████████████████                  | 12/20 [00:22<00:11,  1.45s/it]"
     ]
    },
    {
     "name": "stdout",
     "output_type": "stream",
     "text": [
      "[I 2024-12-07 02:03:41,370] Trial 11 finished with value: 0.9686244261500427 and parameters: {'max_depth': 15, 'min_samples_split': 25}. Best is trial 2 with value: 0.9736793202134608.\n"
     ]
    },
    {
     "name": "stderr",
     "output_type": "stream",
     "text": [
      "Best trial: 2. Best value: 0.973679:  65%|█████████████████████████████▎               | 13/20 [00:23<00:10,  1.49s/it]"
     ]
    },
    {
     "name": "stdout",
     "output_type": "stream",
     "text": [
      "[I 2024-12-07 02:03:42,959] Trial 12 finished with value: 0.9505883308823659 and parameters: {'max_depth': 20, 'min_samples_split': 20}. Best is trial 2 with value: 0.9736793202134608.\n"
     ]
    },
    {
     "name": "stderr",
     "output_type": "stream",
     "text": [
      "Best trial: 2. Best value: 0.973679:  70%|███████████████████████████████▍             | 14/20 [00:24<00:08,  1.44s/it]"
     ]
    },
    {
     "name": "stdout",
     "output_type": "stream",
     "text": [
      "[I 2024-12-07 02:03:44,274] Trial 13 finished with value: 0.9736793202134608 and parameters: {'max_depth': 10, 'min_samples_split': 25}. Best is trial 2 with value: 0.9736793202134608.\n"
     ]
    },
    {
     "name": "stderr",
     "output_type": "stream",
     "text": [
      "Best trial: 2. Best value: 0.973679:  75%|█████████████████████████████████▊           | 15/20 [00:26<00:07,  1.43s/it]"
     ]
    },
    {
     "name": "stdout",
     "output_type": "stream",
     "text": [
      "[I 2024-12-07 02:03:45,686] Trial 14 finished with value: 0.9736793202134608 and parameters: {'max_depth': 10, 'min_samples_split': 25}. Best is trial 2 with value: 0.9736793202134608.\n"
     ]
    },
    {
     "name": "stderr",
     "output_type": "stream",
     "text": [
      "Best trial: 2. Best value: 0.973679:  80%|████████████████████████████████████         | 16/20 [00:27<00:05,  1.42s/it]"
     ]
    },
    {
     "name": "stdout",
     "output_type": "stream",
     "text": [
      "[I 2024-12-07 02:03:47,090] Trial 15 finished with value: 0.947040968489717 and parameters: {'max_depth': 25, 'min_samples_split': 30}. Best is trial 2 with value: 0.9736793202134608.\n"
     ]
    },
    {
     "name": "stderr",
     "output_type": "stream",
     "text": [
      "Best trial: 2. Best value: 0.973679:  85%|██████████████████████████████████████▎      | 17/20 [00:29<00:04,  1.42s/it]"
     ]
    },
    {
     "name": "stdout",
     "output_type": "stream",
     "text": [
      "[I 2024-12-07 02:03:48,503] Trial 16 finished with value: 0.9732166331973883 and parameters: {'max_depth': 10, 'min_samples_split': 15}. Best is trial 2 with value: 0.9736793202134608.\n"
     ]
    },
    {
     "name": "stderr",
     "output_type": "stream",
     "text": [
      "Best trial: 17. Best value: 0.973684:  90%|███████████████████████████████████████▌    | 18/20 [00:30<00:02,  1.40s/it]"
     ]
    },
    {
     "name": "stdout",
     "output_type": "stream",
     "text": [
      "[I 2024-12-07 02:03:49,854] Trial 17 finished with value: 0.9736836704732699 and parameters: {'max_depth': 10, 'min_samples_split': 30}. Best is trial 17 with value: 0.9736836704732699.\n"
     ]
    },
    {
     "name": "stderr",
     "output_type": "stream",
     "text": [
      "Best trial: 17. Best value: 0.973684:  95%|█████████████████████████████████████████▊  | 19/20 [00:32<00:01,  1.43s/it]"
     ]
    },
    {
     "name": "stdout",
     "output_type": "stream",
     "text": [
      "[I 2024-12-07 02:03:51,347] Trial 18 finished with value: 0.9559449995487602 and parameters: {'max_depth': 20, 'min_samples_split': 30}. Best is trial 17 with value: 0.9736836704732699.\n"
     ]
    },
    {
     "name": "stderr",
     "output_type": "stream",
     "text": [
      "Best trial: 17. Best value: 0.973684: 100%|████████████████████████████████████████████| 20/20 [00:33<00:00,  1.66s/it]"
     ]
    },
    {
     "name": "stdout",
     "output_type": "stream",
     "text": [
      "[I 2024-12-07 02:03:52,604] Trial 19 finished with value: 0.9608922014927954 and parameters: {'max_depth': 5, 'min_samples_split': 35}. Best is trial 17 with value: 0.9736836704732699.\n",
      "Execution time HH:MM:SS: 0:00:33.301220\n"
     ]
    },
    {
     "name": "stderr",
     "output_type": "stream",
     "text": [
      "\n"
     ]
    }
   ],
   "source": [
    "#record execution time\n",
    "start = timer()\n",
    "\n",
    "#define the objective function for Optuna\n",
    "def objective_dt(trial_dt):\n",
    "    #suggest values for the hyperparameters\n",
    "    max_depth_dt = trial_dt.suggest_int(\"max_depth\", 5, 40, step=5)\n",
    "    min_samples_split_dt = trial_dt.suggest_int(\"min_samples_split\", 5, 35, step=5)\n",
    "\n",
    "    #set up the DecisionTreeClassifier with the suggested hyperparameters\n",
    "    dt_classifier = DecisionTreeClassifier(\n",
    "        random_state=7,\n",
    "        class_weight=\"balanced\",\n",
    "        max_depth=max_depth_dt,\n",
    "        min_samples_split=min_samples_split_dt\n",
    "    )\n",
    "\n",
    "    #perform cross-validation and return the mean AUC score\n",
    "    cv_dt = StratifiedKFold(n_splits=10, shuffle=True, random_state=7)\n",
    "    scores_dt = cross_val_score(\n",
    "        dt_classifier, Xtrain, ytrain, cv=cv_dt, scoring=\"roc_auc\", n_jobs=-1\n",
    "    )\n",
    "    return scores_dt.mean()\n",
    "\n",
    "#optimise the objective function\n",
    "study_dt = optuna.create_study(direction=\"maximize\")\n",
    "study_dt.optimize(objective_dt, n_trials=20, show_progress_bar=True)\n",
    "\n",
    "#print execution time\n",
    "print(\"Execution time HH:MM:SS:\", timedelta(seconds=timer() - start))"
   ]
  },
  {
   "cell_type": "code",
   "execution_count": 209,
   "id": "9db81d40-d0cb-45cd-a105-57ed0a1d8de9",
   "metadata": {},
   "outputs": [
    {
     "name": "stdout",
     "output_type": "stream",
     "text": [
      "Best parameters: {'max_depth': 10, 'min_samples_split': 30}\n"
     ]
    }
   ],
   "source": [
    "#print the best parameters \n",
    "print(\"Best parameters:\", study_dt.best_params)"
   ]
  },
  {
   "cell_type": "code",
   "execution_count": 210,
   "id": "e3f1f1aa-cfe8-496f-8198-6f9c29f51d37",
   "metadata": {},
   "outputs": [
    {
     "name": "stdout",
     "output_type": "stream",
     "text": [
      "Best AUC score: 0.9736836704732699\n"
     ]
    }
   ],
   "source": [
    "#print the best AUC score \n",
    "print(\"Best AUC score:\", study_dt.best_value)"
   ]
  },
  {
   "cell_type": "code",
   "execution_count": 211,
   "id": "20240198-a894-4dc1-8935-a305038b0ee7",
   "metadata": {},
   "outputs": [
    {
     "data": {
      "text/html": [
       "<style>#sk-container-id-1 {\n",
       "  /* Definition of color scheme common for light and dark mode */\n",
       "  --sklearn-color-text: black;\n",
       "  --sklearn-color-line: gray;\n",
       "  /* Definition of color scheme for unfitted estimators */\n",
       "  --sklearn-color-unfitted-level-0: #fff5e6;\n",
       "  --sklearn-color-unfitted-level-1: #f6e4d2;\n",
       "  --sklearn-color-unfitted-level-2: #ffe0b3;\n",
       "  --sklearn-color-unfitted-level-3: chocolate;\n",
       "  /* Definition of color scheme for fitted estimators */\n",
       "  --sklearn-color-fitted-level-0: #f0f8ff;\n",
       "  --sklearn-color-fitted-level-1: #d4ebff;\n",
       "  --sklearn-color-fitted-level-2: #b3dbfd;\n",
       "  --sklearn-color-fitted-level-3: cornflowerblue;\n",
       "\n",
       "  /* Specific color for light theme */\n",
       "  --sklearn-color-text-on-default-background: var(--sg-text-color, var(--theme-code-foreground, var(--jp-content-font-color1, black)));\n",
       "  --sklearn-color-background: var(--sg-background-color, var(--theme-background, var(--jp-layout-color0, white)));\n",
       "  --sklearn-color-border-box: var(--sg-text-color, var(--theme-code-foreground, var(--jp-content-font-color1, black)));\n",
       "  --sklearn-color-icon: #696969;\n",
       "\n",
       "  @media (prefers-color-scheme: dark) {\n",
       "    /* Redefinition of color scheme for dark theme */\n",
       "    --sklearn-color-text-on-default-background: var(--sg-text-color, var(--theme-code-foreground, var(--jp-content-font-color1, white)));\n",
       "    --sklearn-color-background: var(--sg-background-color, var(--theme-background, var(--jp-layout-color0, #111)));\n",
       "    --sklearn-color-border-box: var(--sg-text-color, var(--theme-code-foreground, var(--jp-content-font-color1, white)));\n",
       "    --sklearn-color-icon: #878787;\n",
       "  }\n",
       "}\n",
       "\n",
       "#sk-container-id-1 {\n",
       "  color: var(--sklearn-color-text);\n",
       "}\n",
       "\n",
       "#sk-container-id-1 pre {\n",
       "  padding: 0;\n",
       "}\n",
       "\n",
       "#sk-container-id-1 input.sk-hidden--visually {\n",
       "  border: 0;\n",
       "  clip: rect(1px 1px 1px 1px);\n",
       "  clip: rect(1px, 1px, 1px, 1px);\n",
       "  height: 1px;\n",
       "  margin: -1px;\n",
       "  overflow: hidden;\n",
       "  padding: 0;\n",
       "  position: absolute;\n",
       "  width: 1px;\n",
       "}\n",
       "\n",
       "#sk-container-id-1 div.sk-dashed-wrapped {\n",
       "  border: 1px dashed var(--sklearn-color-line);\n",
       "  margin: 0 0.4em 0.5em 0.4em;\n",
       "  box-sizing: border-box;\n",
       "  padding-bottom: 0.4em;\n",
       "  background-color: var(--sklearn-color-background);\n",
       "}\n",
       "\n",
       "#sk-container-id-1 div.sk-container {\n",
       "  /* jupyter's `normalize.less` sets `[hidden] { display: none; }`\n",
       "     but bootstrap.min.css set `[hidden] { display: none !important; }`\n",
       "     so we also need the `!important` here to be able to override the\n",
       "     default hidden behavior on the sphinx rendered scikit-learn.org.\n",
       "     See: https://github.com/scikit-learn/scikit-learn/issues/21755 */\n",
       "  display: inline-block !important;\n",
       "  position: relative;\n",
       "}\n",
       "\n",
       "#sk-container-id-1 div.sk-text-repr-fallback {\n",
       "  display: none;\n",
       "}\n",
       "\n",
       "div.sk-parallel-item,\n",
       "div.sk-serial,\n",
       "div.sk-item {\n",
       "  /* draw centered vertical line to link estimators */\n",
       "  background-image: linear-gradient(var(--sklearn-color-text-on-default-background), var(--sklearn-color-text-on-default-background));\n",
       "  background-size: 2px 100%;\n",
       "  background-repeat: no-repeat;\n",
       "  background-position: center center;\n",
       "}\n",
       "\n",
       "/* Parallel-specific style estimator block */\n",
       "\n",
       "#sk-container-id-1 div.sk-parallel-item::after {\n",
       "  content: \"\";\n",
       "  width: 100%;\n",
       "  border-bottom: 2px solid var(--sklearn-color-text-on-default-background);\n",
       "  flex-grow: 1;\n",
       "}\n",
       "\n",
       "#sk-container-id-1 div.sk-parallel {\n",
       "  display: flex;\n",
       "  align-items: stretch;\n",
       "  justify-content: center;\n",
       "  background-color: var(--sklearn-color-background);\n",
       "  position: relative;\n",
       "}\n",
       "\n",
       "#sk-container-id-1 div.sk-parallel-item {\n",
       "  display: flex;\n",
       "  flex-direction: column;\n",
       "}\n",
       "\n",
       "#sk-container-id-1 div.sk-parallel-item:first-child::after {\n",
       "  align-self: flex-end;\n",
       "  width: 50%;\n",
       "}\n",
       "\n",
       "#sk-container-id-1 div.sk-parallel-item:last-child::after {\n",
       "  align-self: flex-start;\n",
       "  width: 50%;\n",
       "}\n",
       "\n",
       "#sk-container-id-1 div.sk-parallel-item:only-child::after {\n",
       "  width: 0;\n",
       "}\n",
       "\n",
       "/* Serial-specific style estimator block */\n",
       "\n",
       "#sk-container-id-1 div.sk-serial {\n",
       "  display: flex;\n",
       "  flex-direction: column;\n",
       "  align-items: center;\n",
       "  background-color: var(--sklearn-color-background);\n",
       "  padding-right: 1em;\n",
       "  padding-left: 1em;\n",
       "}\n",
       "\n",
       "\n",
       "/* Toggleable style: style used for estimator/Pipeline/ColumnTransformer box that is\n",
       "clickable and can be expanded/collapsed.\n",
       "- Pipeline and ColumnTransformer use this feature and define the default style\n",
       "- Estimators will overwrite some part of the style using the `sk-estimator` class\n",
       "*/\n",
       "\n",
       "/* Pipeline and ColumnTransformer style (default) */\n",
       "\n",
       "#sk-container-id-1 div.sk-toggleable {\n",
       "  /* Default theme specific background. It is overwritten whether we have a\n",
       "  specific estimator or a Pipeline/ColumnTransformer */\n",
       "  background-color: var(--sklearn-color-background);\n",
       "}\n",
       "\n",
       "/* Toggleable label */\n",
       "#sk-container-id-1 label.sk-toggleable__label {\n",
       "  cursor: pointer;\n",
       "  display: block;\n",
       "  width: 100%;\n",
       "  margin-bottom: 0;\n",
       "  padding: 0.5em;\n",
       "  box-sizing: border-box;\n",
       "  text-align: center;\n",
       "}\n",
       "\n",
       "#sk-container-id-1 label.sk-toggleable__label-arrow:before {\n",
       "  /* Arrow on the left of the label */\n",
       "  content: \"▸\";\n",
       "  float: left;\n",
       "  margin-right: 0.25em;\n",
       "  color: var(--sklearn-color-icon);\n",
       "}\n",
       "\n",
       "#sk-container-id-1 label.sk-toggleable__label-arrow:hover:before {\n",
       "  color: var(--sklearn-color-text);\n",
       "}\n",
       "\n",
       "/* Toggleable content - dropdown */\n",
       "\n",
       "#sk-container-id-1 div.sk-toggleable__content {\n",
       "  max-height: 0;\n",
       "  max-width: 0;\n",
       "  overflow: hidden;\n",
       "  text-align: left;\n",
       "  /* unfitted */\n",
       "  background-color: var(--sklearn-color-unfitted-level-0);\n",
       "}\n",
       "\n",
       "#sk-container-id-1 div.sk-toggleable__content.fitted {\n",
       "  /* fitted */\n",
       "  background-color: var(--sklearn-color-fitted-level-0);\n",
       "}\n",
       "\n",
       "#sk-container-id-1 div.sk-toggleable__content pre {\n",
       "  margin: 0.2em;\n",
       "  border-radius: 0.25em;\n",
       "  color: var(--sklearn-color-text);\n",
       "  /* unfitted */\n",
       "  background-color: var(--sklearn-color-unfitted-level-0);\n",
       "}\n",
       "\n",
       "#sk-container-id-1 div.sk-toggleable__content.fitted pre {\n",
       "  /* unfitted */\n",
       "  background-color: var(--sklearn-color-fitted-level-0);\n",
       "}\n",
       "\n",
       "#sk-container-id-1 input.sk-toggleable__control:checked~div.sk-toggleable__content {\n",
       "  /* Expand drop-down */\n",
       "  max-height: 200px;\n",
       "  max-width: 100%;\n",
       "  overflow: auto;\n",
       "}\n",
       "\n",
       "#sk-container-id-1 input.sk-toggleable__control:checked~label.sk-toggleable__label-arrow:before {\n",
       "  content: \"▾\";\n",
       "}\n",
       "\n",
       "/* Pipeline/ColumnTransformer-specific style */\n",
       "\n",
       "#sk-container-id-1 div.sk-label input.sk-toggleable__control:checked~label.sk-toggleable__label {\n",
       "  color: var(--sklearn-color-text);\n",
       "  background-color: var(--sklearn-color-unfitted-level-2);\n",
       "}\n",
       "\n",
       "#sk-container-id-1 div.sk-label.fitted input.sk-toggleable__control:checked~label.sk-toggleable__label {\n",
       "  background-color: var(--sklearn-color-fitted-level-2);\n",
       "}\n",
       "\n",
       "/* Estimator-specific style */\n",
       "\n",
       "/* Colorize estimator box */\n",
       "#sk-container-id-1 div.sk-estimator input.sk-toggleable__control:checked~label.sk-toggleable__label {\n",
       "  /* unfitted */\n",
       "  background-color: var(--sklearn-color-unfitted-level-2);\n",
       "}\n",
       "\n",
       "#sk-container-id-1 div.sk-estimator.fitted input.sk-toggleable__control:checked~label.sk-toggleable__label {\n",
       "  /* fitted */\n",
       "  background-color: var(--sklearn-color-fitted-level-2);\n",
       "}\n",
       "\n",
       "#sk-container-id-1 div.sk-label label.sk-toggleable__label,\n",
       "#sk-container-id-1 div.sk-label label {\n",
       "  /* The background is the default theme color */\n",
       "  color: var(--sklearn-color-text-on-default-background);\n",
       "}\n",
       "\n",
       "/* On hover, darken the color of the background */\n",
       "#sk-container-id-1 div.sk-label:hover label.sk-toggleable__label {\n",
       "  color: var(--sklearn-color-text);\n",
       "  background-color: var(--sklearn-color-unfitted-level-2);\n",
       "}\n",
       "\n",
       "/* Label box, darken color on hover, fitted */\n",
       "#sk-container-id-1 div.sk-label.fitted:hover label.sk-toggleable__label.fitted {\n",
       "  color: var(--sklearn-color-text);\n",
       "  background-color: var(--sklearn-color-fitted-level-2);\n",
       "}\n",
       "\n",
       "/* Estimator label */\n",
       "\n",
       "#sk-container-id-1 div.sk-label label {\n",
       "  font-family: monospace;\n",
       "  font-weight: bold;\n",
       "  display: inline-block;\n",
       "  line-height: 1.2em;\n",
       "}\n",
       "\n",
       "#sk-container-id-1 div.sk-label-container {\n",
       "  text-align: center;\n",
       "}\n",
       "\n",
       "/* Estimator-specific */\n",
       "#sk-container-id-1 div.sk-estimator {\n",
       "  font-family: monospace;\n",
       "  border: 1px dotted var(--sklearn-color-border-box);\n",
       "  border-radius: 0.25em;\n",
       "  box-sizing: border-box;\n",
       "  margin-bottom: 0.5em;\n",
       "  /* unfitted */\n",
       "  background-color: var(--sklearn-color-unfitted-level-0);\n",
       "}\n",
       "\n",
       "#sk-container-id-1 div.sk-estimator.fitted {\n",
       "  /* fitted */\n",
       "  background-color: var(--sklearn-color-fitted-level-0);\n",
       "}\n",
       "\n",
       "/* on hover */\n",
       "#sk-container-id-1 div.sk-estimator:hover {\n",
       "  /* unfitted */\n",
       "  background-color: var(--sklearn-color-unfitted-level-2);\n",
       "}\n",
       "\n",
       "#sk-container-id-1 div.sk-estimator.fitted:hover {\n",
       "  /* fitted */\n",
       "  background-color: var(--sklearn-color-fitted-level-2);\n",
       "}\n",
       "\n",
       "/* Specification for estimator info (e.g. \"i\" and \"?\") */\n",
       "\n",
       "/* Common style for \"i\" and \"?\" */\n",
       "\n",
       ".sk-estimator-doc-link,\n",
       "a:link.sk-estimator-doc-link,\n",
       "a:visited.sk-estimator-doc-link {\n",
       "  float: right;\n",
       "  font-size: smaller;\n",
       "  line-height: 1em;\n",
       "  font-family: monospace;\n",
       "  background-color: var(--sklearn-color-background);\n",
       "  border-radius: 1em;\n",
       "  height: 1em;\n",
       "  width: 1em;\n",
       "  text-decoration: none !important;\n",
       "  margin-left: 1ex;\n",
       "  /* unfitted */\n",
       "  border: var(--sklearn-color-unfitted-level-1) 1pt solid;\n",
       "  color: var(--sklearn-color-unfitted-level-1);\n",
       "}\n",
       "\n",
       ".sk-estimator-doc-link.fitted,\n",
       "a:link.sk-estimator-doc-link.fitted,\n",
       "a:visited.sk-estimator-doc-link.fitted {\n",
       "  /* fitted */\n",
       "  border: var(--sklearn-color-fitted-level-1) 1pt solid;\n",
       "  color: var(--sklearn-color-fitted-level-1);\n",
       "}\n",
       "\n",
       "/* On hover */\n",
       "div.sk-estimator:hover .sk-estimator-doc-link:hover,\n",
       ".sk-estimator-doc-link:hover,\n",
       "div.sk-label-container:hover .sk-estimator-doc-link:hover,\n",
       ".sk-estimator-doc-link:hover {\n",
       "  /* unfitted */\n",
       "  background-color: var(--sklearn-color-unfitted-level-3);\n",
       "  color: var(--sklearn-color-background);\n",
       "  text-decoration: none;\n",
       "}\n",
       "\n",
       "div.sk-estimator.fitted:hover .sk-estimator-doc-link.fitted:hover,\n",
       ".sk-estimator-doc-link.fitted:hover,\n",
       "div.sk-label-container:hover .sk-estimator-doc-link.fitted:hover,\n",
       ".sk-estimator-doc-link.fitted:hover {\n",
       "  /* fitted */\n",
       "  background-color: var(--sklearn-color-fitted-level-3);\n",
       "  color: var(--sklearn-color-background);\n",
       "  text-decoration: none;\n",
       "}\n",
       "\n",
       "/* Span, style for the box shown on hovering the info icon */\n",
       ".sk-estimator-doc-link span {\n",
       "  display: none;\n",
       "  z-index: 9999;\n",
       "  position: relative;\n",
       "  font-weight: normal;\n",
       "  right: .2ex;\n",
       "  padding: .5ex;\n",
       "  margin: .5ex;\n",
       "  width: min-content;\n",
       "  min-width: 20ex;\n",
       "  max-width: 50ex;\n",
       "  color: var(--sklearn-color-text);\n",
       "  box-shadow: 2pt 2pt 4pt #999;\n",
       "  /* unfitted */\n",
       "  background: var(--sklearn-color-unfitted-level-0);\n",
       "  border: .5pt solid var(--sklearn-color-unfitted-level-3);\n",
       "}\n",
       "\n",
       ".sk-estimator-doc-link.fitted span {\n",
       "  /* fitted */\n",
       "  background: var(--sklearn-color-fitted-level-0);\n",
       "  border: var(--sklearn-color-fitted-level-3);\n",
       "}\n",
       "\n",
       ".sk-estimator-doc-link:hover span {\n",
       "  display: block;\n",
       "}\n",
       "\n",
       "/* \"?\"-specific style due to the `<a>` HTML tag */\n",
       "\n",
       "#sk-container-id-1 a.estimator_doc_link {\n",
       "  float: right;\n",
       "  font-size: 1rem;\n",
       "  line-height: 1em;\n",
       "  font-family: monospace;\n",
       "  background-color: var(--sklearn-color-background);\n",
       "  border-radius: 1rem;\n",
       "  height: 1rem;\n",
       "  width: 1rem;\n",
       "  text-decoration: none;\n",
       "  /* unfitted */\n",
       "  color: var(--sklearn-color-unfitted-level-1);\n",
       "  border: var(--sklearn-color-unfitted-level-1) 1pt solid;\n",
       "}\n",
       "\n",
       "#sk-container-id-1 a.estimator_doc_link.fitted {\n",
       "  /* fitted */\n",
       "  border: var(--sklearn-color-fitted-level-1) 1pt solid;\n",
       "  color: var(--sklearn-color-fitted-level-1);\n",
       "}\n",
       "\n",
       "/* On hover */\n",
       "#sk-container-id-1 a.estimator_doc_link:hover {\n",
       "  /* unfitted */\n",
       "  background-color: var(--sklearn-color-unfitted-level-3);\n",
       "  color: var(--sklearn-color-background);\n",
       "  text-decoration: none;\n",
       "}\n",
       "\n",
       "#sk-container-id-1 a.estimator_doc_link.fitted:hover {\n",
       "  /* fitted */\n",
       "  background-color: var(--sklearn-color-fitted-level-3);\n",
       "}\n",
       "</style><div id=\"sk-container-id-1\" class=\"sk-top-container\"><div class=\"sk-text-repr-fallback\"><pre>DecisionTreeClassifier(class_weight=&#x27;balanced&#x27;, max_depth=10,\n",
       "                       min_samples_split=30, random_state=7)</pre><b>In a Jupyter environment, please rerun this cell to show the HTML representation or trust the notebook. <br />On GitHub, the HTML representation is unable to render, please try loading this page with nbviewer.org.</b></div><div class=\"sk-container\" hidden><div class=\"sk-item\"><div class=\"sk-estimator fitted sk-toggleable\"><input class=\"sk-toggleable__control sk-hidden--visually\" id=\"sk-estimator-id-1\" type=\"checkbox\" checked><label for=\"sk-estimator-id-1\" class=\"sk-toggleable__label fitted sk-toggleable__label-arrow fitted\">&nbsp;&nbsp;DecisionTreeClassifier<a class=\"sk-estimator-doc-link fitted\" rel=\"noreferrer\" target=\"_blank\" href=\"https://scikit-learn.org/1.5/modules/generated/sklearn.tree.DecisionTreeClassifier.html\">?<span>Documentation for DecisionTreeClassifier</span></a><span class=\"sk-estimator-doc-link fitted\">i<span>Fitted</span></span></label><div class=\"sk-toggleable__content fitted\"><pre>DecisionTreeClassifier(class_weight=&#x27;balanced&#x27;, max_depth=10,\n",
       "                       min_samples_split=30, random_state=7)</pre></div> </div></div></div></div>"
      ],
      "text/plain": [
       "DecisionTreeClassifier(class_weight='balanced', max_depth=10,\n",
       "                       min_samples_split=30, random_state=7)"
      ]
     },
     "execution_count": 211,
     "metadata": {},
     "output_type": "execute_result"
    }
   ],
   "source": [
    "#record execution time for model training with best parameters\n",
    "start = timer()\n",
    "\n",
    "#set up the best decision tree model using the best parameters from Optuna\n",
    "best_dt_model = DecisionTreeClassifier(\n",
    "    random_state=7,\n",
    "    class_weight=\"balanced\",\n",
    "    max_depth=study_dt.best_params['max_depth'],\n",
    "    min_samples_split=study_dt.best_params['min_samples_split']\n",
    ")\n",
    "\n",
    "#fit the best model on the training data\n",
    "best_dt_model.fit(Xtrain, ytrain)"
   ]
  },
  {
   "cell_type": "markdown",
   "id": "90637a63-59b8-476f-9086-255281d17a57",
   "metadata": {},
   "source": [
    "#### 3.1.1.2. Training set prediction:"
   ]
  },
  {
   "cell_type": "code",
   "execution_count": 212,
   "id": "5c42b9d0-b8e1-4037-a31e-419748904363",
   "metadata": {},
   "outputs": [
    {
     "name": "stdout",
     "output_type": "stream",
     "text": [
      "Prediction time HH:MM:SS: 0:00:00.061412\n"
     ]
    }
   ],
   "source": [
    "#record prediction time\n",
    "start = timer()\n",
    "\n",
    "#predict on the training data\n",
    "yhat_dt = best_dt_model.predict(Xtrain)\n",
    "\n",
    "#print prediction time\n",
    "print(\"Prediction time HH:MM:SS:\", timedelta(seconds=timer() - start))"
   ]
  },
  {
   "cell_type": "code",
   "execution_count": 213,
   "id": "ca610133-9291-4e77-aeed-5245d51e9efd",
   "metadata": {},
   "outputs": [
    {
     "name": "stdout",
     "output_type": "stream",
     "text": [
      "Decision Tree:\n",
      "Precision: 0.739\n",
      "Recall: 0.963\n",
      "F score: 0.805\n",
      "AUC Score: 0.963\n"
     ]
    }
   ],
   "source": [
    "#evaluate the performance\n",
    "p, r, f, s = precision_recall_fscore_support(ytrain, yhat_dt, average=\"macro\", zero_division=0)\n",
    "auc_score = roc_auc_score(ytrain, yhat_dt)\n",
    "\n",
    "print(\"Decision Tree:\")\n",
    "print(f\"Precision: {p:.3f}\")\n",
    "print(f\"Recall: {r:.3f}\")\n",
    "print(f\"F score: {f:.3f}\")\n",
    "print(f\"AUC Score: {auc_score:.3f}\")"
   ]
  },
  {
   "cell_type": "markdown",
   "id": "3438d34c-92f0-49f7-8b5d-1c49215b23a9",
   "metadata": {},
   "source": [
    "#### 3.1.1.3. Testing set prediction:"
   ]
  },
  {
   "cell_type": "code",
   "execution_count": 214,
   "id": "2dbc0658-3027-4cd0-bfdc-eb7e898a7cb7",
   "metadata": {},
   "outputs": [
    {
     "name": "stdout",
     "output_type": "stream",
     "text": [
      "Prediction time HH:MM:SS: 0:00:00.010590\n"
     ]
    }
   ],
   "source": [
    "#record prediction time\n",
    "start = timer()\n",
    "\n",
    "#predict on the training data\n",
    "yhat_dt = best_dt_model.predict(Xtest)\n",
    "\n",
    "#print prediction time\n",
    "print(\"Prediction time HH:MM:SS:\", timedelta(seconds=timer() - start))"
   ]
  },
  {
   "cell_type": "code",
   "execution_count": 215,
   "id": "b0ba1bfe-c201-4d2d-9d42-e0e171969fbb",
   "metadata": {},
   "outputs": [
    {
     "name": "stdout",
     "output_type": "stream",
     "text": [
      "Decision Tree:\n",
      "Precision: 0.720\n",
      "Recall: 0.919\n",
      "F score: 0.776\n",
      "AUC Score: 0.919\n"
     ]
    }
   ],
   "source": [
    "#evaluate the performance\n",
    "p, r, f, s = precision_recall_fscore_support(ytest, yhat_dt, average=\"macro\", zero_division=0)\n",
    "auc_score = roc_auc_score(ytest, yhat_dt)\n",
    "\n",
    "print(\"Decision Tree:\")\n",
    "print(f\"Precision: {p:.3f}\")\n",
    "print(f\"Recall: {r:.3f}\")\n",
    "print(f\"F score: {f:.3f}\")\n",
    "print(f\"AUC Score: {auc_score:.3f}\")"
   ]
  },
  {
   "cell_type": "markdown",
   "id": "9330e2cf-f240-495a-8533-12fd51e13a68",
   "metadata": {},
   "source": [
    "Decision Tree achieved a training AUC score of 0.963 and a testing AUC score of 0.919, indicating strong performance with minimal overfitting."
   ]
  },
  {
   "cell_type": "markdown",
   "id": "fb37df9c-9092-4f9c-8ace-137d3d56273e",
   "metadata": {},
   "source": [
    "### 3.1.2. Feature selection methods:"
   ]
  },
  {
   "cell_type": "markdown",
   "id": "b92a98af-3f2f-4b27-9b3e-0a7f7d8be798",
   "metadata": {},
   "source": [
    "#### 3.1.2.1. RFE:"
   ]
  },
  {
   "cell_type": "code",
   "execution_count": 216,
   "id": "65b20364-6dab-4b82-9334-9be0f780122e",
   "metadata": {},
   "outputs": [
    {
     "name": "stdout",
     "output_type": "stream",
     "text": [
      "Starting RFE and model evaluation process...\n",
      "Top 5 Features, AUC Score: 0.955\n"
     ]
    },
    {
     "name": "stderr",
     "output_type": "stream",
     "text": [
      "Evaluating Features:   9%|█████▋                                                        | 1/11 [00:34<05:45, 34.60s/it]"
     ]
    },
    {
     "name": "stdout",
     "output_type": "stream",
     "text": [
      "Top 10 Features, AUC Score: 0.961\n"
     ]
    },
    {
     "name": "stderr",
     "output_type": "stream",
     "text": [
      "Evaluating Features:  18%|███████████▎                                                  | 2/11 [01:07<05:03, 33.73s/it]"
     ]
    },
    {
     "name": "stdout",
     "output_type": "stream",
     "text": [
      "Top 20 Features, AUC Score: 0.929\n"
     ]
    },
    {
     "name": "stderr",
     "output_type": "stream",
     "text": [
      "Evaluating Features:  27%|████████████████▉                                             | 3/11 [01:38<04:20, 32.59s/it]"
     ]
    },
    {
     "name": "stdout",
     "output_type": "stream",
     "text": [
      "Top 30 Features, AUC Score: 0.920\n"
     ]
    },
    {
     "name": "stderr",
     "output_type": "stream",
     "text": [
      "Evaluating Features:  36%|██████████████████████▌                                       | 4/11 [02:08<03:38, 31.24s/it]"
     ]
    },
    {
     "name": "stdout",
     "output_type": "stream",
     "text": [
      "Top 40 Features, AUC Score: 0.920\n"
     ]
    },
    {
     "name": "stderr",
     "output_type": "stream",
     "text": [
      "Evaluating Features:  45%|████████████████████████████▏                                 | 5/11 [02:35<02:58, 29.67s/it]"
     ]
    },
    {
     "name": "stdout",
     "output_type": "stream",
     "text": [
      "Top 50 Features, AUC Score: 0.920\n"
     ]
    },
    {
     "name": "stderr",
     "output_type": "stream",
     "text": [
      "Evaluating Features:  55%|█████████████████████████████████▊                            | 6/11 [02:58<02:17, 27.48s/it]"
     ]
    },
    {
     "name": "stdout",
     "output_type": "stream",
     "text": [
      "Top 60 Features, AUC Score: 0.920\n"
     ]
    },
    {
     "name": "stderr",
     "output_type": "stream",
     "text": [
      "Evaluating Features:  64%|███████████████████████████████████████▍                      | 7/11 [03:17<01:39, 24.83s/it]"
     ]
    },
    {
     "name": "stdout",
     "output_type": "stream",
     "text": [
      "Top 70 Features, AUC Score: 0.920\n"
     ]
    },
    {
     "name": "stderr",
     "output_type": "stream",
     "text": [
      "Evaluating Features:  73%|█████████████████████████████████████████████                 | 8/11 [03:34<01:06, 22.24s/it]"
     ]
    },
    {
     "name": "stdout",
     "output_type": "stream",
     "text": [
      "Top 80 Features, AUC Score: 0.920\n"
     ]
    },
    {
     "name": "stderr",
     "output_type": "stream",
     "text": [
      "Evaluating Features:  82%|██████████████████████████████████████████████████▋           | 9/11 [03:46<00:38, 19.05s/it]"
     ]
    },
    {
     "name": "stdout",
     "output_type": "stream",
     "text": [
      "Top 90 Features, AUC Score: 0.919\n"
     ]
    },
    {
     "name": "stderr",
     "output_type": "stream",
     "text": [
      "Evaluating Features:  91%|███████████████████████████████████████████████████████▍     | 10/11 [03:53<00:15, 15.33s/it]"
     ]
    },
    {
     "name": "stdout",
     "output_type": "stream",
     "text": [
      "Top 100 Features, AUC Score: 0.919\n"
     ]
    },
    {
     "name": "stderr",
     "output_type": "stream",
     "text": [
      "Evaluating Features: 100%|█████████████████████████████████████████████████████████████| 11/11 [03:54<00:00, 21.33s/it]\n",
      "2024-12-07 02:08:25,108 - distributed.scheduler - WARNING - Received heartbeat from unregistered worker 'tcp://127.0.0.1:55916'.\n"
     ]
    },
    {
     "name": "stdout",
     "output_type": "stream",
     "text": [
      "Top 110 Features, AUC Score: 0.919\n"
     ]
    }
   ],
   "source": [
    "#initialise dask for parallel processing \n",
    "client = Client()\n",
    "\n",
    "#convert Xtrain and Xtest into dask dfs \n",
    "Xtrain_dd = dd.from_pandas(Xtrain, npartitions=5)\n",
    "Xtest_dd = dd.from_pandas(Xtest, npartitions=5)\n",
    "\n",
    "#start the timer \n",
    "start_time = time.time()\n",
    "\n",
    "#define a function to evaluate DT AUC score according to top 'n' features using RFE \n",
    "def evaluate_rfe(model, X_train, X_test, y_train, y_test, num_features):\n",
    "    #initialise RFE \n",
    "    rfe = RFE(estimator=model, n_features_to_select=num_features)\n",
    "    \n",
    "    #fit RFE \n",
    "    rfe.fit(X_train, y_train)\n",
    "\n",
    "    #transform dfs to retain the selected features \n",
    "    Xtrain_rfe = rfe.transform(X_train)\n",
    "    Xtest_rfe = rfe.transform(X_test)\n",
    "    \n",
    "    #fit the model with the reduced features \n",
    "    model.fit(Xtrain_rfe, y_train)\n",
    "    \n",
    "    #predict Xtest and calculate the AUC score \n",
    "    y_pred_rfe = model.predict(Xtest_rfe)\n",
    "    auc = roc_auc_score(y_test, y_pred_rfe)\n",
    "    \n",
    "    return auc, rfe\n",
    "\n",
    "#set up lists to store feature counts, AUC scores, and best features \n",
    "feature_counts_dt_rfe = [] \n",
    "auc_scores_dt_rfe = []\n",
    "best_auc_dt_rfe = -1  #set best AUC score at below normal level initially\n",
    "best_top_features_dt_rfe = []  #list to store features with the best AUC scores\n",
    "\n",
    "#track the progress of the program  \n",
    "print(\"Starting RFE and model evaluation process...\")\n",
    "\n",
    "#conduct initial evaluation with top 5 features \n",
    "initial_num_features = 5\n",
    "auc_score_dt_rfe, rfe_dt_rfe = evaluate_rfe(best_dt_model, Xtrain, Xtest, ytrain, ytest, initial_num_features)\n",
    "auc_scores_dt_rfe.append(auc_score_dt_rfe)\n",
    "feature_counts_dt_rfe.append(initial_num_features)\n",
    "\n",
    "#check for the best AUC score and update best_auc if found \n",
    "if auc_score_dt_rfe > best_auc_dt_rfe:\n",
    "    best_auc_dt_rfe = auc_score_dt_rfe\n",
    "    best_top_features_dt_rfe = [rfe_dt_rfe.support_]  #store the feature set that corresponds to the best AUC score\n",
    "\n",
    "print(f\"Top {initial_num_features} Features, AUC Score: {auc_score_dt_rfe:.3f}\")\n",
    "\n",
    "#define the range of feature increments being 10 \n",
    "feature_steps = range(10, Xtrain.shape[1] + 1, 10)\n",
    "\n",
    "#loop over feature steps, in increments of 10 \n",
    "for num_features in tqdm(feature_steps, desc=\"Evaluating Features\"):\n",
    "    auc_score_dt_rfe, rfe_dt_rfe = evaluate_rfe(best_dt_model, Xtrain, Xtest, ytrain, ytest, num_features)\n",
    "    \n",
    "    #store results \n",
    "    auc_scores_dt_rfe.append(auc_score_dt_rfe)\n",
    "    feature_counts_dt_rfe.append(num_features)\n",
    "\n",
    "    #check for the best AUC score and update best_auc and best features if found\n",
    "    if auc_score_dt_rfe > best_auc_dt_rfe:\n",
    "        best_auc_dt_rfe = auc_score_dt_rfe\n",
    "        best_top_features_dt_rfe = [rfe_dt_rfe.support_]  #update the list with the current best feature set (in the same order as RFE)  \n",
    "    \n",
    "    print(f\"Top {num_features} Features, AUC Score: {auc_score_dt_rfe:.3f}\")\n",
    "\n",
    "#calculate total execution time \n",
    "execution_time = time.time() - start_time\n",
    "\n",
    "#close dask client\n",
    "client.close()"
   ]
  },
  {
   "cell_type": "code",
   "execution_count": 217,
   "id": "395a2cea-484b-4a45-b549-11c8a5efab72",
   "metadata": {},
   "outputs": [
    {
     "data": {
      "text/plain": [
       "Text(0.5, 1.0, 'Effect of Number of Features on Model Performance')"
      ]
     },
     "execution_count": 217,
     "metadata": {},
     "output_type": "execute_result"
    },
    {
     "data": {
      "image/png": "[encoded data removed]",
      "text/plain": [
       "<Figure size 1000x600 with 1 Axes>"
      ]
     },
     "metadata": {},
     "output_type": "display_data"
    }
   ],
   "source": [
    "#plot the AUC scores & the number of features selected\n",
    "plt.figure(figsize=(10, 6))\n",
    "plt.grid(True)\n",
    "plt.plot(feature_counts_dt_rfe, auc_scores_dt_rfe, marker='o')\n",
    "plt.ylim(0.910, 0.970)\n",
    "plt.xlabel('Number of Features Selected Using RFE')\n",
    "plt.ylabel('AUC Score of Decision Tree')\n",
    "plt.title('Effect of Number of Features on Model Performance')"
   ]
  },
  {
   "cell_type": "markdown",
   "id": "7ccd7f89-1bb0-4a49-934c-1d140b487969",
   "metadata": {},
   "source": [
    "RFE evaluation for Decision Tree revealed optimal performance with the top 10 features, achieving an AUC score of 0.961, but dropped significantly after, as increasing feature count beyond 20 led to diminishing returns with stable AUC scores around 0.919."
   ]
  },
  {
   "cell_type": "markdown",
   "id": "07480aa9-7f9b-45d0-91a9-e202ba906bb1",
   "metadata": {},
   "source": [
    "#### 3.1.2.2. Permutation:"
   ]
  },
  {
   "cell_type": "code",
   "execution_count": 218,
   "id": "2345542d-60da-438f-b0e6-52ce35c45815",
   "metadata": {},
   "outputs": [
    {
     "name": "stdout",
     "output_type": "stream",
     "text": [
      "Starting permutation and model evaluation process...\n",
      "Top 5 Features, AUC Score: 0.955\n"
     ]
    },
    {
     "name": "stderr",
     "output_type": "stream",
     "text": [
      "  9%|███████▌                                                                           | 1/11 [00:00<00:01,  8.92it/s]"
     ]
    },
    {
     "name": "stdout",
     "output_type": "stream",
     "text": [
      "Top 10 Features, AUC Score: 0.960\n",
      "Top 20 Features, AUC Score: 0.929\n"
     ]
    },
    {
     "name": "stderr",
     "output_type": "stream",
     "text": [
      " 27%|██████████████████████▋                                                            | 3/11 [00:00<00:01,  5.30it/s]"
     ]
    },
    {
     "name": "stdout",
     "output_type": "stream",
     "text": [
      "Top 30 Features, AUC Score: 0.929\n"
     ]
    },
    {
     "name": "stderr",
     "output_type": "stream",
     "text": [
      " 36%|██████████████████████████████▏                                                    | 4/11 [00:00<00:01,  4.20it/s]"
     ]
    },
    {
     "name": "stdout",
     "output_type": "stream",
     "text": [
      "Top 40 Features, AUC Score: 0.929\n"
     ]
    },
    {
     "name": "stderr",
     "output_type": "stream",
     "text": [
      " 45%|█████████████████████████████████████▋                                             | 5/11 [00:01<00:01,  3.71it/s]"
     ]
    },
    {
     "name": "stdout",
     "output_type": "stream",
     "text": [
      "Top 50 Features, AUC Score: 0.928\n"
     ]
    },
    {
     "name": "stderr",
     "output_type": "stream",
     "text": [
      " 55%|█████████████████████████████████████████████▎                                     | 6/11 [00:01<00:01,  3.16it/s]"
     ]
    },
    {
     "name": "stdout",
     "output_type": "stream",
     "text": [
      "Top 60 Features, AUC Score: 0.928\n"
     ]
    },
    {
     "name": "stderr",
     "output_type": "stream",
     "text": [
      " 64%|████████████████████████████████████████████████████▊                              | 7/11 [00:02<00:01,  2.80it/s]"
     ]
    },
    {
     "name": "stdout",
     "output_type": "stream",
     "text": [
      "Top 70 Features, AUC Score: 0.928\n"
     ]
    },
    {
     "name": "stderr",
     "output_type": "stream",
     "text": [
      " 73%|████████████████████████████████████████████████████████████▎                      | 8/11 [00:02<00:01,  2.52it/s]"
     ]
    },
    {
     "name": "stdout",
     "output_type": "stream",
     "text": [
      "Top 80 Features, AUC Score: 0.928\n"
     ]
    },
    {
     "name": "stderr",
     "output_type": "stream",
     "text": [
      " 82%|███████████████████████████████████████████████████████████████████▉               | 9/11 [00:03<00:00,  2.26it/s]"
     ]
    },
    {
     "name": "stdout",
     "output_type": "stream",
     "text": [
      "Top 90 Features, AUC Score: 0.928\n"
     ]
    },
    {
     "name": "stderr",
     "output_type": "stream",
     "text": [
      " 91%|██████████████████████████████████████████████████████████████████████████▌       | 10/11 [00:03<00:00,  2.10it/s]"
     ]
    },
    {
     "name": "stdout",
     "output_type": "stream",
     "text": [
      "Top 100 Features, AUC Score: 0.928\n"
     ]
    },
    {
     "name": "stderr",
     "output_type": "stream",
     "text": [
      "100%|██████████████████████████████████████████████████████████████████████████████████| 11/11 [00:04<00:00,  2.62it/s]"
     ]
    },
    {
     "name": "stdout",
     "output_type": "stream",
     "text": [
      "Top 110 Features, AUC Score: 0.920\n",
      "Total execution time: 33.675 seconds\n"
     ]
    },
    {
     "name": "stderr",
     "output_type": "stream",
     "text": [
      "\n"
     ]
    }
   ],
   "source": [
    "#initialise Dask for parallel processing\n",
    "client = Client()\n",
    "\n",
    "#convert Xtrain and Xtest into Dask DataFrames\n",
    "Xtrain_dd = dd.from_pandas(Xtrain, npartitions=5)\n",
    "Xtest_dd = dd.from_pandas(Xtest, npartitions=5)\n",
    "\n",
    "#start the timer\n",
    "start_time = time.time()\n",
    "\n",
    "#define a function to compute the permutation importance\n",
    "def compute_importance(model, X, y):\n",
    "    #convert Dask DataFrame to pandas DataFrame before passing to the model\n",
    "    X_pd = X.compute()  # Ensure X is in pandas format\n",
    "    result = permutation_importance(model, X_pd, y, n_repeats=10, random_state=7)\n",
    "    return result.importances_mean\n",
    "\n",
    "#calculate permutation importance in parallel using Dask\n",
    "result_dt_perm = compute_importance(best_dt_model, Xtest_dd, ytest)\n",
    "\n",
    "#create a DataFrame for feature importances\n",
    "importances_dt_perm = pd.DataFrame({'feature': Xtest.columns, 'importance': result_dt_perm}).sort_values(by='importance', ascending=False)\n",
    "\n",
    "#define a function to evaluate DT AUC score according to top 'n' features\n",
    "def evaluate_with_top_n_features(model, X_train, X_test, y_train, y_test, top_n_features):\n",
    "    #ensure top_n_features are selected correctly\n",
    "    top_features_dt_perm = importances_dt_perm['feature'].head(top_n_features).values\n",
    "    Xtrain_dt_perm = X_train[top_features_dt_perm]\n",
    "    Xtest_dt_perm = X_test[top_features_dt_perm]\n",
    "\n",
    "    #fit the model with the top 'n' features\n",
    "    model.fit(Xtrain_dt_perm, y_train)\n",
    "    y_pred_dt_perm = model.predict(Xtest_dt_perm)\n",
    "\n",
    "    #calculate the AUC score  \n",
    "    auc_perm = roc_auc_score(y_test, y_pred_dt_perm)\n",
    "    return auc_perm, top_features_dt_perm\n",
    "\n",
    "#set up lists to store feature counts, AUC scores, and best estimator\n",
    "feature_counts_dt_perm = []\n",
    "auc_scores_dt_perm = []\n",
    "best_auc_dt_perm = -1\n",
    "best_top_features_dt_perm = None\n",
    "\n",
    "#track the progress of the program\n",
    "print(\"Starting permutation and model evaluation process...\")\n",
    "\n",
    "#conduct initial evaluation with top 5 features\n",
    "initial_top_n = 5\n",
    "auc_score_dt_perm, top_features_dt_perm = evaluate_with_top_n_features(best_dt_model, Xtrain, Xtest, ytrain, ytest, initial_top_n)\n",
    "auc_scores_dt_perm.append(auc_score_dt_perm)\n",
    "feature_counts_dt_perm.append(initial_top_n)\n",
    "\n",
    "#check for the best AUC score and update best_auc_dt_perm and best_top_features_dt_perm if found \n",
    "if auc_score_dt_perm > best_auc_dt_perm:\n",
    "    best_auc_dt_perm = auc_score_dt_perm\n",
    "    best_top_features_dt_perm = top_features_dt_perm\n",
    "\n",
    "print(f\"Top {initial_top_n} Features, AUC Score: {auc_score_dt_perm:.3f}\")\n",
    "\n",
    "#define the range of feature increments being 5\n",
    "for top_n in tqdm(range(10, len(importances_dt_perm) + 1, 10)):\n",
    "    auc_score_dt_perm, top_features_dt_perm = evaluate_with_top_n_features(best_dt_model, Xtrain, Xtest, ytrain, ytest, top_n)\n",
    "    auc_scores_dt_perm.append(auc_score_dt_perm)\n",
    "    feature_counts_dt_perm.append(top_n)\n",
    "\n",
    "    #check for the best AUC score and update best_auc_dt_perm and best_top_features_dt_perm if found\n",
    "    if auc_score_dt_perm > best_auc_dt_perm:\n",
    "        best_auc_dt_perm = auc_score_dt_perm\n",
    "        best_top_features_dt_perm = top_features_dt_perm\n",
    "\n",
    "    print(f\"Top {top_n} Features, AUC Score: {auc_score_dt_perm:.3f}\")\n",
    "\n",
    "#calculate the total execution time\n",
    "execution_time = time.time() - start_time\n",
    "print(f\"Total execution time: {execution_time:.3f} seconds\")\n",
    "\n",
    "#close Dask client\n",
    "client.close()"
   ]
  },
  {
   "cell_type": "code",
   "execution_count": 219,
   "id": "af7b3be2-6871-414a-b86d-0c15f8ec3e27",
   "metadata": {},
   "outputs": [
    {
     "data": {
      "text/plain": [
       "Text(0.5, 1.0, 'Effect of Number of Features on Model Performance')"
      ]
     },
     "execution_count": 219,
     "metadata": {},
     "output_type": "execute_result"
    },
    {
     "data": {
      "image/png": "[encoded data removed]",
      "text/plain": [
       "<Figure size 1000x600 with 1 Axes>"
      ]
     },
     "metadata": {},
     "output_type": "display_data"
    }
   ],
   "source": [
    "#plot the AUC scores & the number of features selected\n",
    "plt.figure(figsize=(10, 6))\n",
    "plt.grid(True)\n",
    "plt.plot(feature_counts_dt_perm, auc_scores_dt_perm, marker='o')\n",
    "plt.ylim(0.910, 0.970)\n",
    "plt.xlabel('Number of Features Selected Using Permutation')\n",
    "plt.ylabel('AUC Score of Decision Tree')\n",
    "plt.title('Effect of Number of Features on Model Performance')"
   ]
  },
  {
   "cell_type": "markdown",
   "id": "66692661-3a59-48f3-ad41-15964c5df925",
   "metadata": {},
   "source": [
    "Permutation for Decision Tree identified the top 10 features as optimal, achieving an AUC score of 0.960, then similarity to RFE, performance experienced a significant drop, as increasing feature count beyond 20 resulted in relatively stable AUC scores around 0.928, with marginal performance decline at 110 features (AUC: 0.920)."
   ]
  },
  {
   "cell_type": "markdown",
   "id": "a9eb69f8-60cd-4e6e-b2a1-2b3816e35fa9",
   "metadata": {},
   "source": [
    "## 3.2. CatBoost:"
   ]
  },
  {
   "cell_type": "markdown",
   "id": "e99e4b9c-2d1e-4d2f-bf14-5a5bbba3271d",
   "metadata": {},
   "source": [
    "### 3.2.1. Best model performance:"
   ]
  },
  {
   "cell_type": "markdown",
   "id": "936b7c83-dcdb-404b-bf46-4430bae9a444",
   "metadata": {},
   "source": [
    "#### 3.2.1.1. Hyperparameters Optimisation:"
   ]
  },
  {
   "cell_type": "code",
   "execution_count": 220,
   "id": "a6086eec-1d9e-412e-8497-5dc2b848b3c0",
   "metadata": {},
   "outputs": [
    {
     "name": "stderr",
     "output_type": "stream",
     "text": [
      "[I 2024-12-07 02:09:02,148] A new study created in memory with name: no-name-60b2aa63-22dd-4eeb-82ab-adc50fb76477\n",
      "Best trial: 0. Best value: 0.985905:   5%|██▎                                           | 1/20 [01:24<26:38, 84.11s/it]"
     ]
    },
    {
     "name": "stdout",
     "output_type": "stream",
     "text": [
      "[I 2024-12-07 02:10:26,362] Trial 0 finished with value: 0.9859052595995322 and parameters: {'depth': 10, 'learning_rate': 0.1, 'iterations': 300}. Best is trial 0 with value: 0.9859052595995322.\n"
     ]
    },
    {
     "name": "stderr",
     "output_type": "stream",
     "text": [
      "Best trial: 0. Best value: 0.985905:  10%|████▌                                         | 2/20 [01:38<12:52, 42.93s/it]"
     ]
    },
    {
     "name": "stdout",
     "output_type": "stream",
     "text": [
      "[I 2024-12-07 02:10:40,468] Trial 1 finished with value: 0.9762020296494184 and parameters: {'depth': 6, 'learning_rate': 0.05, 'iterations': 100}. Best is trial 0 with value: 0.9859052595995322.\n"
     ]
    },
    {
     "name": "stderr",
     "output_type": "stream",
     "text": [
      "Best trial: 0. Best value: 0.985905:  15%|██████▉                                       | 3/20 [01:58<09:11, 32.42s/it]"
     ]
    },
    {
     "name": "stdout",
     "output_type": "stream",
     "text": [
      "[I 2024-12-07 02:11:00,368] Trial 2 finished with value: 0.9847781719414543 and parameters: {'depth': 6, 'learning_rate': 0.1, 'iterations': 200}. Best is trial 0 with value: 0.9859052595995322.\n"
     ]
    },
    {
     "name": "stderr",
     "output_type": "stream",
     "text": [
      "Best trial: 0. Best value: 0.985905:  20%|█████████▏                                    | 4/20 [02:08<06:22, 23.90s/it]"
     ]
    },
    {
     "name": "stdout",
     "output_type": "stream",
     "text": [
      "[I 2024-12-07 02:11:11,216] Trial 3 finished with value: 0.9813959206409901 and parameters: {'depth': 6, 'learning_rate': 0.1, 'iterations': 100}. Best is trial 0 with value: 0.9859052595995322.\n"
     ]
    },
    {
     "name": "stderr",
     "output_type": "stream",
     "text": [
      "Best trial: 0. Best value: 0.985905:  25%|███████████▌                                  | 5/20 [02:19<04:48, 19.20s/it]"
     ]
    },
    {
     "name": "stdout",
     "output_type": "stream",
     "text": [
      "[I 2024-12-07 02:11:22,091] Trial 4 finished with value: 0.9762020296494184 and parameters: {'depth': 6, 'learning_rate': 0.05, 'iterations': 100}. Best is trial 0 with value: 0.9859052595995322.\n"
     ]
    },
    {
     "name": "stderr",
     "output_type": "stream",
     "text": [
      "Best trial: 0. Best value: 0.985905:  30%|█████████████▊                                | 6/20 [03:28<08:22, 35.92s/it]"
     ]
    },
    {
     "name": "stdout",
     "output_type": "stream",
     "text": [
      "[I 2024-12-07 02:12:30,475] Trial 5 finished with value: 0.9857007994658579 and parameters: {'depth': 10, 'learning_rate': 0.05, 'iterations': 300}. Best is trial 0 with value: 0.9859052595995322.\n"
     ]
    },
    {
     "name": "stderr",
     "output_type": "stream",
     "text": [
      "Best trial: 0. Best value: 0.985905:  35%|████████████████                              | 7/20 [03:52<06:56, 32.06s/it]"
     ]
    },
    {
     "name": "stdout",
     "output_type": "stream",
     "text": [
      "[I 2024-12-07 02:12:54,590] Trial 6 finished with value: 0.9856622053893147 and parameters: {'depth': 8, 'learning_rate': 0.1, 'iterations': 200}. Best is trial 0 with value: 0.9859052595995322.\n"
     ]
    },
    {
     "name": "stderr",
     "output_type": "stream",
     "text": [
      "Best trial: 0. Best value: 0.985905:  40%|██████████████████▍                           | 8/20 [04:28<06:39, 33.33s/it]"
     ]
    },
    {
     "name": "stdout",
     "output_type": "stream",
     "text": [
      "[I 2024-12-07 02:13:30,631] Trial 7 finished with value: 0.9852296558759408 and parameters: {'depth': 8, 'learning_rate': 0.05, 'iterations': 300}. Best is trial 0 with value: 0.9859052595995322.\n"
     ]
    },
    {
     "name": "stderr",
     "output_type": "stream",
     "text": [
      "Best trial: 0. Best value: 0.985905:  45%|████████████████████▋                         | 9/20 [04:57<05:52, 32.01s/it]"
     ]
    },
    {
     "name": "stdout",
     "output_type": "stream",
     "text": [
      "[I 2024-12-07 02:13:59,736] Trial 8 finished with value: 0.9853423833141187 and parameters: {'depth': 6, 'learning_rate': 0.1, 'iterations': 300}. Best is trial 0 with value: 0.9859052595995322.\n"
     ]
    },
    {
     "name": "stderr",
     "output_type": "stream",
     "text": [
      "Best trial: 0. Best value: 0.985905:  50%|██████████████████████▌                      | 10/20 [06:06<07:15, 43.53s/it]"
     ]
    },
    {
     "name": "stdout",
     "output_type": "stream",
     "text": [
      "[I 2024-12-07 02:15:09,061] Trial 9 finished with value: 0.9859052595995322 and parameters: {'depth': 10, 'learning_rate': 0.1, 'iterations': 300}. Best is trial 0 with value: 0.9859052595995322.\n"
     ]
    },
    {
     "name": "stderr",
     "output_type": "stream",
     "text": [
      "Best trial: 0. Best value: 0.985905:  55%|████████████████████████▊                    | 11/20 [06:51<06:36, 44.01s/it]"
     ]
    },
    {
     "name": "stdout",
     "output_type": "stream",
     "text": [
      "[I 2024-12-07 02:15:54,147] Trial 10 finished with value: 0.9857977095825954 and parameters: {'depth': 10, 'learning_rate': 0.1, 'iterations': 200}. Best is trial 0 with value: 0.9859052595995322.\n"
     ]
    },
    {
     "name": "stderr",
     "output_type": "stream",
     "text": [
      "Best trial: 0. Best value: 0.985905:  60%|███████████████████████████                  | 12/20 [07:59<06:49, 51.23s/it]"
     ]
    },
    {
     "name": "stdout",
     "output_type": "stream",
     "text": [
      "[I 2024-12-07 02:17:01,911] Trial 11 finished with value: 0.9859052595995322 and parameters: {'depth': 10, 'learning_rate': 0.1, 'iterations': 300}. Best is trial 0 with value: 0.9859052595995322.\n"
     ]
    },
    {
     "name": "stderr",
     "output_type": "stream",
     "text": [
      "Best trial: 0. Best value: 0.985905:  65%|█████████████████████████████▎               | 13/20 [09:09<06:37, 56.77s/it]"
     ]
    },
    {
     "name": "stdout",
     "output_type": "stream",
     "text": [
      "[I 2024-12-07 02:18:11,411] Trial 12 finished with value: 0.9859052595995322 and parameters: {'depth': 10, 'learning_rate': 0.1, 'iterations': 300}. Best is trial 0 with value: 0.9859052595995322.\n"
     ]
    },
    {
     "name": "stderr",
     "output_type": "stream",
     "text": [
      "Best trial: 13. Best value: 0.985927:  70%|██████████████████████████████▊             | 14/20 [09:45<05:03, 50.55s/it]"
     ]
    },
    {
     "name": "stdout",
     "output_type": "stream",
     "text": [
      "[I 2024-12-07 02:18:47,598] Trial 13 finished with value: 0.9859269285818206 and parameters: {'depth': 8, 'learning_rate': 0.1, 'iterations': 300}. Best is trial 13 with value: 0.9859269285818206.\n"
     ]
    },
    {
     "name": "stderr",
     "output_type": "stream",
     "text": [
      "Best trial: 13. Best value: 0.985927:  75%|█████████████████████████████████           | 15/20 [10:09<03:33, 42.71s/it]"
     ]
    },
    {
     "name": "stdout",
     "output_type": "stream",
     "text": [
      "[I 2024-12-07 02:19:12,114] Trial 14 finished with value: 0.9856622053893147 and parameters: {'depth': 8, 'learning_rate': 0.1, 'iterations': 200}. Best is trial 13 with value: 0.9859269285818206.\n"
     ]
    },
    {
     "name": "stderr",
     "output_type": "stream",
     "text": [
      "Best trial: 13. Best value: 0.985927:  80%|███████████████████████████████████▏        | 16/20 [10:45<02:42, 40.64s/it]"
     ]
    },
    {
     "name": "stdout",
     "output_type": "stream",
     "text": [
      "[I 2024-12-07 02:19:47,975] Trial 15 finished with value: 0.9859269285818206 and parameters: {'depth': 8, 'learning_rate': 0.1, 'iterations': 300}. Best is trial 13 with value: 0.9859269285818206.\n"
     ]
    },
    {
     "name": "stderr",
     "output_type": "stream",
     "text": [
      "Best trial: 13. Best value: 0.985927:  85%|█████████████████████████████████████▍      | 17/20 [11:10<01:47, 35.85s/it]"
     ]
    },
    {
     "name": "stdout",
     "output_type": "stream",
     "text": [
      "[I 2024-12-07 02:20:12,664] Trial 16 finished with value: 0.9856622053893147 and parameters: {'depth': 8, 'learning_rate': 0.1, 'iterations': 200}. Best is trial 13 with value: 0.9859269285818206.\n"
     ]
    },
    {
     "name": "stderr",
     "output_type": "stream",
     "text": [
      "Best trial: 13. Best value: 0.985927:  90%|███████████████████████████████████████▌    | 18/20 [11:46<01:11, 35.97s/it]"
     ]
    },
    {
     "name": "stdout",
     "output_type": "stream",
     "text": [
      "[I 2024-12-07 02:20:48,907] Trial 17 finished with value: 0.9852296558759408 and parameters: {'depth': 8, 'learning_rate': 0.05, 'iterations': 300}. Best is trial 13 with value: 0.9859269285818206.\n"
     ]
    },
    {
     "name": "stderr",
     "output_type": "stream",
     "text": [
      "Best trial: 13. Best value: 0.985927:  95%|█████████████████████████████████████████▊  | 19/20 [12:22<00:36, 36.01s/it]"
     ]
    },
    {
     "name": "stdout",
     "output_type": "stream",
     "text": [
      "[I 2024-12-07 02:21:25,011] Trial 18 finished with value: 0.9859269285818206 and parameters: {'depth': 8, 'learning_rate': 0.1, 'iterations': 300}. Best is trial 13 with value: 0.9859269285818206.\n"
     ]
    },
    {
     "name": "stderr",
     "output_type": "stream",
     "text": [
      "Best trial: 13. Best value: 0.985927: 100%|████████████████████████████████████████████| 20/20 [12:47<00:00, 38.36s/it]"
     ]
    },
    {
     "name": "stdout",
     "output_type": "stream",
     "text": [
      "[I 2024-12-07 02:21:49,500] Trial 19 finished with value: 0.9856622053893147 and parameters: {'depth': 8, 'learning_rate': 0.1, 'iterations': 200}. Best is trial 13 with value: 0.9859269285818206.\n",
      "Execution time HH:MM:SS: 0:12:47.365429\n"
     ]
    },
    {
     "name": "stderr",
     "output_type": "stream",
     "text": [
      "\n"
     ]
    }
   ],
   "source": [
    "#record execution time\n",
    "start = timer()\n",
    "\n",
    "#define the objective function for Optuna\n",
    "def objective_catboost(trial_cb):\n",
    "    #suggest values for the hyperparameters\n",
    "    depth = trial_cb.suggest_int(\"depth\", 6, 10, step=2)\n",
    "    learning_rate = trial_cb.suggest_float(\"learning_rate\", 0.05, 0.1, step=0.05)\n",
    "    iterations = trial_cb.suggest_int(\"iterations\", 100, 300, step=100)\n",
    "\n",
    "    #set up the CatBoostClassifier with the suggested hyperparameters\n",
    "    catboost_classifier = CatBoostClassifier(\n",
    "        random_state=7,\n",
    "        auto_class_weights=\"Balanced\",\n",
    "        depth=depth,\n",
    "        learning_rate=learning_rate,\n",
    "        iterations=iterations,\n",
    "        verbose=0\n",
    "    )\n",
    "\n",
    "    #perform cross-validation and return the mean AUC score\n",
    "    cv_cb = StratifiedKFold(n_splits=10, shuffle=True, random_state=7)\n",
    "    scores_cb = cross_val_score(\n",
    "        catboost_classifier, Xtrain, ytrain, cv=cv_cb, scoring=\"roc_auc\", n_jobs=-1\n",
    "    )\n",
    "    return scores_cb.mean()\n",
    "\n",
    "#optimise the objective function\n",
    "study_cb = optuna.create_study(direction=\"maximize\")\n",
    "study_cb.optimize(objective_catboost, n_trials=20, show_progress_bar=True)\n",
    "\n",
    "# Print execution time\n",
    "print(\"Execution time HH:MM:SS:\", timedelta(seconds=timer() - start))"
   ]
  },
  {
   "cell_type": "code",
   "execution_count": 221,
   "id": "4455186d-e09a-4904-b4ab-9931e9ddb9c4",
   "metadata": {},
   "outputs": [
    {
     "name": "stdout",
     "output_type": "stream",
     "text": [
      "Best parameters: {'depth': 8, 'learning_rate': 0.1, 'iterations': 300}\n"
     ]
    }
   ],
   "source": [
    "#print the best parameters \n",
    "print(\"Best parameters:\", study_cb.best_params)"
   ]
  },
  {
   "cell_type": "code",
   "execution_count": 222,
   "id": "0f071682-9a0e-45b0-8b09-a99cc5487b47",
   "metadata": {},
   "outputs": [
    {
     "name": "stdout",
     "output_type": "stream",
     "text": [
      "Best AUC score: 0.9859269285818206\n"
     ]
    }
   ],
   "source": [
    "#print the best AUC score \n",
    "print(\"Best AUC score:\", study_cb.best_value)"
   ]
  },
  {
   "cell_type": "code",
   "execution_count": 223,
   "id": "df505a59-0088-4553-985d-9175f63ad82a",
   "metadata": {},
   "outputs": [
    {
     "name": "stdout",
     "output_type": "stream",
     "text": [
      "Model training time HH:MM:SS: 0:00:09.214986\n"
     ]
    }
   ],
   "source": [
    "#record execution time for model training with best parameters\n",
    "start = timer()\n",
    "\n",
    "#set up the best CatBoost model using the best parameters from Optuna\n",
    "best_cb_model = CatBoostClassifier(\n",
    "    random_state=7,\n",
    "    auto_class_weights=\"Balanced\",\n",
    "    depth=study_cb.best_params['depth'],\n",
    "    learning_rate=study_cb.best_params['learning_rate'],\n",
    "    iterations=study_cb.best_params['iterations'],\n",
    "    verbose=0\n",
    ")\n",
    "\n",
    "#fit the best model on the training data\n",
    "best_cb_model.fit(Xtrain, ytrain)\n",
    "\n",
    "#print training execution time\n",
    "print(\"Model training time HH:MM:SS:\", timedelta(seconds=timer() - start))"
   ]
  },
  {
   "cell_type": "markdown",
   "id": "3464e411-e906-4716-96c3-486b0a1e31fb",
   "metadata": {},
   "source": [
    "#### 3.2.1.2. Training set prediction:"
   ]
  },
  {
   "cell_type": "code",
   "execution_count": 224,
   "id": "3210b2f8-94af-4b27-8820-da9c2079bfe7",
   "metadata": {},
   "outputs": [
    {
     "name": "stdout",
     "output_type": "stream",
     "text": [
      "Prediction time HH:MM:SS: 0:00:00.116866\n"
     ]
    }
   ],
   "source": [
    "#record prediction time\n",
    "start = timer()\n",
    "\n",
    "#predict on the training data\n",
    "yhat_cb = best_cb_model.predict(Xtrain)\n",
    "\n",
    "#print prediction time\n",
    "print(\"Prediction time HH:MM:SS:\", timedelta(seconds=timer() - start))"
   ]
  },
  {
   "cell_type": "code",
   "execution_count": 225,
   "id": "6dde0778-c02c-4190-a53d-ffd0a7631c09",
   "metadata": {},
   "outputs": [
    {
     "name": "stdout",
     "output_type": "stream",
     "text": [
      "Catboost:\n",
      "Precision: 0.792\n",
      "Recall: 0.976\n",
      "F score: 0.856\n",
      "AUC Score: 0.976\n"
     ]
    }
   ],
   "source": [
    "#evaluate the performance\n",
    "p, r, f, s = precision_recall_fscore_support(ytrain, yhat_cb, average=\"macro\", zero_division=0)\n",
    "auc_score = roc_auc_score(ytrain, yhat_cb)\n",
    "\n",
    "print(\"Catboost:\")\n",
    "print(f\"Precision: {p:.3f}\")\n",
    "print(f\"Recall: {r:.3f}\")\n",
    "print(f\"F score: {f:.3f}\")\n",
    "print(f\"AUC Score: {auc_score:.3f}\")"
   ]
  },
  {
   "cell_type": "markdown",
   "id": "045100b9-c9ba-478d-944c-9b387f32191d",
   "metadata": {},
   "source": [
    "#### 3.2.1.3. Testing set prediction:"
   ]
  },
  {
   "cell_type": "code",
   "execution_count": 226,
   "id": "f935f322-ca9e-4711-8bcf-6b59cb6f7177",
   "metadata": {},
   "outputs": [
    {
     "name": "stdout",
     "output_type": "stream",
     "text": [
      "Prediction time HH:MM:SS: 0:00:00.026002\n"
     ]
    }
   ],
   "source": [
    "#record prediction time\n",
    "start = timer()\n",
    "\n",
    "#predict on the training data\n",
    "yhat_cb = best_cb_model.predict(Xtest)\n",
    "\n",
    "#print prediction time\n",
    "print(\"Prediction time HH:MM:SS:\", timedelta(seconds=timer() - start))"
   ]
  },
  {
   "cell_type": "code",
   "execution_count": 227,
   "id": "f59e21e8-cb6a-40ab-8378-6a678800e847",
   "metadata": {},
   "outputs": [
    {
     "name": "stdout",
     "output_type": "stream",
     "text": [
      "Catboost:\n",
      "Precision: 0.761\n",
      "Recall: 0.933\n",
      "F score: 0.819\n",
      "AUC Score: 0.933\n"
     ]
    }
   ],
   "source": [
    "#evaluate the performance\n",
    "p, r, f, s = precision_recall_fscore_support(ytest, yhat_cb, average=\"macro\", zero_division=0)\n",
    "auc_score = roc_auc_score(ytest, yhat_cb)\n",
    "\n",
    "print(\"Catboost:\")\n",
    "print(f\"Precision: {p:.3f}\")\n",
    "print(f\"Recall: {r:.3f}\")\n",
    "print(f\"F score: {f:.3f}\")\n",
    "print(f\"AUC Score: {auc_score:.3f}\")"
   ]
  },
  {
   "cell_type": "markdown",
   "id": "2509590c-8015-4429-95a3-9888fcea3d49",
   "metadata": {},
   "source": [
    "CatBoost also achieved a training AUC score of 0.976 and a testing AUC score of 0.933, indicating strong model performance with minimal overfitting."
   ]
  },
  {
   "cell_type": "markdown",
   "id": "a66acab0-619a-4222-91a7-8cd3fe0b1357",
   "metadata": {},
   "source": [
    "### 3.2.2. Feature selection methods:"
   ]
  },
  {
   "cell_type": "markdown",
   "id": "7f481884-431c-4e80-899d-154f8727ff55",
   "metadata": {},
   "source": [
    "#### 3.2.2.1. RFE:"
   ]
  },
  {
   "cell_type": "code",
   "execution_count": 228,
   "id": "ee0152e8-a170-4f23-844f-8bf50647faf9",
   "metadata": {},
   "outputs": [
    {
     "name": "stdout",
     "output_type": "stream",
     "text": [
      "Starting RFE and model evaluation process...\n",
      "Top 5 Features, AUC Score: 0.958\n"
     ]
    },
    {
     "name": "stderr",
     "output_type": "stream",
     "text": [
      "Evaluating Features:   9%|█████▎                                                     | 1/11 [14:41<2:26:51, 881.16s/it]"
     ]
    },
    {
     "name": "stdout",
     "output_type": "stream",
     "text": [
      "Top 10 Features, AUC Score: 0.966\n"
     ]
    },
    {
     "name": "stderr",
     "output_type": "stream",
     "text": [
      "Evaluating Features:  18%|██████████▋                                                | 2/11 [28:02<2:05:07, 834.14s/it]"
     ]
    },
    {
     "name": "stdout",
     "output_type": "stream",
     "text": [
      "Top 20 Features, AUC Score: 0.934\n"
     ]
    },
    {
     "name": "stderr",
     "output_type": "stream",
     "text": [
      "Evaluating Features:  27%|████████████████                                           | 3/11 [40:04<1:44:23, 782.91s/it]"
     ]
    },
    {
     "name": "stdout",
     "output_type": "stream",
     "text": [
      "Top 30 Features, AUC Score: 0.930\n"
     ]
    },
    {
     "name": "stderr",
     "output_type": "stream",
     "text": [
      "Evaluating Features:  36%|█████████████████████▍                                     | 4/11 [50:39<1:24:31, 724.47s/it]"
     ]
    },
    {
     "name": "stdout",
     "output_type": "stream",
     "text": [
      "Top 40 Features, AUC Score: 0.928\n"
     ]
    },
    {
     "name": "stderr",
     "output_type": "stream",
     "text": [
      "Evaluating Features:  45%|██████████████████████████▊                                | 5/11 [59:44<1:05:59, 659.98s/it]"
     ]
    },
    {
     "name": "stdout",
     "output_type": "stream",
     "text": [
      "Top 50 Features, AUC Score: 0.930\n"
     ]
    },
    {
     "name": "stderr",
     "output_type": "stream",
     "text": [
      "Evaluating Features:  55%|████████████████████████████████▏                          | 6/11 [1:07:22<49:16, 591.33s/it]"
     ]
    },
    {
     "name": "stdout",
     "output_type": "stream",
     "text": [
      "Top 60 Features, AUC Score: 0.929\n"
     ]
    },
    {
     "name": "stderr",
     "output_type": "stream",
     "text": [
      "Evaluating Features:  64%|█████████████████████████████████████▌                     | 7/11 [1:13:31<34:34, 518.66s/it]"
     ]
    },
    {
     "name": "stdout",
     "output_type": "stream",
     "text": [
      "Top 70 Features, AUC Score: 0.930\n"
     ]
    },
    {
     "name": "stderr",
     "output_type": "stream",
     "text": [
      "Evaluating Features:  73%|██████████████████████████████████████████▉                | 8/11 [1:18:15<22:11, 443.78s/it]"
     ]
    },
    {
     "name": "stdout",
     "output_type": "stream",
     "text": [
      "Top 80 Features, AUC Score: 0.928\n"
     ]
    },
    {
     "name": "stderr",
     "output_type": "stream",
     "text": [
      "Evaluating Features:  82%|████████████████████████████████████████████████▎          | 9/11 [1:21:31<12:12, 366.23s/it]"
     ]
    },
    {
     "name": "stdout",
     "output_type": "stream",
     "text": [
      "Top 90 Features, AUC Score: 0.930\n"
     ]
    },
    {
     "name": "stderr",
     "output_type": "stream",
     "text": [
      "Evaluating Features:  91%|████████████████████████████████████████████████████▋     | 10/11 [1:23:18<04:46, 286.18s/it]"
     ]
    },
    {
     "name": "stdout",
     "output_type": "stream",
     "text": [
      "Top 100 Features, AUC Score: 0.933\n"
     ]
    },
    {
     "name": "stderr",
     "output_type": "stream",
     "text": [
      "Evaluating Features: 100%|██████████████████████████████████████████████████████████| 11/11 [1:23:35<00:00, 456.00s/it]"
     ]
    },
    {
     "name": "stdout",
     "output_type": "stream",
     "text": [
      "Top 110 Features, AUC Score: 0.933\n",
      "Execution Time: 5941.21 seconds\n"
     ]
    },
    {
     "name": "stderr",
     "output_type": "stream",
     "text": [
      "\n"
     ]
    }
   ],
   "source": [
    "#start the timer\n",
    "start_time = time.time()\n",
    "\n",
    "#define a function to evaluate model AUC score according to top 'n' features using RFE\n",
    "def evaluate_rfe(model, X_train, X_test, y_train, y_test, num_features):\n",
    "    #initialize RFE\n",
    "    rfe_cb = RFE(estimator=model, n_features_to_select=num_features)\n",
    "    \n",
    "    #fit RFE\n",
    "    rfe_cb.fit(X_train, y_train)\n",
    "    \n",
    "    #transform data to retain selected features\n",
    "    Xtrain_rfe = rfe_cb.transform(X_train)\n",
    "    Xtest_rfe = rfe_cb.transform(X_test)\n",
    "    \n",
    "    #fit the model with the reduced feature set\n",
    "    model.fit(Xtrain_rfe, y_train)\n",
    "    \n",
    "    #predict and calculate the AUC score\n",
    "    y_pred_rfe = model.predict(Xtest_rfe)\n",
    "    auc_cb = roc_auc_score(y_test, y_pred_rfe)\n",
    "    \n",
    "    return auc_cb, rfe_cb\n",
    "\n",
    "#set up lists to store feature counts, AUC scores, and the best features\n",
    "feature_counts_cb_rfe = []\n",
    "auc_scores_cb_rfe = []\n",
    "best_top_features_cb_rfe = None  \n",
    "best_auc_cb_rfe = -1  \n",
    "\n",
    "#track progress of the program\n",
    "print(\"Starting RFE and model evaluation process...\")\n",
    "\n",
    "#initial evaluation with top 5 features\n",
    "initial_num_features = 5\n",
    "auc_score_cb_rfe, rfe_cb_rfe = evaluate_rfe(best_cb_model, Xtrain, Xtest, ytrain, ytest, initial_num_features)\n",
    "auc_scores_cb_rfe.append(auc_score_cb_rfe)\n",
    "feature_counts_cb_rfe.append(initial_num_features)\n",
    "\n",
    "#check for the best AUC score and update best_top_features_cb_rfe if found\n",
    "if auc_score_cb_rfe > best_auc_cb_rfe:\n",
    "    best_auc_cb_rfe = auc_score_cb_rfe\n",
    "    best_top_features_cb_rfe = rfe_cb_rfe.support_  #store the selected features for the best AUC score  \n",
    "\n",
    "print(f\"Top {initial_num_features} Features, AUC Score: {auc_score_cb_rfe:.3f}\")\n",
    "\n",
    "#define the range of increments being 10\n",
    "feature_steps = range(10, Xtrain.shape[1] + 1, 10)\n",
    "\n",
    "#loop over feature steps, in increments of 10\n",
    "for num_features in tqdm(feature_steps, desc=\"Evaluating Features\"):\n",
    "    auc_score_cb_rfe, rfe_cb_rfe = evaluate_rfe(best_cb_model, Xtrain, Xtest, ytrain, ytest, num_features)\n",
    "    \n",
    "    #store results\n",
    "    auc_scores_cb_rfe.append(auc_score_cb_rfe)\n",
    "    feature_counts_cb_rfe.append(num_features)\n",
    "\n",
    "    #check for the best AUC score and update best_top_features_cb_rfe if found\n",
    "    if auc_score_cb_rfe > best_auc_cb_rfe:\n",
    "        best_auc_cb_rfe = auc_score_cb_rfe\n",
    "        best_top_features_cb_rfe = rfe_cb_rfe.support_  #update with the best features corresponding to the best AUC score  \n",
    "    \n",
    "    print(f\"Top {num_features} Features, AUC Score: {auc_score_cb_rfe:.3f}\")\n",
    "\n",
    "#calculate the total execution time\n",
    "execution_time = time.time() - start_time\n",
    "print(f\"Execution Time: {execution_time:.2f} seconds\")"
   ]
  },
  {
   "cell_type": "code",
   "execution_count": 229,
   "id": "9fb87c19-7f1b-467a-9109-fc9a15423374",
   "metadata": {},
   "outputs": [
    {
     "data": {
      "text/plain": [
       "Text(0.5, 1.0, 'Effect of Number of Features on Model Performance')"
      ]
     },
     "execution_count": 229,
     "metadata": {},
     "output_type": "execute_result"
    },
    {
     "data": {
      "image/png": "[encoded data removed]",
      "text/plain": [
       "<Figure size 1000x600 with 1 Axes>"
      ]
     },
     "metadata": {},
     "output_type": "display_data"
    }
   ],
   "source": [
    "#plot the AUC scores & the number of features selected\n",
    "plt.figure(figsize=(10, 6))\n",
    "plt.grid(True)\n",
    "plt.plot(feature_counts_cb_rfe, auc_scores_cb_rfe, marker='o')\n",
    "plt.ylim(0.910, 0.970)\n",
    "plt.xlabel('Number of Features Selected Using RFE')\n",
    "plt.ylabel('AUC Score of CatBoost')\n",
    "plt.title('Effect of Number of Features on Model Performance')"
   ]
  },
  {
   "cell_type": "markdown",
   "id": "985049c4-c1ea-487d-be6e-321f6e8d7ccf",
   "metadata": {},
   "source": [
    "RFE applied to CatBoost also identified the top 10 features to contribute to the highest model performance with AUC score of 0.966, it also experience a sharp drop after 10 features. Beyond 20 features, AUC scores began to stabilise, with marginal differences observed as more features were included."
   ]
  },
  {
   "cell_type": "markdown",
   "id": "7aae9e3b-de1e-491a-ba63-9f9ed1efad75",
   "metadata": {},
   "source": [
    "#### 3.2.2.2. Permutation:"
   ]
  },
  {
   "cell_type": "code",
   "execution_count": 230,
   "id": "2259daa9-be4c-410d-9c92-f030493c0ed9",
   "metadata": {},
   "outputs": [
    {
     "name": "stdout",
     "output_type": "stream",
     "text": [
      "Starting permutation and model evaluation process...\n",
      "Top 5 Features, AUC Score: 0.959\n"
     ]
    },
    {
     "name": "stderr",
     "output_type": "stream",
     "text": [
      "  9%|███████▌                                                                           | 1/11 [00:12<02:02, 12.25s/it]"
     ]
    },
    {
     "name": "stdout",
     "output_type": "stream",
     "text": [
      "Top 10 Features, AUC Score: 0.966\n"
     ]
    },
    {
     "name": "stderr",
     "output_type": "stream",
     "text": [
      " 18%|███████████████                                                                    | 2/11 [00:25<01:54, 12.75s/it]"
     ]
    },
    {
     "name": "stdout",
     "output_type": "stream",
     "text": [
      "Top 20 Features, AUC Score: 0.964\n"
     ]
    },
    {
     "name": "stderr",
     "output_type": "stream",
     "text": [
      " 27%|██████████████████████▋                                                            | 3/11 [00:38<01:42, 12.77s/it]"
     ]
    },
    {
     "name": "stdout",
     "output_type": "stream",
     "text": [
      "Top 30 Features, AUC Score: 0.953\n"
     ]
    },
    {
     "name": "stderr",
     "output_type": "stream",
     "text": [
      " 36%|██████████████████████████████▏                                                    | 4/11 [00:50<01:29, 12.78s/it]"
     ]
    },
    {
     "name": "stdout",
     "output_type": "stream",
     "text": [
      "Top 40 Features, AUC Score: 0.938\n"
     ]
    },
    {
     "name": "stderr",
     "output_type": "stream",
     "text": [
      " 45%|█████████████████████████████████████▋                                             | 5/11 [01:03<01:17, 12.87s/it]"
     ]
    },
    {
     "name": "stdout",
     "output_type": "stream",
     "text": [
      "Top 50 Features, AUC Score: 0.933\n"
     ]
    },
    {
     "name": "stderr",
     "output_type": "stream",
     "text": [
      " 55%|█████████████████████████████████████████████▎                                     | 6/11 [01:16<01:04, 12.82s/it]"
     ]
    },
    {
     "name": "stdout",
     "output_type": "stream",
     "text": [
      "Top 60 Features, AUC Score: 0.945\n"
     ]
    },
    {
     "name": "stderr",
     "output_type": "stream",
     "text": [
      " 64%|████████████████████████████████████████████████████▊                              | 7/11 [01:29<00:51, 12.97s/it]"
     ]
    },
    {
     "name": "stdout",
     "output_type": "stream",
     "text": [
      "Top 70 Features, AUC Score: 0.950\n"
     ]
    },
    {
     "name": "stderr",
     "output_type": "stream",
     "text": [
      " 73%|████████████████████████████████████████████████████████████▎                      | 8/11 [01:43<00:39, 13.09s/it]"
     ]
    },
    {
     "name": "stdout",
     "output_type": "stream",
     "text": [
      "Top 80 Features, AUC Score: 0.943\n"
     ]
    },
    {
     "name": "stderr",
     "output_type": "stream",
     "text": [
      " 82%|███████████████████████████████████████████████████████████████████▉               | 9/11 [01:56<00:26, 13.15s/it]"
     ]
    },
    {
     "name": "stdout",
     "output_type": "stream",
     "text": [
      "Top 90 Features, AUC Score: 0.936\n"
     ]
    },
    {
     "name": "stderr",
     "output_type": "stream",
     "text": [
      " 91%|██████████████████████████████████████████████████████████████████████████▌       | 10/11 [02:09<00:13, 13.17s/it]"
     ]
    },
    {
     "name": "stdout",
     "output_type": "stream",
     "text": [
      "Top 100 Features, AUC Score: 0.937\n"
     ]
    },
    {
     "name": "stderr",
     "output_type": "stream",
     "text": [
      "100%|██████████████████████████████████████████████████████████████████████████████████| 11/11 [02:24<00:00, 13.12s/it]"
     ]
    },
    {
     "name": "stdout",
     "output_type": "stream",
     "text": [
      "Top 110 Features, AUC Score: 0.933\n",
      "Total execution time: 204.703 seconds\n"
     ]
    },
    {
     "name": "stderr",
     "output_type": "stream",
     "text": [
      "\n"
     ]
    }
   ],
   "source": [
    "#initialise Dask for parallel processing\n",
    "client = Client()\n",
    "\n",
    "#convert Xtrain and Xtest into Dask DataFrames\n",
    "Xtrain_dd = dd.from_pandas(Xtrain, npartitions=5)\n",
    "Xtest_dd = dd.from_pandas(Xtest, npartitions=5)\n",
    "\n",
    "#start the timer\n",
    "start_time = time.time()\n",
    "\n",
    "#define a function to compute the permutation importance\n",
    "def compute_importance(model, X, y):\n",
    "    #convert Dask DataFrame to pandas DataFrame before passing to the model\n",
    "    X_pd = X.compute()  #ensure X is in pandas format\n",
    "    result = permutation_importance(model, X_pd, y, n_repeats=10, random_state=7)\n",
    "    return result.importances_mean\n",
    "\n",
    "#calculate permutation importance in parallel using Dask\n",
    "result_cb_perm = compute_importance(best_cb_model, Xtest_dd, ytest)\n",
    "\n",
    "#create a DataFrame for feature importances\n",
    "importances_cb_perm = pd.DataFrame({'feature': Xtest.columns, 'importance': result_cb_perm}).sort_values(by='importance', ascending=False)\n",
    "\n",
    "#define a function to evaluate CB AUC score according to top 'n' features\n",
    "def evaluate_with_top_n_features(model, X_train, X_test, y_train, y_test, top_n_features):\n",
    "    #ensure top_n_features are selected correctly\n",
    "    top_features_cb_perm = importances_cb_perm['feature'].head(top_n_features).values\n",
    "    Xtrain_cb_perm = X_train[top_features_cb_perm]\n",
    "    Xtest_cb_perm = X_test[top_features_cb_perm]\n",
    "\n",
    "    #fit the model with the top 'n' features\n",
    "    model.fit(Xtrain_cb_perm, y_train)\n",
    "    y_pred_cb_perm = model.predict(Xtest_cb_perm)\n",
    "\n",
    "    #calculate the AUC score  \n",
    "    auc_perm = roc_auc_score(y_test, y_pred_cb_perm)\n",
    "    return auc_perm, top_features_cb_perm\n",
    "\n",
    "#set up lists to store feature counts, AUC scores, and best estimator\n",
    "feature_counts_cb_perm = []\n",
    "auc_scores_cb_perm = []\n",
    "best_auc_cb_perm = -1\n",
    "best_top_features_cb_perm = None\n",
    "\n",
    "#track the progress of the program\n",
    "print(\"Starting permutation and model evaluation process...\")\n",
    "\n",
    "#conduct initial evaluation with top 5 features\n",
    "initial_top_n = 5\n",
    "auc_score_cb_perm, top_features_cb_perm = evaluate_with_top_n_features(best_cb_model, Xtrain, Xtest, ytrain, ytest, initial_top_n)\n",
    "auc_scores_cb_perm.append(auc_score_cb_perm)\n",
    "feature_counts_cb_perm.append(initial_top_n)\n",
    "\n",
    "#check for the best AUC score and update best_auc_cb_perm and best_top_features_cb_perm if found \n",
    "if auc_score_cb_perm > best_auc_cb_perm:\n",
    "    best_auc_cb_perm = auc_score_cb_perm\n",
    "    best_top_features_cb_perm = top_features_cb_perm\n",
    "\n",
    "print(f\"Top {initial_top_n} Features, AUC Score: {auc_score_cb_perm:.3f}\")\n",
    "\n",
    "#define the range of feature increments being 5\n",
    "for top_n in tqdm(range(10, len(importances_cb_perm) + 1, 10)):\n",
    "    auc_score_cb_perm, top_features_cb_perm = evaluate_with_top_n_features(best_cb_model, Xtrain, Xtest, ytrain, ytest, top_n)\n",
    "    auc_scores_cb_perm.append(auc_score_cb_perm)\n",
    "    feature_counts_cb_perm.append(top_n)\n",
    "\n",
    "    #check for the best AUC score and update best_auc_cb_perm and best_top_features_cb_perm if found\n",
    "    if auc_score_cb_perm > best_auc_cb_perm:\n",
    "        best_auc_cb_perm = auc_score_cb_perm\n",
    "        best_top_features_cb_perm = top_features_cb_perm\n",
    "\n",
    "    print(f\"Top {top_n} Features, AUC Score: {auc_score_cb_perm:.3f}\")\n",
    "\n",
    "#calculate the total execution time\n",
    "execution_time = time.time() - start_time\n",
    "print(f\"Total execution time: {execution_time:.3f} seconds\")\n",
    "\n",
    "#close Dask client\n",
    "client.close()"
   ]
  },
  {
   "cell_type": "code",
   "execution_count": 231,
   "id": "796705f0-5a36-4912-8a8a-16a313d9ffa6",
   "metadata": {},
   "outputs": [
    {
     "data": {
      "text/plain": [
       "Text(0.5, 1.0, 'Effect of Number of Features on Model Performance')"
      ]
     },
     "execution_count": 231,
     "metadata": {},
     "output_type": "execute_result"
    },
    {
     "data": {
      "image/png": "[encoded data removed]",
      "text/plain": [
       "<Figure size 1000x600 with 1 Axes>"
      ]
     },
     "metadata": {},
     "output_type": "display_data"
    }
   ],
   "source": [
    "#plot the AUC scores & the number of features selected\n",
    "plt.figure(figsize=(10, 6))\n",
    "plt.grid(True)\n",
    "plt.plot(feature_counts_cb_perm, auc_scores_cb_perm, marker='o')\n",
    "plt.ylim(0.910, 0.970)\n",
    "plt.xlabel('Number of Features Selected Using Permutation')\n",
    "plt.ylabel('AUC Score of CatBoost')\n",
    "plt.title('Effect of Number of Features on Model Performance')"
   ]
  },
  {
   "cell_type": "markdown",
   "id": "627e7d81-6cf7-41c7-80bb-37bc63d9ca17",
   "metadata": {},
   "source": [
    "Permutation on CatBoost revealed the top 10 features achieved the highest AUC score of 0.966 too. Beyond 20 features, AUC scores steadily declined until reaching 50 features. Interestingly, a secondary peak was observed at 70 features with an AUC score of 0.950, followed by another gradual decline."
   ]
  },
  {
   "cell_type": "markdown",
   "id": "b4fe8bd0-b035-4845-9bd1-a10933018218",
   "metadata": {},
   "source": [
    "## 3.3. Keras Neural Networks:"
   ]
  },
  {
   "cell_type": "markdown",
   "id": "6adea62a-360a-42f6-90f0-f8c838ca3f4a",
   "metadata": {},
   "source": [
    "### 3.3.1. Best model performance:"
   ]
  },
  {
   "cell_type": "markdown",
   "id": "60313357-86db-42a0-bb95-ff19311ef6c1",
   "metadata": {},
   "source": [
    "#### 3.3.1.1. Hyperparameter tuning:"
   ]
  },
  {
   "cell_type": "code",
   "execution_count": 4,
   "id": "6caa5422-5663-41ed-82e4-3bc16f96f875",
   "metadata": {},
   "outputs": [
    {
     "name": "stderr",
     "output_type": "stream",
     "text": [
      "[I 2024-12-06 07:51:33,269] A new study created in memory with name: no-name-ae436acf-d2fd-434f-849b-eaac90da1ff0\n"
     ]
    },
    {
     "name": "stdout",
     "output_type": "stream",
     "text": [
      "\u001b[1m423/423\u001b[0m \u001b[32m━━━━━━━━━━━━━━━━━━━━\u001b[0m\u001b[37m\u001b[0m \u001b[1m0s\u001b[0m 771us/step\n"
     ]
    },
    {
     "name": "stderr",
     "output_type": "stream",
     "text": [
      "[I 2024-12-06 07:51:59,528] Trial 0 finished with value: 0.9488754020539172 and parameters: {'learning_rate': 0.00019497312646515416, 'batch_size': 32, 'num_neurons': 16, 'dropout_rate': 0.3433015190424451}. Best is trial 0 with value: 0.9488754020539172.\n"
     ]
    },
    {
     "name": "stdout",
     "output_type": "stream",
     "text": [
      "\u001b[1m423/423\u001b[0m \u001b[32m━━━━━━━━━━━━━━━━━━━━\u001b[0m\u001b[37m\u001b[0m \u001b[1m1s\u001b[0m 1ms/step\n"
     ]
    },
    {
     "name": "stderr",
     "output_type": "stream",
     "text": [
      "[I 2024-12-06 07:52:10,047] Trial 1 finished with value: 0.9468492575203801 and parameters: {'learning_rate': 0.0002547978173483504, 'batch_size': 128, 'num_neurons': 32, 'dropout_rate': 0.2656651237584749}. Best is trial 0 with value: 0.9488754020539172.\n"
     ]
    },
    {
     "name": "stdout",
     "output_type": "stream",
     "text": [
      "\u001b[1m423/423\u001b[0m \u001b[32m━━━━━━━━━━━━━━━━━━━━\u001b[0m\u001b[37m\u001b[0m \u001b[1m1s\u001b[0m 1ms/step\n"
     ]
    },
    {
     "name": "stderr",
     "output_type": "stream",
     "text": [
      "[I 2024-12-06 07:52:45,877] Trial 2 finished with value: 0.9513742440183199 and parameters: {'learning_rate': 0.00019865585695964284, 'batch_size': 32, 'num_neurons': 64, 'dropout_rate': 0.31787252277952893}. Best is trial 2 with value: 0.9513742440183199.\n"
     ]
    },
    {
     "name": "stdout",
     "output_type": "stream",
     "text": [
      "\u001b[1m423/423\u001b[0m \u001b[32m━━━━━━━━━━━━━━━━━━━━\u001b[0m\u001b[37m\u001b[0m \u001b[1m1s\u001b[0m 1ms/step\n"
     ]
    },
    {
     "name": "stderr",
     "output_type": "stream",
     "text": [
      "[I 2024-12-06 07:53:03,954] Trial 3 finished with value: 0.9489734507388703 and parameters: {'learning_rate': 0.00031077958320862816, 'batch_size': 64, 'num_neurons': 32, 'dropout_rate': 0.34308618311114125}. Best is trial 2 with value: 0.9513742440183199.\n"
     ]
    },
    {
     "name": "stdout",
     "output_type": "stream",
     "text": [
      "\u001b[1m423/423\u001b[0m \u001b[32m━━━━━━━━━━━━━━━━━━━━\u001b[0m\u001b[37m\u001b[0m \u001b[1m1s\u001b[0m 1ms/step\n"
     ]
    },
    {
     "name": "stderr",
     "output_type": "stream",
     "text": [
      "[I 2024-12-06 07:53:34,344] Trial 4 finished with value: 0.9494460646173836 and parameters: {'learning_rate': 0.00013869295815007547, 'batch_size': 32, 'num_neurons': 48, 'dropout_rate': 0.46513289181570683}. Best is trial 2 with value: 0.9513742440183199.\n"
     ]
    },
    {
     "name": "stdout",
     "output_type": "stream",
     "text": [
      "\u001b[1m423/423\u001b[0m \u001b[32m━━━━━━━━━━━━━━━━━━━━\u001b[0m\u001b[37m\u001b[0m \u001b[1m1s\u001b[0m 2ms/step\n"
     ]
    },
    {
     "name": "stderr",
     "output_type": "stream",
     "text": [
      "[I 2024-12-06 07:53:52,218] Trial 5 finished with value: 0.9456707098206767 and parameters: {'learning_rate': 0.0001059102613323375, 'batch_size': 64, 'num_neurons': 32, 'dropout_rate': 0.22872035477563235}. Best is trial 2 with value: 0.9513742440183199.\n"
     ]
    },
    {
     "name": "stdout",
     "output_type": "stream",
     "text": [
      "\u001b[1m423/423\u001b[0m \u001b[32m━━━━━━━━━━━━━━━━━━━━\u001b[0m\u001b[37m\u001b[0m \u001b[1m1s\u001b[0m 1ms/step\n"
     ]
    },
    {
     "name": "stderr",
     "output_type": "stream",
     "text": [
      "[I 2024-12-06 07:54:04,582] Trial 6 finished with value: 0.9433666283885492 and parameters: {'learning_rate': 0.00010625972462812783, 'batch_size': 128, 'num_neurons': 16, 'dropout_rate': 0.1830327009421817}. Best is trial 2 with value: 0.9513742440183199.\n"
     ]
    },
    {
     "name": "stdout",
     "output_type": "stream",
     "text": [
      "\u001b[1m423/423\u001b[0m \u001b[32m━━━━━━━━━━━━━━━━━━━━\u001b[0m\u001b[37m\u001b[0m \u001b[1m0s\u001b[0m 954us/step\n"
     ]
    },
    {
     "name": "stderr",
     "output_type": "stream",
     "text": [
      "[I 2024-12-06 07:54:14,764] Trial 7 finished with value: 0.9513950067777668 and parameters: {'learning_rate': 0.0009518499716424716, 'batch_size': 128, 'num_neurons': 16, 'dropout_rate': 0.11540763515373582}. Best is trial 7 with value: 0.9513950067777668.\n"
     ]
    },
    {
     "name": "stdout",
     "output_type": "stream",
     "text": [
      "\u001b[1m423/423\u001b[0m \u001b[32m━━━━━━━━━━━━━━━━━━━━\u001b[0m\u001b[37m\u001b[0m \u001b[1m0s\u001b[0m 712us/step\n"
     ]
    },
    {
     "name": "stderr",
     "output_type": "stream",
     "text": [
      "[I 2024-12-06 07:54:33,133] Trial 8 finished with value: 0.9532512893798945 and parameters: {'learning_rate': 0.004495821995958754, 'batch_size': 64, 'num_neurons': 32, 'dropout_rate': 0.42199028189782684}. Best is trial 8 with value: 0.9532512893798945.\n"
     ]
    },
    {
     "name": "stdout",
     "output_type": "stream",
     "text": [
      "\u001b[1m423/423\u001b[0m \u001b[32m━━━━━━━━━━━━━━━━━━━━\u001b[0m\u001b[37m\u001b[0m \u001b[1m0s\u001b[0m 625us/step\n"
     ]
    },
    {
     "name": "stderr",
     "output_type": "stream",
     "text": [
      "[I 2024-12-06 07:54:42,493] Trial 9 finished with value: 0.954416635807998 and parameters: {'learning_rate': 0.0024725360299718605, 'batch_size': 128, 'num_neurons': 32, 'dropout_rate': 0.10887816616705037}. Best is trial 9 with value: 0.954416635807998.\n"
     ]
    },
    {
     "name": "stdout",
     "output_type": "stream",
     "text": [
      "\u001b[1m423/423\u001b[0m \u001b[32m━━━━━━━━━━━━━━━━━━━━\u001b[0m\u001b[37m\u001b[0m \u001b[1m0s\u001b[0m 1ms/step\n"
     ]
    },
    {
     "name": "stderr",
     "output_type": "stream",
     "text": [
      "[I 2024-12-06 07:54:54,155] Trial 10 finished with value: 0.9554237758577819 and parameters: {'learning_rate': 0.007016761230974652, 'batch_size': 128, 'num_neurons': 64, 'dropout_rate': 0.10033514132969834}. Best is trial 10 with value: 0.9554237758577819.\n"
     ]
    },
    {
     "name": "stdout",
     "output_type": "stream",
     "text": [
      "\u001b[1m423/423\u001b[0m \u001b[32m━━━━━━━━━━━━━━━━━━━━\u001b[0m\u001b[37m\u001b[0m \u001b[1m1s\u001b[0m 1ms/step\n"
     ]
    },
    {
     "name": "stderr",
     "output_type": "stream",
     "text": [
      "[I 2024-12-06 07:55:08,167] Trial 11 finished with value: 0.9553177896993986 and parameters: {'learning_rate': 0.009046890072540371, 'batch_size': 128, 'num_neurons': 64, 'dropout_rate': 0.10356506401658036}. Best is trial 10 with value: 0.9554237758577819.\n"
     ]
    },
    {
     "name": "stdout",
     "output_type": "stream",
     "text": [
      "\u001b[1m423/423\u001b[0m \u001b[32m━━━━━━━━━━━━━━━━━━━━\u001b[0m\u001b[37m\u001b[0m \u001b[1m0s\u001b[0m 1ms/step\n"
     ]
    },
    {
     "name": "stderr",
     "output_type": "stream",
     "text": [
      "[I 2024-12-06 07:55:21,115] Trial 12 finished with value: 0.9537952151907534 and parameters: {'learning_rate': 0.00985366453487616, 'batch_size': 128, 'num_neurons': 64, 'dropout_rate': 0.17679137646589482}. Best is trial 10 with value: 0.9554237758577819.\n"
     ]
    },
    {
     "name": "stdout",
     "output_type": "stream",
     "text": [
      "\u001b[1m423/423\u001b[0m \u001b[32m━━━━━━━━━━━━━━━━━━━━\u001b[0m\u001b[37m\u001b[0m \u001b[1m1s\u001b[0m 1ms/step\n"
     ]
    },
    {
     "name": "stderr",
     "output_type": "stream",
     "text": [
      "[I 2024-12-06 07:55:30,205] Trial 13 finished with value: 0.9541224062007878 and parameters: {'learning_rate': 0.009843035089860886, 'batch_size': 128, 'num_neurons': 64, 'dropout_rate': 0.16123467580153705}. Best is trial 10 with value: 0.9554237758577819.\n"
     ]
    },
    {
     "name": "stdout",
     "output_type": "stream",
     "text": [
      "\u001b[1m423/423\u001b[0m \u001b[32m━━━━━━━━━━━━━━━━━━━━\u001b[0m\u001b[37m\u001b[0m \u001b[1m0s\u001b[0m 716us/step\n"
     ]
    },
    {
     "name": "stderr",
     "output_type": "stream",
     "text": [
      "[I 2024-12-06 07:55:40,674] Trial 14 finished with value: 0.9552510731464078 and parameters: {'learning_rate': 0.004323975148126022, 'batch_size': 128, 'num_neurons': 48, 'dropout_rate': 0.11307461376678324}. Best is trial 10 with value: 0.9554237758577819.\n"
     ]
    },
    {
     "name": "stdout",
     "output_type": "stream",
     "text": [
      "\u001b[1m423/423\u001b[0m \u001b[32m━━━━━━━━━━━━━━━━━━━━\u001b[0m\u001b[37m\u001b[0m \u001b[1m0s\u001b[0m 703us/step\n"
     ]
    },
    {
     "name": "stderr",
     "output_type": "stream",
     "text": [
      "[I 2024-12-06 07:55:49,792] Trial 15 finished with value: 0.9527907488162303 and parameters: {'learning_rate': 0.001010775049238403, 'batch_size': 128, 'num_neurons': 48, 'dropout_rate': 0.23358225428762758}. Best is trial 10 with value: 0.9554237758577819.\n"
     ]
    },
    {
     "name": "stdout",
     "output_type": "stream",
     "text": [
      "\u001b[1m423/423\u001b[0m \u001b[32m━━━━━━━━━━━━━━━━━━━━\u001b[0m\u001b[37m\u001b[0m \u001b[1m1s\u001b[0m 1ms/step\n"
     ]
    },
    {
     "name": "stderr",
     "output_type": "stream",
     "text": [
      "[I 2024-12-06 07:56:03,666] Trial 16 finished with value: 0.9521444295981198 and parameters: {'learning_rate': 0.00476944991093204, 'batch_size': 128, 'num_neurons': 64, 'dropout_rate': 0.15960666106001142}. Best is trial 10 with value: 0.9554237758577819.\n"
     ]
    },
    {
     "name": "stdout",
     "output_type": "stream",
     "text": [
      "\u001b[1m423/423\u001b[0m \u001b[32m━━━━━━━━━━━━━━━━━━━━\u001b[0m\u001b[37m\u001b[0m \u001b[1m1s\u001b[0m 2ms/step\n"
     ]
    },
    {
     "name": "stderr",
     "output_type": "stream",
     "text": [
      "[I 2024-12-06 07:56:17,953] Trial 17 finished with value: 0.9532271845263719 and parameters: {'learning_rate': 0.0019383949080395504, 'batch_size': 128, 'num_neurons': 48, 'dropout_rate': 0.4010935851952556}. Best is trial 10 with value: 0.9554237758577819.\n"
     ]
    },
    {
     "name": "stdout",
     "output_type": "stream",
     "text": [
      "\u001b[1m423/423\u001b[0m \u001b[32m━━━━━━━━━━━━━━━━━━━━\u001b[0m\u001b[37m\u001b[0m \u001b[1m0s\u001b[0m 776us/step\n"
     ]
    },
    {
     "name": "stderr",
     "output_type": "stream",
     "text": [
      "[I 2024-12-06 07:56:49,159] Trial 18 finished with value: 0.9518491973626867 and parameters: {'learning_rate': 0.006414087186207437, 'batch_size': 32, 'num_neurons': 64, 'dropout_rate': 0.2059842698953071}. Best is trial 10 with value: 0.9554237758577819.\n"
     ]
    },
    {
     "name": "stdout",
     "output_type": "stream",
     "text": [
      "\u001b[1m423/423\u001b[0m \u001b[32m━━━━━━━━━━━━━━━━━━━━\u001b[0m\u001b[37m\u001b[0m \u001b[1m1s\u001b[0m 2ms/step\n"
     ]
    },
    {
     "name": "stderr",
     "output_type": "stream",
     "text": [
      "[I 2024-12-06 07:57:16,537] Trial 19 finished with value: 0.9534564939561571 and parameters: {'learning_rate': 0.0021884455633990013, 'batch_size': 64, 'num_neurons': 64, 'dropout_rate': 0.27887092157672055}. Best is trial 10 with value: 0.9554237758577819.\n"
     ]
    },
    {
     "name": "stdout",
     "output_type": "stream",
     "text": [
      "Best AUC: 0.9554\n",
      "Best Hyperparameters: {'learning_rate': 0.007016761230974652, 'batch_size': 128, 'num_neurons': 64, 'dropout_rate': 0.10033514132969834}\n"
     ]
    }
   ],
   "source": [
    "#define the objective function for Optuna optimization\n",
    "def objective(trial):\n",
    "    #hyperparameters\n",
    "    learning_rate = trial.suggest_loguniform('learning_rate', 1e-4, 1e-2)  #learning rate range \n",
    "    batch_size = trial.suggest_categorical('batch_size', [32, 64, 128])   #batch sizes \n",
    "    num_neurons = trial.suggest_int('num_neurons', 16, 64, step=16)       #number of neurons per layer \n",
    "    dropout_rate = trial.suggest_float('dropout_rate', 0.1, 0.5)          #dropout rate \n",
    "\n",
    "    #build the Keras model \n",
    "    model = Sequential([\n",
    "        Dense(num_neurons, input_dim=110, activation='relu'),              #first hidden layer \n",
    "        Dropout(dropout_rate),                                             #dropout for regularisation \n",
    "        Dense(num_neurons, activation='relu'),                             #second hidden layer \n",
    "        Dropout(dropout_rate),\n",
    "        Dense(1, activation='sigmoid')                                     #output layer \n",
    "    ])\n",
    "\n",
    "    #compile the model with binary crossentropy and AUC\n",
    "    model.compile(loss='binary_crossentropy', optimizer=Adam(learning_rate=learning_rate), metrics=['AUC'])\n",
    "\n",
    "    #train the model \n",
    "    model.fit(Xtrain, ytrain, epochs=5, batch_size=batch_size, validation_data=(Xtest, ytest), verbose=0)\n",
    "\n",
    "    #predict on testing set \n",
    "    y_pred = model.predict(Xtest)\n",
    "\n",
    "    #calculate the AUC score \n",
    "    auc = roc_auc_score(ytest, y_pred)\n",
    "    \n",
    "    return auc  \n",
    "\n",
    "#create an Optuna study to maximise the AUC score \n",
    "study = optuna.create_study(direction='maximize')  \n",
    "study.optimize(objective, n_trials=20)  #perform 20 trials for tuning simplicity\n",
    "\n",
    "#print the best hyperparamaters and AUC score found \n",
    "print(f\"Best AUC: {study.best_value:.4f}\")\n",
    "print(f\"Best Hyperparameters: {study.best_params}\")"
   ]
  },
  {
   "cell_type": "markdown",
   "id": "2f4ddc15-8318-45ea-8726-e8bd9baa2354",
   "metadata": {},
   "source": [
    "#### 3.3.1.2. Testing set prediction:"
   ]
  },
  {
   "cell_type": "code",
   "execution_count": 5,
   "id": "6298db25-3e62-4efc-af70-ad364cd1e9e0",
   "metadata": {},
   "outputs": [
    {
     "name": "stdout",
     "output_type": "stream",
     "text": [
      "Best AUC: 0.9554\n",
      "Best Hyperparameters: {'learning_rate': 0.007016761230974652, 'batch_size': 128, 'num_neurons': 64, 'dropout_rate': 0.10033514132969834}\n",
      "\u001b[1m423/423\u001b[0m \u001b[32m━━━━━━━━━━━━━━━━━━━━\u001b[0m\u001b[37m\u001b[0m \u001b[1m1s\u001b[0m 1ms/step\n",
      "AUC on Xtest with best parameters: 0.9582\n"
     ]
    }
   ],
   "source": [
    "#get the best paramaters \n",
    "best_params = study.best_params\n",
    "\n",
    "#retrain the model with the best parameters\n",
    "model = Sequential([\n",
    "    Dense(best_params['num_neurons'], input_dim=110, activation='relu'),      \n",
    "    Dropout(best_params['dropout_rate']),                                     \n",
    "    Dense(best_params['num_neurons'], activation='relu'),                     \n",
    "    Dropout(best_params['dropout_rate']),                                     \n",
    "    Dense(1, activation='sigmoid')                                            \n",
    "])\n",
    "\n",
    "#compile the model with best params found \n",
    "model.compile(loss='binary_crossentropy', optimizer=Adam(learning_rate=best_params['learning_rate']), metrics=['AUC'])\n",
    "\n",
    "#train the model with best batch size param found \n",
    "model.fit(Xtrain, ytrain, epochs=5, batch_size=best_params['batch_size'], validation_data=(Xtest, ytest), verbose=0)\n",
    "\n",
    "#predict on Xtest \n",
    "y_pred = model.predict(Xtest)\n",
    "\n",
    "#convert probabilities to binary labels \n",
    "y_pred_labels = (y_pred > 0.5).astype(int)  \n",
    "\n",
    "#evaluate the AUC score \n",
    "auc = roc_auc_score(ytest, y_pred)\n",
    "print(f\"AUC on Xtest with best parameters: {auc:.4f}\")"
   ]
  },
  {
   "cell_type": "markdown",
   "id": "d22753d0-5578-44df-a632-23f8fbc53783",
   "metadata": {},
   "source": [
    "### 3.3.2. Feature methods selection:"
   ]
  },
  {
   "cell_type": "markdown",
   "id": "2737ad23-836a-4af0-bdbf-e893260ba11f",
   "metadata": {},
   "source": [
    "#### 3.3.2.1. RFE:"
   ]
  },
  {
   "cell_type": "markdown",
   "id": "8ca54b85-f4fb-4a99-972e-bc18defb2578",
   "metadata": {},
   "source": [
    "The following code addresses feature selection for a Keras MLP by using permutation importance, as Keras does not provide inherent feature importance. A custom KerasRFE class is defined that combines RFE with permutation importance to identify the most impactful features. The model is retrained with different subsets of features, and the AUC score is calculated for each subset. The best features and model, which achieve the highest AUC, are saved to conserve reproductibility. "
   ]
  },
  {
   "cell_type": "code",
   "execution_count": 183,
   "id": "1f5bf250-642b-4fda-8e6a-f23d1f15bb91",
   "metadata": {},
   "outputs": [
    {
     "name": "stdout",
     "output_type": "stream",
     "text": [
      "Starting RFE and model evaluation process...\n",
      "Top 5 Features, AUC Score: 0.942\n"
     ]
    },
    {
     "name": "stderr",
     "output_type": "stream",
     "text": [
      "  0%|                                                                                           | 0/11 [00:00<?, ?it/s]WARNING:absl:You are saving your model as an HDF5 file via `model.save()` or `keras.saving.save_model(model)`. This file format is considered legacy. We recommend using instead the native Keras format, e.g. `model.save('my_model.keras')` or `keras.saving.save_model(model, 'my_model.keras')`. \n",
      "  9%|███████▌                                                                           | 1/11 [00:43<07:19, 43.93s/it]"
     ]
    },
    {
     "name": "stdout",
     "output_type": "stream",
     "text": [
      "Top 10 Features, AUC Score: 0.958\n"
     ]
    },
    {
     "name": "stderr",
     "output_type": "stream",
     "text": [
      "WARNING:absl:You are saving your model as an HDF5 file via `model.save()` or `keras.saving.save_model(model)`. This file format is considered legacy. We recommend using instead the native Keras format, e.g. `model.save('my_model.keras')` or `keras.saving.save_model(model, 'my_model.keras')`. \n",
      " 18%|███████████████                                                                    | 2/11 [01:25<06:24, 42.77s/it]"
     ]
    },
    {
     "name": "stdout",
     "output_type": "stream",
     "text": [
      "Top 20 Features, AUC Score: 0.968\n"
     ]
    },
    {
     "name": "stderr",
     "output_type": "stream",
     "text": [
      " 27%|██████████████████████▋                                                            | 3/11 [01:46<04:21, 32.67s/it]"
     ]
    },
    {
     "name": "stdout",
     "output_type": "stream",
     "text": [
      "Top 30 Features, AUC Score: 0.964\n"
     ]
    },
    {
     "name": "stderr",
     "output_type": "stream",
     "text": [
      " 36%|██████████████████████████████▏                                                    | 4/11 [02:08<03:18, 28.29s/it]"
     ]
    },
    {
     "name": "stdout",
     "output_type": "stream",
     "text": [
      "Top 40 Features, AUC Score: 0.959\n"
     ]
    },
    {
     "name": "stderr",
     "output_type": "stream",
     "text": [
      " 45%|█████████████████████████████████████▋                                             | 5/11 [02:31<02:38, 26.35s/it]"
     ]
    },
    {
     "name": "stdout",
     "output_type": "stream",
     "text": [
      "Top 50 Features, AUC Score: 0.957\n"
     ]
    },
    {
     "name": "stderr",
     "output_type": "stream",
     "text": [
      " 55%|█████████████████████████████████████████████▎                                     | 6/11 [02:51<02:02, 24.44s/it]"
     ]
    },
    {
     "name": "stdout",
     "output_type": "stream",
     "text": [
      "Top 60 Features, AUC Score: 0.953\n"
     ]
    },
    {
     "name": "stderr",
     "output_type": "stream",
     "text": [
      " 64%|████████████████████████████████████████████████████▊                              | 7/11 [03:14<01:35, 23.80s/it]"
     ]
    },
    {
     "name": "stdout",
     "output_type": "stream",
     "text": [
      "Top 70 Features, AUC Score: 0.956\n"
     ]
    },
    {
     "name": "stderr",
     "output_type": "stream",
     "text": [
      " 73%|████████████████████████████████████████████████████████████▎                      | 8/11 [03:38<01:11, 23.83s/it]"
     ]
    },
    {
     "name": "stdout",
     "output_type": "stream",
     "text": [
      "Top 80 Features, AUC Score: 0.955\n"
     ]
    },
    {
     "name": "stderr",
     "output_type": "stream",
     "text": [
      " 82%|███████████████████████████████████████████████████████████████████▉               | 9/11 [03:59<00:46, 23.00s/it]"
     ]
    },
    {
     "name": "stdout",
     "output_type": "stream",
     "text": [
      "Top 90 Features, AUC Score: 0.956\n"
     ]
    },
    {
     "name": "stderr",
     "output_type": "stream",
     "text": [
      " 91%|██████████████████████████████████████████████████████████████████████████▌       | 10/11 [04:18<00:21, 21.89s/it]"
     ]
    },
    {
     "name": "stdout",
     "output_type": "stream",
     "text": [
      "Top 100 Features, AUC Score: 0.948\n"
     ]
    },
    {
     "name": "stderr",
     "output_type": "stream",
     "text": [
      "100%|██████████████████████████████████████████████████████████████████████████████████| 11/11 [04:38<00:00, 25.31s/it]"
     ]
    },
    {
     "name": "stdout",
     "output_type": "stream",
     "text": [
      "Top 110 Features, AUC Score: 0.955\n",
      "Total execution time: 756.05 seconds\n"
     ]
    },
    {
     "name": "stderr",
     "output_type": "stream",
     "text": [
      "\n"
     ]
    }
   ],
   "source": [
    "#set a random seed for reproducibility\n",
    "def set_seed(seed_value=7):\n",
    "    np.random.seed(seed_value)\n",
    "    random.seed(seed_value)\n",
    "\n",
    "set_seed()\n",
    "\n",
    "#function to silence model predictions\n",
    "def silent_predict(model, X):\n",
    "    tf.get_logger().setLevel('ERROR')  # Disable logs at this point\n",
    "    return model.predict(X, verbose=0)\n",
    "\n",
    "#define a function for model building\n",
    "def create_model(best_params, input_dim):\n",
    "    model = Sequential([\n",
    "        Dense(best_params['num_neurons'], input_dim=input_dim, activation='relu'),\n",
    "        Dropout(best_params['dropout_rate']),\n",
    "        Dense(best_params['num_neurons'], activation='relu'),\n",
    "        Dropout(best_params['dropout_rate']),\n",
    "        Dense(1, activation='sigmoid')  # Sigmoid output for binary classification\n",
    "    ])\n",
    "    model.compile(loss='binary_crossentropy', optimizer=Adam(learning_rate=best_params['learning_rate']), metrics=['AUC'])\n",
    "    return model\n",
    "\n",
    "#wrap the Keras model using KerasClassifier\n",
    "def wrap_model(best_params, input_dim):\n",
    "    model = KerasClassifier(model=create_model(best_params, input_dim), epochs=10, batch_size=best_params['batch_size'], verbose=0)\n",
    "    return model\n",
    "\n",
    "class KerasRFE(RFE):\n",
    "    def __init__(self, estimator, n_features_to_select, X_train, y_train, **kwargs):\n",
    "        super(KerasRFE, self).__init__(estimator=estimator, n_features_to_select=n_features_to_select, **kwargs)\n",
    "        self.X_train = X_train\n",
    "        self.y_train = y_train\n",
    "\n",
    "    def _fit(self, X, y):\n",
    "        self.estimator.fit(X, y)\n",
    "\n",
    "#save the model and best features when a better AUC score is found\n",
    "def save_model_and_features(model_keras, best_top_features):\n",
    "    #save the Keras model (architecture + weights)\n",
    "    keras_model = model_keras.model  #access the actual Keras model from the wrapper\n",
    "    keras_model.save('best_model.h5')  #save the model\n",
    "    \n",
    "    #save the top features using joblib\n",
    "    joblib.dump(best_top_features, 'best_top_features_keras_rfe.pkl')\n",
    "\n",
    "#function to compute permutation importance and sort features\n",
    "def compute_permutation_importance(model, X, y, random_state=7):\n",
    "    np.random.seed(random_state)  # Set random seed\n",
    "    importances = []\n",
    "    baseline_preds = silent_predict(model, X).flatten()\n",
    "    baseline_auc = roc_auc_score(y, baseline_preds)\n",
    "    \n",
    "    for col in X.columns:\n",
    "        X_permuted = X.copy()\n",
    "        X_permuted[col] = np.random.permutation(X_permuted[col])  # Shuffle with controlled randomness\n",
    "        permuted_preds = silent_predict(model, X_permuted).flatten()\n",
    "        permuted_auc = roc_auc_score(y, permuted_preds)\n",
    "        importance = baseline_auc - permuted_auc\n",
    "        importances.append((col, importance))\n",
    "    \n",
    "    importances.sort(key=lambda x: x[1], reverse=True)\n",
    "    return importances, baseline_auc\n",
    "\n",
    "#function to get top N features based on permutation importance\n",
    "def get_top_n_features(importances, n):\n",
    "    #select the top N features based on their importance score\n",
    "    top_features = [feature[0] for feature in importances[:n]]\n",
    "    return top_features\n",
    "\n",
    "#evaluating top features selected by permutation importance\n",
    "def evaluate_auc_with_selected_features(best_params, X_train, y_train, X_test, y_test, selected_features):\n",
    "    X_train_selected = X_train[selected_features]\n",
    "    X_test_selected = X_test[selected_features]\n",
    "    \n",
    "    #reinitialise the model for the new input dimension\n",
    "    model = wrap_model(best_params, X_train_selected.shape[1])\n",
    "    model.fit(X_train_selected, y_train)\n",
    "    y_pred_selected = model.predict_proba(X_test_selected)[:, 1]\n",
    "    \n",
    "    #calculate AUC score\n",
    "    auc_score_selected = roc_auc_score(y_test, y_pred_selected)\n",
    "    return auc_score_selected, selected_features\n",
    "\n",
    "#start timer and track execution time\n",
    "start_time = time.time()\n",
    "\n",
    "#track progress of the RFE process\n",
    "print(\"Starting RFE and model evaluation process...\")\n",
    "\n",
    "#set up lists to store top features and AUC scores\n",
    "features_counts_keras_rfe = []  #will count top 10, 20, 30 features etc.\n",
    "auc_scores_keras_rfe = []\n",
    "best_auc_score = 0  #initialise with a low score for comparison\n",
    "best_top_features_keras_rfe = []  #store the best features\n",
    "\n",
    "#set up RFE with Keras and Permutation Feature Importance\n",
    "keras_rfe = KerasRFE(estimator=wrap_model(best_params, Xtrain.shape[1]), n_features_to_select=5, X_train=Xtrain, y_train=ytrain)\n",
    "\n",
    "#perform RFE with the Keras model\n",
    "keras_rfe.fit(Xtrain, ytrain)\n",
    "\n",
    "#get permutation importance and sort features\n",
    "importances, baseline_auc = compute_permutation_importance(keras_rfe.estimator, Xtrain, ytrain)\n",
    "\n",
    "#evaluate top 5 features based on permutation importance\n",
    "top_5_features = get_top_n_features(importances, 5)\n",
    "auc_score_top_5, top_features = evaluate_auc_with_selected_features(best_params, Xtrain, ytrain, Xtest, ytest, top_5_features)\n",
    "auc_scores_keras_rfe.append(auc_score_top_5)\n",
    "features_counts_keras_rfe.append(5)\n",
    "\n",
    "if auc_score_top_5 > best_auc_score:\n",
    "    best_auc_score = auc_score_top_5\n",
    "    best_top_features_keras_rfe = top_features\n",
    "\n",
    "print(f\"Top 5 Features, AUC Score: {auc_score_top_5:.3f}\")\n",
    "\n",
    "#save the model and best features only once when the best AUC score is achieved\n",
    "if auc_score_top_5 > best_auc_score:\n",
    "    best_auc_score = auc_score_top_5\n",
    "    best_top_features_keras_rfe = top_features\n",
    "    # Save the model to disk after training it once\n",
    "    model_keras = wrap_model(best_params, Xtrain[top_features].shape[1])  #use top_features instead of selected_features\n",
    "    model_keras.fit(Xtrain[top_features], ytrain)\n",
    "    save_model_and_features(model_keras, best_top_features_keras_rfe)\n",
    "\n",
    "#evaluate in increments of 10 features for broader selection\n",
    "for top_n in tqdm(range(10, len(Xtrain.columns) + 1, 10)):\n",
    "    top_features = get_top_n_features(importances, top_n)\n",
    "    auc_score_top_n, top_features = evaluate_auc_with_selected_features(best_params, Xtrain, ytrain, Xtest, ytest, top_features)\n",
    "    \n",
    "    auc_scores_keras_rfe.append(auc_score_top_n)\n",
    "    features_counts_keras_rfe.append(top_n)  #track the top_n in each iteration\n",
    "    \n",
    "    #track best AUC score and corresponding features\n",
    "    if auc_score_top_n > best_auc_score:\n",
    "        best_auc_score = auc_score_top_n\n",
    "        best_top_features_keras_rfe = top_features\n",
    "        # Save the best model to disk only once (after training it)\n",
    "        model_keras = wrap_model(best_params, Xtrain[top_features].shape[1])  #use top_features instead of selected_features\n",
    "        model_keras.fit(Xtrain[top_features], ytrain)\n",
    "        save_model_and_features(model_keras, best_top_features_keras_rfe)\n",
    "\n",
    "    print(f\"Top {top_n} Features, AUC Score: {auc_score_top_n:.3f}\")\n",
    "\n",
    "#calculate total execution time\n",
    "execution_time = time.time() - start_time\n",
    "print(f\"Total execution time: {execution_time:.2f} seconds\")"
   ]
  },
  {
   "cell_type": "code",
   "execution_count": 75,
   "id": "d17f7a99-9790-4552-b685-e2cff6b52c32",
   "metadata": {},
   "outputs": [
    {
     "data": {
      "text/plain": [
       "Text(0.5, 1.0, 'Effect of Number of Features on Model Performance')"
      ]
     },
     "execution_count": 75,
     "metadata": {},
     "output_type": "execute_result"
    },
    {
     "data": {
      "image/png": "[encoded data removed]",
      "text/plain": [
       "<Figure size 1000x600 with 1 Axes>"
      ]
     },
     "metadata": {},
     "output_type": "display_data"
    }
   ],
   "source": [
    "#plot the AUC scores & the number of features selected\n",
    "plt.figure(figsize=(10, 6))\n",
    "plt.grid(True)\n",
    "plt.plot(features_counts_keras_rfe, auc_scores_keras_rfe, marker='o')\n",
    "plt.ylim(0.910, 0.970)\n",
    "plt.xlabel('Number of Features Selected Using RFE')\n",
    "plt.ylabel('AUC Score of Neural Networks')\n",
    "plt.title('Effect of Number of Features on Model Performance')"
   ]
  },
  {
   "cell_type": "markdown",
   "id": "24e73f5a-9e09-4b54-a320-0be237d010a6",
   "metadata": {},
   "source": [
    "RFE applied to Keras MLP model showed that the top 20 features achieved the highest AUC score of 0.968, as opposed to Catboost and Decision Tree top 10 features. However, after the peak, the scores declined gradually until 100 features, where the AUC reached 0.948. A slight recovery in performance occurred at 110 features with an AUC score of 0.955. But overall the AUC scores remained relatively high."
   ]
  },
  {
   "cell_type": "markdown",
   "id": "44c724bd-9546-442e-baf0-3fc8e2345b86",
   "metadata": {},
   "source": [
    "#### 3.3.2.2. Permutation:"
   ]
  },
  {
   "cell_type": "code",
   "execution_count": 70,
   "id": "96874946-688d-4dd9-ae09-90447a27cf34",
   "metadata": {},
   "outputs": [
    {
     "name": "stdout",
     "output_type": "stream",
     "text": [
      "Computing permutation importance for all features...\n",
      "Top 5 Features, AUC Score: 0.951\n"
     ]
    },
    {
     "name": "stderr",
     "output_type": "stream",
     "text": [
      "Evaluating Features:   9%|█████▋                                                        | 1/11 [00:21<03:38, 21.80s/it]"
     ]
    },
    {
     "name": "stdout",
     "output_type": "stream",
     "text": [
      "Top 10 Features, AUC Score: 0.959\n"
     ]
    },
    {
     "name": "stderr",
     "output_type": "stream",
     "text": [
      "Evaluating Features:  18%|███████████▎                                                  | 2/11 [00:41<03:03, 20.39s/it]"
     ]
    },
    {
     "name": "stdout",
     "output_type": "stream",
     "text": [
      "Top 20 Features, AUC Score: 0.966\n"
     ]
    },
    {
     "name": "stderr",
     "output_type": "stream",
     "text": [
      "Evaluating Features:  27%|████████████████▉                                             | 3/11 [01:01<02:42, 20.36s/it]"
     ]
    },
    {
     "name": "stdout",
     "output_type": "stream",
     "text": [
      "Top 30 Features, AUC Score: 0.962\n"
     ]
    },
    {
     "name": "stderr",
     "output_type": "stream",
     "text": [
      "Evaluating Features:  36%|██████████████████████▌                                       | 4/11 [01:24<02:28, 21.27s/it]"
     ]
    },
    {
     "name": "stdout",
     "output_type": "stream",
     "text": [
      "Top 40 Features, AUC Score: 0.962\n"
     ]
    },
    {
     "name": "stderr",
     "output_type": "stream",
     "text": [
      "Evaluating Features:  45%|████████████████████████████▏                                 | 5/11 [01:44<02:04, 20.75s/it]"
     ]
    },
    {
     "name": "stdout",
     "output_type": "stream",
     "text": [
      "Top 50 Features, AUC Score: 0.959\n"
     ]
    },
    {
     "name": "stderr",
     "output_type": "stream",
     "text": [
      "Evaluating Features:  55%|█████████████████████████████████▊                            | 6/11 [02:04<01:43, 20.71s/it]"
     ]
    },
    {
     "name": "stdout",
     "output_type": "stream",
     "text": [
      "Top 60 Features, AUC Score: 0.957\n"
     ]
    },
    {
     "name": "stderr",
     "output_type": "stream",
     "text": [
      "Evaluating Features:  64%|███████████████████████████████████████▍                      | 7/11 [02:22<01:19, 19.86s/it]"
     ]
    },
    {
     "name": "stdout",
     "output_type": "stream",
     "text": [
      "Top 70 Features, AUC Score: 0.958\n"
     ]
    },
    {
     "name": "stderr",
     "output_type": "stream",
     "text": [
      "Evaluating Features:  73%|█████████████████████████████████████████████                 | 8/11 [02:41<00:58, 19.40s/it]"
     ]
    },
    {
     "name": "stdout",
     "output_type": "stream",
     "text": [
      "Top 80 Features, AUC Score: 0.953\n"
     ]
    },
    {
     "name": "stderr",
     "output_type": "stream",
     "text": [
      "Evaluating Features:  82%|██████████████████████████████████████████████████▋           | 9/11 [03:00<00:38, 19.41s/it]"
     ]
    },
    {
     "name": "stdout",
     "output_type": "stream",
     "text": [
      "Top 90 Features, AUC Score: 0.956\n"
     ]
    },
    {
     "name": "stderr",
     "output_type": "stream",
     "text": [
      "Evaluating Features:  91%|███████████████████████████████████████████████████████▍     | 10/11 [03:19<00:19, 19.13s/it]"
     ]
    },
    {
     "name": "stdout",
     "output_type": "stream",
     "text": [
      "Top 100 Features, AUC Score: 0.955\n"
     ]
    },
    {
     "name": "stderr",
     "output_type": "stream",
     "text": [
      "Evaluating Features: 100%|█████████████████████████████████████████████████████████████| 11/11 [03:39<00:00, 19.97s/it]"
     ]
    },
    {
     "name": "stdout",
     "output_type": "stream",
     "text": [
      "Top 110 Features, AUC Score: 0.954\n",
      "Total execution time: 439.45 seconds\n"
     ]
    },
    {
     "name": "stderr",
     "output_type": "stream",
     "text": [
      "\n"
     ]
    }
   ],
   "source": [
    "#start the timer\n",
    "start_time = time.time()\n",
    "\n",
    "#function to silence model predictions\n",
    "def silent_predict(model, X):\n",
    "    tf.get_logger().setLevel('ERROR')  # Disable logs at this point\n",
    "    return model.predict(X, verbose=0)\n",
    "\n",
    "#set a random seed for reproducibility\n",
    "np.random.seed(7)\n",
    "\n",
    "#define a function to compute permutation importance for all features at once\n",
    "def compute_permutation_importance(model, X, y, random_state=7):\n",
    "    importances = []\n",
    "    baseline_preds = silent_predict(model, X).flatten()  # Use silent_predict to avoid verbosity\n",
    "    baseline_auc = roc_auc_score(y, baseline_preds)\n",
    "    \n",
    "    for col in X.columns:\n",
    "        X_permuted = X.copy()\n",
    "        np.random.seed(random_state)  # Ensure reproducibility\n",
    "        X_permuted[col] = np.random.permutation(X_permuted[col])  # Permute the column\n",
    "        permuted_preds = silent_predict(model, X_permuted).flatten()  # Use silent_predict to avoid verbosity\n",
    "        permuted_auc = roc_auc_score(y, permuted_preds)\n",
    "        importance = baseline_auc - permuted_auc\n",
    "        importances.append((col, importance))\n",
    "    \n",
    "    #sort features by importance\n",
    "    importances.sort(key=lambda x: x[1], reverse=True)\n",
    "    return importances, baseline_auc\n",
    "\n",
    "#define a function for model creation\n",
    "def create_model(best_params, input_dim):\n",
    "    model = Sequential([\n",
    "        Dense(best_params['num_neurons'], input_dim=input_dim, activation='relu'),\n",
    "        Dropout(best_params['dropout_rate']),\n",
    "        Dense(best_params['num_neurons'], activation='relu'),\n",
    "        Dropout(best_params['dropout_rate']),\n",
    "        Dense(1, activation='sigmoid') \n",
    "    ])\n",
    "    model.compile(loss='binary_crossentropy', optimizer=Adam(learning_rate=best_params['learning_rate']), metrics=['AUC'])\n",
    "    return model\n",
    "\n",
    "#define a function for AUC evaluation with selected features\n",
    "def evaluate_auc_with_selected_features(best_params, X_train, y_train, X_test, y_test, selected_features):\n",
    "    X_train_selected = X_train[selected_features]\n",
    "    X_test_selected = X_test[selected_features]\n",
    "    \n",
    "    #reinitialise the model for the new input dimension\n",
    "    model = KerasClassifier(build_fn=create_model, \n",
    "                            best_params=best_params, \n",
    "                            input_dim=X_train_selected.shape[1], \n",
    "                            epochs=10, batch_size=best_params['batch_size'], \n",
    "                            verbose=0)  #ensure verbose is set to 0 here\n",
    "    \n",
    "    model.fit(X_train_selected, y_train)  #use verbose=0 to suppress output during training\n",
    "    y_pred_selected = model.predict_proba(X_test_selected)[:, 1]\n",
    "    \n",
    "    #calculate AUC score\n",
    "    auc_score_selected = roc_auc_score(y_test, y_pred_selected)\n",
    "    return auc_score_selected\n",
    "\n",
    "#initialise variables\n",
    "feature_counts_keras_perm = []\n",
    "auc_scores_keras_perm = []\n",
    "best_auc_score_keras_perm = -1\n",
    "best_features_keras_perm = []\n",
    "\n",
    "#compute permutation importance for all features\n",
    "print(\"Computing permutation importance for all features...\")\n",
    "feature_importances, auc_initial = compute_permutation_importance(model, Xtrain, ytrain)\n",
    "\n",
    "#evaluate AUC score for top 5 features\n",
    "top_5_features = [f[0] for f in feature_importances[:5]]\n",
    "auc_score_top_5 = evaluate_auc_with_selected_features(best_params, Xtrain, ytrain, Xtest, ytest, top_5_features)\n",
    "auc_scores_keras_perm.append(auc_score_top_5)\n",
    "feature_counts_keras_perm.append(5)\n",
    "\n",
    "if auc_score_top_5 > best_auc_score_keras_perm:\n",
    "    best_auc_score_keras_perm = auc_score_top_5\n",
    "    best_features_keras_perm = top_5_features\n",
    "\n",
    "tqdm.write(f\"Top 5 Features, AUC Score: {auc_score_top_5:.3f}\")\n",
    "\n",
    "#incrementally evaluate subsets of features\n",
    "feature_steps = range(10, Xtrain.shape[1] + 1, 10)\n",
    "for num_features in tqdm(feature_steps, desc=\"Evaluating Features\"):  \n",
    "    top_features = [f[0] for f in feature_importances[:num_features]]\n",
    "    auc_score = evaluate_auc_with_selected_features(best_params, Xtrain, ytrain, Xtest, ytest, top_features)\n",
    "    \n",
    "    auc_scores_keras_perm.append(auc_score)\n",
    "    feature_counts_keras_perm.append(num_features)\n",
    "    \n",
    "    if auc_score > best_auc_score_keras_perm:\n",
    "        best_auc_score_keras_perm = auc_score\n",
    "        best_features_keras_perm = top_features\n",
    "\n",
    "    tqdm.write(f\"Top {num_features} Features, AUC Score: {auc_score:.3f}\")\n",
    "\n",
    "#calculate total execution time\n",
    "execution_time = time.time() - start_time\n",
    "print(f\"Total execution time: {execution_time:.2f} seconds\")"
   ]
  },
  {
   "cell_type": "code",
   "execution_count": 71,
   "id": "61ec5273-c572-497d-a82c-c1b60e23286f",
   "metadata": {},
   "outputs": [
    {
     "data": {
      "text/plain": [
       "Text(0.5, 1.0, 'Effect of Number of Features on Model Performance')"
      ]
     },
     "execution_count": 71,
     "metadata": {},
     "output_type": "execute_result"
    },
    {
     "data": {
      "image/png": "[encoded data removed]",
      "text/plain": [
       "<Figure size 1000x600 with 1 Axes>"
      ]
     },
     "metadata": {},
     "output_type": "display_data"
    }
   ],
   "source": [
    "#plot the AUC scores & the number of features selected\n",
    "plt.figure(figsize=(10, 6))\n",
    "plt.grid(True)\n",
    "plt.plot(feature_counts_keras_perm, auc_scores_keras_perm, marker='o')\n",
    "plt.ylim(0.910, 0.970)\n",
    "plt.xlabel('Number of Features Selected Using Permutation')\n",
    "plt.ylabel('AUC Score of Neural Networks')\n",
    "plt.title('Effect of Number of Features on Model Performance')"
   ]
  },
  {
   "cell_type": "markdown",
   "id": "4dfa3711-8724-450f-98df-55f3828dbc30",
   "metadata": {},
   "source": [
    "Permutation on Keras MLP model showed that the top 20 features achieved the highest AUC score of 0.966, similar to its RFE results. Afterward, the scores gradually declined until 80 features then rose again. The final score at 110 features was 0.954, showing a decrease from the peak, but nontheless maintained a relatively high AUC scores overall."
   ]
  },
  {
   "cell_type": "markdown",
   "id": "093f0b0d-1dfd-4da1-a9df-69dfa5845e68",
   "metadata": {},
   "source": [
    "## 3.4. Machine Learning Models ROC Curve Visualisation"
   ]
  },
  {
   "cell_type": "code",
   "execution_count": 57,
   "id": "8eda4bcf-55b6-41f2-a1f1-b22733771f72",
   "metadata": {},
   "outputs": [
    {
     "data": {
      "image/png": "[encoded data removed]",
      "text/plain": [
       "<Figure size 1000x600 with 1 Axes>"
      ]
     },
     "metadata": {},
     "output_type": "display_data"
    }
   ],
   "source": [
    "#get FPR, TPR, and AUC for Decision Tree\n",
    "fpr_dt, tpr_dt, _ = roc_curve(ytest, yhat_dt)\n",
    "auc_dt = roc_auc_score(ytest, yhat_dt)\n",
    "\n",
    "#get FPR, TPR, and AUC for CatBoost\n",
    "fpr_cb, tpr_cb, _ = roc_curve(ytest, yhat_cb)\n",
    "auc_cb = roc_auc_score(ytest, yhat_cb)\n",
    "\n",
    "#get FPR, TPR, and AUC for MLP\n",
    "fpr_model, tpr_model, _ = roc_curve(ytest, y_pred)\n",
    "auc_model = roc_auc_score(ytest, y_pred)\n",
    "\n",
    "#plot the ROC curves\n",
    "plt.figure(figsize=(10, 6))\n",
    "plt.plot(fpr_dt, tpr_dt, label=f'Decision Tree (AUC = {auc_dt:.4f})', linewidth=2)\n",
    "plt.plot(fpr_cb, tpr_cb, label=f'CatBoost (AUC = {auc_cb:.4f})', linewidth=2)\n",
    "plt.plot(fpr_model, tpr_model, label=f'Model (AUC = {auc_model:.4f})', linewidth=2)\n",
    "\n",
    "#add the baseline plot\n",
    "plt.plot([0, 1], [0, 1], 'k--', linewidth=1.5, label='Baseline')\n",
    "\n",
    "#add titles, labels, and legend\n",
    "plt.title('ROC Curves for Machine Learning Models', fontsize=14)\n",
    "plt.xlabel('False Positive Rate (FPR)', fontsize=12)\n",
    "plt.ylabel('True Positive Rate (TPR)', fontsize=12)\n",
    "plt.legend(fontsize=10, loc='lower right')\n",
    "plt.grid(alpha=0.6)\n",
    "plt.tight_layout()"
   ]
  },
  {
   "cell_type": "markdown",
   "id": "badc9cab-96d7-45ef-940f-d46a7311c2b1",
   "metadata": {},
   "source": [
    "# 4. Deep Learning Models:"
   ]
  },
  {
   "cell_type": "code",
   "execution_count": 19,
   "id": "d2aac889-122a-483b-bac8-b57267df577f",
   "metadata": {},
   "outputs": [],
   "source": [
    "Xtrain_dl = pd.read_csv(\"Xtrain_original.csv\")\n",
    "Xtest_dl = pd.read_csv(\"Xtest_original.csv\")\n",
    "\n",
    "ytrain_dl = pd.read_csv(\"ytrain_original.csv\").squeeze()\n",
    "ytest_dl = pd.read_csv(\"ytest_original.csv\").squeeze()"
   ]
  },
  {
   "cell_type": "code",
   "execution_count": 29,
   "id": "c4f4b140-31d0-48be-bfc3-844183bcce42",
   "metadata": {},
   "outputs": [],
   "source": [
    "#import the necessary parts of TensorFlow and the data_adapter\n",
    "from tensorflow.python.keras.engine import data_adapter\n",
    "\n",
    "#define the new method for checking distributed datasets\n",
    "def _is_distributed_dataset(ds):\n",
    "    #use DistributedDatasetSpec instead of the missing DistributedDatasetInterface\n",
    "    return isinstance(ds, data_adapter.input_lib.DistributedDatasetSpec)\n",
    "\n",
    "#apply the monkey patch by replacing the original method\n",
    "data_adapter._is_distributed_dataset = _is_distributed_dataset\n",
    "\n",
    "np.random.seed(7)\n",
    "random.seed(7)\n",
    "tf.random.set_seed(7)"
   ]
  },
  {
   "cell_type": "markdown",
   "id": "e7199354-419d-4af7-b831-8b46e49a00e0",
   "metadata": {},
   "source": [
    "## 4.1. Wide and Deep:"
   ]
  },
  {
   "cell_type": "markdown",
   "id": "c2231604-0e36-4bac-b930-7e2db412563f",
   "metadata": {},
   "source": [
    "### 4.1.1. Hyperparameter tuning:"
   ]
  },
  {
   "cell_type": "code",
   "execution_count": 30,
   "id": "f7e0462d-1540-4612-97b5-e9e5b897d4d8",
   "metadata": {},
   "outputs": [
    {
     "name": "stderr",
     "output_type": "stream",
     "text": [
      "[I 2025-01-24 12:54:25,842] A new study created in memory with name: no-name-b49ffb9b-eb6a-4b19-89bb-09cd1ee56701\n",
      "[I 2025-01-24 12:55:09,231] Trial 0 finished with value: 0.5 and parameters: {'dnn_hidden_units': (128, 128), 'dnn_dropout': 0.1}. Best is trial 0 with value: 0.5.\n",
      "[I 2025-01-24 12:55:59,552] Trial 1 finished with value: 0.5 and parameters: {'dnn_hidden_units': (256, 256), 'dnn_dropout': 0.1}. Best is trial 0 with value: 0.5.\n",
      "[I 2025-01-24 12:56:53,499] Trial 2 finished with value: 0.5 and parameters: {'dnn_hidden_units': (256, 256), 'dnn_dropout': 0.30000000000000004}. Best is trial 0 with value: 0.5.\n",
      "[I 2025-01-24 12:57:40,181] Trial 3 finished with value: 0.5 and parameters: {'dnn_hidden_units': (128, 128), 'dnn_dropout': 0.5}. Best is trial 0 with value: 0.5.\n",
      "[I 2025-01-24 12:58:26,263] Trial 4 finished with value: 0.5 and parameters: {'dnn_hidden_units': (128, 128), 'dnn_dropout': 0.4}. Best is trial 0 with value: 0.5.\n",
      "[I 2025-01-24 12:59:18,839] Trial 5 finished with value: 0.5 and parameters: {'dnn_hidden_units': (256, 256), 'dnn_dropout': 0.30000000000000004}. Best is trial 0 with value: 0.5.\n",
      "[I 2025-01-24 13:00:02,941] Trial 6 finished with value: 0.5 and parameters: {'dnn_hidden_units': (256, 256), 'dnn_dropout': 0.0}. Best is trial 0 with value: 0.5.\n",
      "[I 2025-01-24 13:00:50,548] Trial 7 finished with value: 0.5 and parameters: {'dnn_hidden_units': (128, 128), 'dnn_dropout': 0.5}. Best is trial 0 with value: 0.5.\n",
      "[I 2025-01-24 13:01:31,670] Trial 8 finished with value: 0.5 and parameters: {'dnn_hidden_units': (128, 128), 'dnn_dropout': 0.0}. Best is trial 0 with value: 0.5.\n",
      "[I 2025-01-24 13:02:18,167] Trial 9 finished with value: 0.5 and parameters: {'dnn_hidden_units': (128, 128), 'dnn_dropout': 0.30000000000000004}. Best is trial 0 with value: 0.5.\n",
      "[I 2025-01-24 13:03:01,215] Trial 10 finished with value: 0.5 and parameters: {'dnn_hidden_units': (128, 128), 'dnn_dropout': 0.1}. Best is trial 0 with value: 0.5.\n",
      "[I 2025-01-24 13:04:01,028] Trial 11 finished with value: 0.5 and parameters: {'dnn_hidden_units': (256, 256), 'dnn_dropout': 0.1}. Best is trial 0 with value: 0.5.\n",
      "[I 2025-01-24 13:05:00,032] Trial 12 finished with value: 0.5 and parameters: {'dnn_hidden_units': (256, 256), 'dnn_dropout': 0.1}. Best is trial 0 with value: 0.5.\n",
      "[I 2025-01-24 13:06:01,497] Trial 13 finished with value: 0.5 and parameters: {'dnn_hidden_units': (256, 256), 'dnn_dropout': 0.2}. Best is trial 0 with value: 0.5.\n",
      "[I 2025-01-24 13:06:52,347] Trial 14 finished with value: 0.5 and parameters: {'dnn_hidden_units': (128, 128), 'dnn_dropout': 0.2}. Best is trial 0 with value: 0.5.\n",
      "[I 2025-01-24 13:07:50,764] Trial 15 finished with value: 0.5 and parameters: {'dnn_hidden_units': (256, 256), 'dnn_dropout': 0.1}. Best is trial 0 with value: 0.5.\n",
      "[I 2025-01-24 13:08:42,177] Trial 16 finished with value: 0.5 and parameters: {'dnn_hidden_units': (256, 256), 'dnn_dropout': 0.0}. Best is trial 0 with value: 0.5.\n",
      "[I 2025-01-24 13:09:31,819] Trial 17 finished with value: 0.5 and parameters: {'dnn_hidden_units': (128, 128), 'dnn_dropout': 0.2}. Best is trial 0 with value: 0.5.\n",
      "[I 2025-01-24 13:10:24,251] Trial 18 finished with value: 0.5 and parameters: {'dnn_hidden_units': (128, 128), 'dnn_dropout': 0.1}. Best is trial 0 with value: 0.5.\n",
      "[I 2025-01-24 13:11:16,364] Trial 19 finished with value: 0.5 and parameters: {'dnn_hidden_units': (256, 256), 'dnn_dropout': 0.0}. Best is trial 0 with value: 0.5.\n"
     ]
    },
    {
     "name": "stdout",
     "output_type": "stream",
     "text": [
      "Best hyperparameters: {'dnn_hidden_units': (128, 128), 'dnn_dropout': 0.1}\n"
     ]
    }
   ],
   "source": [
    "#create copies of Xtrain and Xtest for Wide & Deep preprocessing\n",
    "Xtrain_wandeepfm = Xtrain_dl.copy()\n",
    "Xtest_wandeepfm = Xtest_dl.copy()\n",
    "\n",
    "#identify dense and sparse features\n",
    "dense_features = ['price']  # Only 'price' is dense\n",
    "sparse_features = [col for col in Xtrain_wandeepfm.columns if col != 'price']  # All other columns are sparse\n",
    "\n",
    "#first step: label Encoding for sparse features and Min-Max Scaling for dense features\n",
    "for feat in sparse_features:\n",
    "    lbe = LabelEncoder()\n",
    "    Xtrain_wandeepfm[feat] = lbe.fit_transform(Xtrain_wandeepfm[feat])\n",
    "    Xtest_wandeepfm[feat] = lbe.transform(Xtest_wandeepfm[feat])\n",
    "\n",
    "mms = MinMaxScaler(feature_range=(0, 1))\n",
    "Xtrain_wandeepfm[dense_features] = mms.fit_transform(Xtrain_wandeepfm[dense_features])\n",
    "Xtest_wandeepfm[dense_features] = mms.transform(Xtest_wandeepfm[dense_features])\n",
    "\n",
    "#second step: define feature columns for sparse and dense fields\n",
    "fixlen_feature_columns_wandeepfm = [SparseFeat(feat, vocabulary_size=Xtrain_wandeepfm[feat].max() + 1, embedding_dim=4)\n",
    "                                   for feat in sparse_features] + [DenseFeat(feat, 1) for feat in dense_features]\n",
    "\n",
    "dnn_feature_columns_wandeepfm = fixlen_feature_columns_wandeepfm\n",
    "linear_feature_columns_wandeepfm = fixlen_feature_columns_wandeepfm\n",
    "\n",
    "feature_names_wandeepfm = get_feature_names(linear_feature_columns_wandeepfm + dnn_feature_columns_wandeepfm)\n",
    "\n",
    "#gnerate input data for the model\n",
    "train_model_input_wandeepfm = {name: Xtrain_wandeepfm[name] for name in feature_names_wandeepfm}\n",
    "test_model_input_wandeepfm = {name: Xtest_wandeepfm[name] for name in feature_names_wandeepfm}\n",
    "\n",
    "#third step: hyperparameter optimisation\n",
    "def objective(trial):\n",
    "    #define hyperparameters to optimise\n",
    "    dnn_hidden_units = trial.suggest_categorical(\"dnn_hidden_units\", [(128, 128), (256, 256)])\n",
    "    dnn_dropout = trial.suggest_float(\"dnn_dropout\", 0, 0.5, step=0.1)\n",
    "\n",
    "    #define the Wide & Deep model\n",
    "    model = WDL(linear_feature_columns_wandeepfm, dnn_feature_columns_wandeepfm, task='binary',\n",
    "                dnn_hidden_units=dnn_hidden_units, dnn_dropout=dnn_dropout)\n",
    "    model.compile(\"adam\", \"binary_crossentropy\", metrics=['AUC'])\n",
    "\n",
    "    #train the model and report validation AUC\n",
    "    for epoch in range(10):  # 10 epochs\n",
    "        history = model.fit(\n",
    "            train_model_input_wandeepfm, ytrain_dl.values,\n",
    "            batch_size=256, epochs=1, verbose=0, validation_split=0.2,\n",
    "        )\n",
    "        #get the validation AUC\n",
    "        val_auc = history.history['val_auc'][-1]\n",
    "\n",
    "        #report intermediate value for pruning\n",
    "        trial.report(val_auc, step=epoch)\n",
    "\n",
    "        #check if the trial should be pruned\n",
    "        if trial.should_prune():\n",
    "            raise optuna.exceptions.TrialPruned()\n",
    "\n",
    "    return val_auc  #directly return AUC since we're maximising it\n",
    "\n",
    "#create and run the Optuna study\n",
    "study = optuna.create_study(direction=\"maximize\")  #change direction to maximise AUC\n",
    "study.optimize(objective, n_trials=20)\n",
    "\n",
    "#print the best hyperparameters\n",
    "print(\"Best hyperparameters:\", study.best_params)"
   ]
  },
  {
   "cell_type": "markdown",
   "id": "73b1a631-9541-4fb9-8877-e7d97d043449",
   "metadata": {},
   "source": [
    "### 4.1.2. Testing set predictions:"
   ]
  },
  {
   "cell_type": "code",
   "execution_count": 31,
   "id": "333abef3-0e7b-4d81-bfb7-8fc8c70acf72",
   "metadata": {},
   "outputs": [
    {
     "name": "stdout",
     "output_type": "stream",
     "text": [
      "Epoch 1/10\n",
      "312/312 - 11s - loss: 0.0579 - auc: 0.0000e+00 - val_loss: 3.9728 - val_auc: 0.5000\n",
      "Epoch 2/10\n",
      "312/312 - 4s - loss: 5.7923e-05 - auc: 0.0000e+00 - val_loss: 4.5021 - val_auc: 0.5000\n",
      "Epoch 3/10\n",
      "312/312 - 4s - loss: 5.5958e-05 - auc: 0.0000e+00 - val_loss: 4.7538 - val_auc: 0.5000\n",
      "Epoch 4/10\n",
      "312/312 - 4s - loss: 5.5060e-05 - auc: 0.0000e+00 - val_loss: 4.8617 - val_auc: 0.5000\n",
      "Epoch 5/10\n",
      "312/312 - 4s - loss: 5.4222e-05 - auc: 0.0000e+00 - val_loss: 4.8824 - val_auc: 0.5000\n",
      "Epoch 6/10\n",
      "312/312 - 4s - loss: 5.3420e-05 - auc: 0.0000e+00 - val_loss: 4.8837 - val_auc: 0.5000\n",
      "Epoch 7/10\n",
      "312/312 - 4s - loss: 5.2724e-05 - auc: 0.0000e+00 - val_loss: 4.8837 - val_auc: 0.5000\n",
      "Epoch 8/10\n",
      "312/312 - 4s - loss: 5.1870e-05 - auc: 0.0000e+00 - val_loss: 4.8838 - val_auc: 0.5000\n",
      "Epoch 9/10\n",
      "312/312 - 4s - loss: 5.0374e-05 - auc: 0.0000e+00 - val_loss: 4.8838 - val_auc: 0.5000\n",
      "Epoch 10/10\n",
      "312/312 - 4s - loss: 4.9433e-05 - auc: 0.0000e+00 - val_loss: 4.8838 - val_auc: 0.5000\n",
      "Test AUC: 0.8057\n"
     ]
    }
   ],
   "source": [
    "#use the best hyperparameters to train the final model\n",
    "best_dnn_hidden_units = study.best_params['dnn_hidden_units']\n",
    "best_dnn_dropout = study.best_params['dnn_dropout']\n",
    "\n",
    "final_model_wandeepfm = WDL(linear_feature_columns_wandeepfm, dnn_feature_columns_wandeepfm, task='binary',\n",
    "                            dnn_hidden_units=best_dnn_hidden_units, dnn_dropout=best_dnn_dropout)\n",
    "final_model_wandeepfm.compile(\"adam\", \"binary_crossentropy\", metrics=['AUC'])\n",
    "\n",
    "final_model_wandeepfm.fit(train_model_input_wandeepfm, ytrain_dl.values,\n",
    "                          batch_size=256, epochs=10, verbose=2, validation_split=0.2)\n",
    "\n",
    "#predict and evaluate the final model\n",
    "pred_ans_wandeepfm = final_model_wandeepfm.predict(test_model_input_wandeepfm, batch_size=256)\n",
    "print(\"Test AUC:\", round(roc_auc_score(ytest_dl.values, pred_ans_wandeepfm), 4))"
   ]
  },
  {
   "cell_type": "markdown",
   "id": "7427c56f-33ba-42aa-9e3b-536ce5d14b32",
   "metadata": {},
   "source": [
    "The deep learning model Wide & Deep achieved an AUC score of 0.8057, significantly lower than the other machine learning models, suggesting that in this case, the deep learning model was not as effective in capturing the complexities of the data."
   ]
  },
  {
   "cell_type": "markdown",
   "id": "5e287b7d-e2a5-4d37-b45c-a4a78e5ac8ef",
   "metadata": {},
   "source": [
    "## 4.2. DeepFM:"
   ]
  },
  {
   "cell_type": "markdown",
   "id": "954791b4-d324-41cc-8e00-6c5b55823c3a",
   "metadata": {},
   "source": [
    "### 4.2.1. Hyperparameter tuning:"
   ]
  },
  {
   "cell_type": "code",
   "execution_count": 32,
   "id": "cb7cbd00-4ad4-45bf-8a58-1183eec2be95",
   "metadata": {},
   "outputs": [
    {
     "name": "stderr",
     "output_type": "stream",
     "text": [
      "[I 2025-01-24 13:12:04,084] A new study created in memory with name: no-name-b1059578-2cad-4fe0-998a-4b8e42ee225f\n",
      "[I 2025-01-24 13:13:00,064] Trial 0 finished with value: 0.5 and parameters: {'dnn_hidden_units': (128, 128), 'dnn_dropout': 0.5}. Best is trial 0 with value: 0.5.\n",
      "[I 2025-01-24 13:14:10,161] Trial 1 finished with value: 0.5 and parameters: {'dnn_hidden_units': (256, 256), 'dnn_dropout': 0.30000000000000004}. Best is trial 0 with value: 0.5.\n",
      "[I 2025-01-24 13:15:11,438] Trial 2 finished with value: 0.5 and parameters: {'dnn_hidden_units': (256, 256), 'dnn_dropout': 0.2}. Best is trial 0 with value: 0.5.\n",
      "[I 2025-01-24 13:15:58,394] Trial 3 finished with value: 0.5 and parameters: {'dnn_hidden_units': (128, 128), 'dnn_dropout': 0.30000000000000004}. Best is trial 0 with value: 0.5.\n",
      "[I 2025-01-24 13:16:47,381] Trial 4 finished with value: 0.5 and parameters: {'dnn_hidden_units': (128, 128), 'dnn_dropout': 0.4}. Best is trial 0 with value: 0.5.\n",
      "[I 2025-01-24 13:17:55,371] Trial 5 finished with value: 0.5 and parameters: {'dnn_hidden_units': (256, 256), 'dnn_dropout': 0.30000000000000004}. Best is trial 0 with value: 0.5.\n",
      "[I 2025-01-24 13:18:54,410] Trial 6 finished with value: 0.5 and parameters: {'dnn_hidden_units': (256, 256), 'dnn_dropout': 0.2}. Best is trial 0 with value: 0.5.\n",
      "[I 2025-01-24 13:19:41,714] Trial 7 finished with value: 0.5 and parameters: {'dnn_hidden_units': (128, 128), 'dnn_dropout': 0.30000000000000004}. Best is trial 0 with value: 0.5.\n",
      "[I 2025-01-24 13:20:33,979] Trial 8 finished with value: 0.5 and parameters: {'dnn_hidden_units': (128, 128), 'dnn_dropout': 0.4}. Best is trial 0 with value: 0.5.\n",
      "[I 2025-01-24 13:21:26,176] Trial 9 finished with value: 0.5 and parameters: {'dnn_hidden_units': (128, 128), 'dnn_dropout': 0.4}. Best is trial 0 with value: 0.5.\n",
      "[I 2025-01-24 13:22:09,342] Trial 10 finished with value: 0.5 and parameters: {'dnn_hidden_units': (128, 128), 'dnn_dropout': 0.0}. Best is trial 0 with value: 0.5.\n",
      "[I 2025-01-24 13:23:08,244] Trial 11 finished with value: 0.5 and parameters: {'dnn_hidden_units': (256, 256), 'dnn_dropout': 0.5}. Best is trial 0 with value: 0.5.\n",
      "[I 2025-01-24 13:24:06,124] Trial 12 finished with value: 0.5 and parameters: {'dnn_hidden_units': (256, 256), 'dnn_dropout': 0.5}. Best is trial 0 with value: 0.5.\n",
      "[I 2025-01-24 13:25:01,957] Trial 13 finished with value: 0.5 and parameters: {'dnn_hidden_units': (256, 256), 'dnn_dropout': 0.1}. Best is trial 0 with value: 0.5.\n",
      "[I 2025-01-24 13:25:46,517] Trial 14 finished with value: 0.5 and parameters: {'dnn_hidden_units': (128, 128), 'dnn_dropout': 0.5}. Best is trial 0 with value: 0.5.\n",
      "[I 2025-01-24 13:26:39,212] Trial 15 finished with value: 0.5 and parameters: {'dnn_hidden_units': (256, 256), 'dnn_dropout': 0.1}. Best is trial 0 with value: 0.5.\n",
      "[I 2025-01-24 13:27:37,535] Trial 16 finished with value: 0.5 and parameters: {'dnn_hidden_units': (256, 256), 'dnn_dropout': 0.4}. Best is trial 0 with value: 0.5.\n",
      "[I 2025-01-24 13:28:27,404] Trial 17 finished with value: 0.5 and parameters: {'dnn_hidden_units': (128, 128), 'dnn_dropout': 0.1}. Best is trial 0 with value: 0.5.\n",
      "[I 2025-01-24 13:29:20,090] Trial 18 finished with value: 0.5 and parameters: {'dnn_hidden_units': (256, 256), 'dnn_dropout': 0.2}. Best is trial 0 with value: 0.5.\n",
      "[I 2025-01-24 13:30:08,127] Trial 19 finished with value: 0.5 and parameters: {'dnn_hidden_units': (128, 128), 'dnn_dropout': 0.5}. Best is trial 0 with value: 0.5.\n"
     ]
    },
    {
     "name": "stdout",
     "output_type": "stream",
     "text": [
      "Best hyperparameters: {'dnn_hidden_units': (128, 128), 'dnn_dropout': 0.5}\n"
     ]
    }
   ],
   "source": [
    "#create copies of Xtrain and Xtest for DeepFM preprocessing\n",
    "Xtrain_deepfm = Xtrain_dl.copy()\n",
    "Xtest_deepfm = Xtest_dl.copy()\n",
    "\n",
    "#identify dense and sparse features\n",
    "dense_features = ['price']  # Only 'price' is dense\n",
    "sparse_features = [col for col in Xtrain_deepfm.columns if col != 'price']  # All other columns are sparse\n",
    "\n",
    "#first step: label Encoding for sparse features and Min-Max Scaling for dense features\n",
    "for feat in sparse_features:\n",
    "    lbe = LabelEncoder()\n",
    "    Xtrain_deepfm[feat] = lbe.fit_transform(Xtrain_deepfm[feat])\n",
    "    Xtest_deepfm[feat] = lbe.transform(Xtest_deepfm[feat])\n",
    "mms = MinMaxScaler(feature_range=(0, 1))\n",
    "Xtrain_deepfm[dense_features] = mms.fit_transform(Xtrain_deepfm[dense_features])\n",
    "Xtest_deepfm[dense_features] = mms.transform(Xtest_deepfm[dense_features])\n",
    "\n",
    "#second step: define feature columns for sparse and dense fields\n",
    "fixlen_feature_columns = [SparseFeat(feat, vocabulary_size=Xtrain_deepfm[feat].max() + 1, embedding_dim=4)\n",
    "                          for feat in sparse_features] + [DenseFeat(feat, 1) for feat in dense_features]\n",
    "\n",
    "dnn_feature_columns = fixlen_feature_columns\n",
    "linear_feature_columns = fixlen_feature_columns\n",
    "\n",
    "feature_names = get_feature_names(linear_feature_columns + dnn_feature_columns)\n",
    "\n",
    "#generate input data for the model\n",
    "train_model_input = {name: Xtrain_deepfm[name] for name in feature_names}\n",
    "test_model_input = {name: Xtest_deepfm[name] for name in feature_names}\n",
    "\n",
    "#third step: hyperparameter optimisation\n",
    "def objective(trial):\n",
    "    # Define hyperparameters to optimize\n",
    "    dnn_hidden_units = trial.suggest_categorical(\"dnn_hidden_units\", [(128, 128), (256, 256)])\n",
    "    dnn_dropout = trial.suggest_float(\"dnn_dropout\", 0, 0.5, step=0.1)\n",
    "\n",
    "    # Define the model\n",
    "    model = DeepFM(linear_feature_columns, dnn_feature_columns, task='binary',\n",
    "                   dnn_hidden_units=dnn_hidden_units, dnn_dropout=dnn_dropout)\n",
    "    model.compile(\"adam\", \"binary_crossentropy\", metrics=['AUC'])\n",
    "\n",
    "    # Train the model and report validation AUC\n",
    "    for epoch in range(10):  # 10 epochs\n",
    "        history = model.fit(\n",
    "            train_model_input, ytrain_dl.values,\n",
    "            batch_size=256, epochs=1, verbose=0, validation_split=0.2,\n",
    "        )\n",
    "        # Get the validation AUC\n",
    "        val_auc = history.history['val_auc'][-1]\n",
    "\n",
    "        # Report intermediate value for pruning\n",
    "        trial.report(val_auc, step=epoch)\n",
    "\n",
    "        # Check if the trial should be pruned\n",
    "        if trial.should_prune():\n",
    "            raise optuna.exceptions.TrialPruned()\n",
    "\n",
    "    return val_auc  # Directly return AUC since we're maximizing it\n",
    "\n",
    "#create and run the Optuna study\n",
    "study = optuna.create_study(direction=\"maximize\")  # Change direction to maximize\n",
    "study.optimize(objective, n_trials=20)\n",
    "\n",
    "#print the best hyperparameters\n",
    "print(\"Best hyperparameters:\", study.best_params)"
   ]
  },
  {
   "cell_type": "markdown",
   "id": "ace45dc8-08f5-40eb-90e0-541755ded349",
   "metadata": {},
   "source": [
    "### 4.2.2. Testing set predictions:"
   ]
  },
  {
   "cell_type": "code",
   "execution_count": 33,
   "id": "9848887f-db76-4feb-b519-c417a9ac3161",
   "metadata": {},
   "outputs": [
    {
     "name": "stdout",
     "output_type": "stream",
     "text": [
      "Epoch 1/10\n",
      "312/312 - 12s - loss: 0.0259 - auc: 0.0000e+00 - val_loss: 4.1299 - val_auc: 0.5000\n",
      "Epoch 2/10\n",
      "312/312 - 3s - loss: 2.2048e-05 - auc: 0.0000e+00 - val_loss: 4.8835 - val_auc: 0.5000\n",
      "Epoch 3/10\n",
      "312/312 - 4s - loss: 1.8268e-05 - auc: 0.0000e+00 - val_loss: 4.8837 - val_auc: 0.5000\n",
      "Epoch 4/10\n",
      "312/312 - 3s - loss: 1.6820e-05 - auc: 0.0000e+00 - val_loss: 4.8837 - val_auc: 0.5000\n",
      "Epoch 5/10\n",
      "312/312 - 3s - loss: 1.5337e-05 - auc: 0.0000e+00 - val_loss: 4.8837 - val_auc: 0.5000\n",
      "Epoch 6/10\n",
      "312/312 - 3s - loss: 1.4516e-05 - auc: 0.0000e+00 - val_loss: 4.8837 - val_auc: 0.5000\n",
      "Epoch 7/10\n",
      "312/312 - 3s - loss: 1.3733e-05 - auc: 0.0000e+00 - val_loss: 4.8837 - val_auc: 0.5000\n",
      "Epoch 8/10\n",
      "312/312 - 3s - loss: 1.2898e-05 - auc: 0.0000e+00 - val_loss: 4.8837 - val_auc: 0.5000\n",
      "Epoch 9/10\n",
      "312/312 - 3s - loss: 1.2171e-05 - auc: 0.0000e+00 - val_loss: 4.8837 - val_auc: 0.5000\n",
      "Epoch 10/10\n",
      "312/312 - 3s - loss: 1.1435e-05 - auc: 0.0000e+00 - val_loss: 4.8837 - val_auc: 0.5000\n",
      "Test AUC: 0.7682\n"
     ]
    }
   ],
   "source": [
    "#use the best hyperparameters to train the final model\n",
    "best_dnn_hidden_units = study.best_params['dnn_hidden_units']\n",
    "best_dnn_dropout = study.best_params['dnn_dropout']\n",
    "\n",
    "final_model_deepfm = DeepFM(linear_feature_columns, dnn_feature_columns, task='binary',\n",
    "                     dnn_hidden_units=best_dnn_hidden_units, dnn_dropout=best_dnn_dropout)\n",
    "final_model_deepfm.compile(\"adam\", \"binary_crossentropy\", metrics=['AUC'])\n",
    "\n",
    "final_model_deepfm.fit(train_model_input, ytrain_dl.values,\n",
    "                batch_size=256, epochs=10, verbose=2, validation_split=0.2)\n",
    "\n",
    "# Predict and evaluate the final model\n",
    "pred_ans_deepfm = final_model_deepfm.predict(test_model_input, batch_size=256)\n",
    "print(\"Test AUC:\", round(roc_auc_score(ytest_dl.values, pred_ans_deepfm), 4))"
   ]
  },
  {
   "cell_type": "markdown",
   "id": "42e7111c-bd2d-4e25-a2b7-12424bdea12e",
   "metadata": {},
   "source": [
    "Despite its more complex architecture, the DeepFM model achieved a Test AUC of 0.7682, which is even lower than the Wide & Deep model's AUC of 0.8057. This underperformance suggests that, for this particular dataset, the more intricate structure of DeepFM may not have been advantageous."
   ]
  },
  {
   "cell_type": "markdown",
   "id": "d113b384-b90b-43f7-86ff-5b837ef879c8",
   "metadata": {},
   "source": [
    "## 4.3. xDeepFM:"
   ]
  },
  {
   "cell_type": "markdown",
   "id": "6afa1263-2ad3-432f-a5e0-f0c828079902",
   "metadata": {},
   "source": [
    "### 4.3.1. Hyperparameter tuning:"
   ]
  },
  {
   "cell_type": "code",
   "execution_count": 34,
   "id": "22c7add0-e762-47b4-91e8-c01ebd565580",
   "metadata": {},
   "outputs": [
    {
     "name": "stderr",
     "output_type": "stream",
     "text": [
      "[I 2025-01-24 13:30:50,698] A new study created in memory with name: no-name-a71b0941-a014-48f3-ae8c-c1b3f30545f9\n",
      "[I 2025-01-24 13:35:09,940] Trial 0 finished with value: 0.5 and parameters: {'dnn_hidden_units': (256, 256), 'dnn_dropout': 0.2}. Best is trial 0 with value: 0.5.\n",
      "[I 2025-01-24 13:39:37,569] Trial 1 finished with value: 0.5 and parameters: {'dnn_hidden_units': (128, 128), 'dnn_dropout': 0.0}. Best is trial 0 with value: 0.5.\n",
      "[I 2025-01-24 13:44:25,425] Trial 2 finished with value: 0.5 and parameters: {'dnn_hidden_units': (256, 256), 'dnn_dropout': 0.0}. Best is trial 0 with value: 0.5.\n",
      "[I 2025-01-24 13:48:45,151] Trial 3 finished with value: 0.5 and parameters: {'dnn_hidden_units': (256, 256), 'dnn_dropout': 0.4}. Best is trial 0 with value: 0.5.\n",
      "[I 2025-01-24 13:53:10,584] Trial 4 finished with value: 0.5 and parameters: {'dnn_hidden_units': (256, 256), 'dnn_dropout': 0.0}. Best is trial 0 with value: 0.5.\n",
      "[I 2025-01-24 13:57:39,401] Trial 5 finished with value: 0.5 and parameters: {'dnn_hidden_units': (128, 128), 'dnn_dropout': 0.5}. Best is trial 0 with value: 0.5.\n",
      "[I 2025-01-24 14:02:04,988] Trial 6 finished with value: 0.5 and parameters: {'dnn_hidden_units': (256, 256), 'dnn_dropout': 0.5}. Best is trial 0 with value: 0.5.\n",
      "[I 2025-01-24 14:06:57,216] Trial 7 finished with value: 0.5 and parameters: {'dnn_hidden_units': (128, 128), 'dnn_dropout': 0.2}. Best is trial 0 with value: 0.5.\n",
      "[I 2025-01-24 14:11:31,846] Trial 8 finished with value: 0.5 and parameters: {'dnn_hidden_units': (256, 256), 'dnn_dropout': 0.2}. Best is trial 0 with value: 0.5.\n",
      "[I 2025-01-24 14:15:49,497] Trial 9 finished with value: 0.5 and parameters: {'dnn_hidden_units': (256, 256), 'dnn_dropout': 0.1}. Best is trial 0 with value: 0.5.\n",
      "[I 2025-01-24 14:20:09,813] Trial 10 finished with value: 0.5 and parameters: {'dnn_hidden_units': (128, 128), 'dnn_dropout': 0.30000000000000004}. Best is trial 0 with value: 0.5.\n",
      "[I 2025-01-24 14:24:19,783] Trial 11 finished with value: 0.5 and parameters: {'dnn_hidden_units': (128, 128), 'dnn_dropout': 0.1}. Best is trial 0 with value: 0.5.\n",
      "[I 2025-01-24 14:28:27,531] Trial 12 finished with value: 0.5 and parameters: {'dnn_hidden_units': (128, 128), 'dnn_dropout': 0.30000000000000004}. Best is trial 0 with value: 0.5.\n",
      "[I 2025-01-24 14:32:52,679] Trial 13 finished with value: 0.5 and parameters: {'dnn_hidden_units': (128, 128), 'dnn_dropout': 0.1}. Best is trial 0 with value: 0.5.\n",
      "[I 2025-01-24 14:37:26,892] Trial 14 finished with value: 0.5 and parameters: {'dnn_hidden_units': (256, 256), 'dnn_dropout': 0.0}. Best is trial 0 with value: 0.5.\n",
      "[I 2025-01-24 14:42:30,137] Trial 15 finished with value: 0.5 and parameters: {'dnn_hidden_units': (128, 128), 'dnn_dropout': 0.2}. Best is trial 0 with value: 0.5.\n",
      "[I 2025-01-24 14:47:08,207] Trial 16 finished with value: 0.5 and parameters: {'dnn_hidden_units': (256, 256), 'dnn_dropout': 0.4}. Best is trial 0 with value: 0.5.\n",
      "[I 2025-01-24 14:51:51,884] Trial 17 finished with value: 0.5 and parameters: {'dnn_hidden_units': (128, 128), 'dnn_dropout': 0.1}. Best is trial 0 with value: 0.5.\n",
      "[I 2025-01-24 14:56:39,145] Trial 18 finished with value: 0.5 and parameters: {'dnn_hidden_units': (256, 256), 'dnn_dropout': 0.30000000000000004}. Best is trial 0 with value: 0.5.\n",
      "[I 2025-01-24 15:01:22,845] Trial 19 finished with value: 0.5 and parameters: {'dnn_hidden_units': (128, 128), 'dnn_dropout': 0.0}. Best is trial 0 with value: 0.5.\n"
     ]
    },
    {
     "name": "stdout",
     "output_type": "stream",
     "text": [
      "Best hyperparameters: {'dnn_hidden_units': (256, 256), 'dnn_dropout': 0.2}\n"
     ]
    }
   ],
   "source": [
    "#create copies of Xtrain and Xtest for xDeepFM preprocessing\n",
    "Xtrain_xdeepfm = Xtrain_dl.copy()\n",
    "Xtest_xdeepfm = Xtest_dl.copy()\n",
    "\n",
    "#identify dense and sparse features\n",
    "dense_features = ['price']  # Only 'price' is dense\n",
    "sparse_features = [col for col in Xtrain_xdeepfm.columns if col != 'price']  # All other columns are sparse\n",
    "\n",
    "#first step: label Encoding for sparse features and Min-Max Scaling for dense features\n",
    "for feat in sparse_features:\n",
    "    lbe = LabelEncoder()\n",
    "    Xtrain_xdeepfm[feat] = lbe.fit_transform(Xtrain_xdeepfm[feat])\n",
    "    Xtest_xdeepfm[feat] = lbe.transform(Xtest_xdeepfm[feat])\n",
    "mms = MinMaxScaler(feature_range=(0, 1))\n",
    "Xtrain_xdeepfm[dense_features] = mms.fit_transform(Xtrain_xdeepfm[dense_features])\n",
    "Xtest_xdeepfm[dense_features] = mms.transform(Xtest_xdeepfm[dense_features])\n",
    "\n",
    "#second step: define feature columns for sparse and dense fields\n",
    "fixlen_feature_columns_xdeepfm = [SparseFeat(feat, vocabulary_size=Xtrain_xdeepfm[feat].max() + 1, embedding_dim=4)\n",
    "                                   for feat in sparse_features] + [DenseFeat(feat, 1) for feat in dense_features]\n",
    "\n",
    "dnn_feature_columns_xdeepfm = fixlen_feature_columns_xdeepfm\n",
    "linear_feature_columns_xdeepfm = fixlen_feature_columns_xdeepfm\n",
    "\n",
    "feature_names_xdeepfm = get_feature_names(linear_feature_columns_xdeepfm + dnn_feature_columns_xdeepfm)\n",
    "\n",
    "#gnerate input data for the model\n",
    "train_model_input_xdeepfm = {name: Xtrain_xdeepfm[name] for name in feature_names_xdeepfm}\n",
    "test_model_input_xdeepfm = {name: Xtest_xdeepfm[name] for name in feature_names_xdeepfm}\n",
    "\n",
    "#third step: hyperparameter optimisation\n",
    "def objective(trial):\n",
    "    #define hyperparameters to optimise\n",
    "    dnn_hidden_units = trial.suggest_categorical(\"dnn_hidden_units\", [(128, 128), (256, 256)])\n",
    "    dnn_dropout = trial.suggest_float(\"dnn_dropout\", 0, 0.5, step=0.1)\n",
    "\n",
    "    #define the model\n",
    "    model = xDeepFM(linear_feature_columns_xdeepfm, dnn_feature_columns_xdeepfm, task='binary',\n",
    "                   dnn_hidden_units=dnn_hidden_units, dnn_dropout=dnn_dropout)\n",
    "    model.compile(\"adam\", \"binary_crossentropy\", metrics=['AUC'])\n",
    "\n",
    "    #train the model and report validation AUC\n",
    "    for epoch in range(10):  #10 epochs\n",
    "        history = model.fit(\n",
    "            train_model_input_xdeepfm, ytrain_dl.values,\n",
    "            batch_size=256, epochs=1, verbose=0, validation_split=0.2,\n",
    "        )\n",
    "        #get the validation AUC\n",
    "        val_auc = history.history['val_auc'][-1]\n",
    "\n",
    "        #report intermediate value for pruning\n",
    "        trial.report(val_auc, step=epoch)\n",
    "\n",
    "        #check if the trial should be pruned\n",
    "        if trial.should_prune():\n",
    "            raise optuna.exceptions.TrialPruned()\n",
    "\n",
    "    return val_auc  #directly return AUC since we're maximizing it\n",
    "\n",
    "#create and run the Optuna study\n",
    "study = optuna.create_study(direction=\"maximize\")  # Change direction to maximize\n",
    "study.optimize(objective, n_trials=20)\n",
    "\n",
    "#print the best hyperparameters\n",
    "print(\"Best hyperparameters:\", study.best_params)"
   ]
  },
  {
   "cell_type": "markdown",
   "id": "337e3530-ce73-4d28-86f8-86bb864f199a",
   "metadata": {},
   "source": [
    "### 4.3.2. Testing set prediction:"
   ]
  },
  {
   "cell_type": "code",
   "execution_count": 35,
   "id": "d59914ac-6c73-4975-825e-5d8227503d1a",
   "metadata": {},
   "outputs": [
    {
     "name": "stdout",
     "output_type": "stream",
     "text": [
      "Epoch 1/10\n",
      "312/312 - 34s - loss: 0.0199 - auc: 0.0000e+00 - val_loss: 4.2164 - val_auc: 0.5000\n",
      "Epoch 2/10\n",
      "312/312 - 26s - loss: 8.6156e-06 - auc: 0.0000e+00 - val_loss: 4.6897 - val_auc: 0.5000\n",
      "Epoch 3/10\n",
      "312/312 - 26s - loss: 7.4754e-06 - auc: 0.0000e+00 - val_loss: 4.8375 - val_auc: 0.5000\n",
      "Epoch 4/10\n",
      "312/312 - 25s - loss: 6.7306e-06 - auc: 0.0000e+00 - val_loss: 4.8773 - val_auc: 0.5000\n",
      "Epoch 5/10\n",
      "312/312 - 26s - loss: 6.0430e-06 - auc: 0.0000e+00 - val_loss: 4.8826 - val_auc: 0.5000\n",
      "Epoch 6/10\n",
      "312/312 - 26s - loss: 5.4346e-06 - auc: 0.0000e+00 - val_loss: 4.8835 - val_auc: 0.5000\n",
      "Epoch 7/10\n",
      "312/312 - 26s - loss: 4.8883e-06 - auc: 0.0000e+00 - val_loss: 4.8836 - val_auc: 0.5000\n",
      "Epoch 8/10\n",
      "312/312 - 26s - loss: 4.4096e-06 - auc: 0.0000e+00 - val_loss: 4.8836 - val_auc: 0.5000\n",
      "Epoch 9/10\n",
      "312/312 - 25s - loss: 3.9903e-06 - auc: 0.0000e+00 - val_loss: 4.8837 - val_auc: 0.5000\n",
      "Epoch 10/10\n",
      "312/312 - 25s - loss: 3.6231e-06 - auc: 0.0000e+00 - val_loss: 4.8837 - val_auc: 0.5000\n",
      "Test AUC: 0.7609\n"
     ]
    }
   ],
   "source": [
    "#use the best hyperparameters to train the final model\n",
    "best_dnn_hidden_units = study.best_params['dnn_hidden_units']\n",
    "best_dnn_dropout = study.best_params['dnn_dropout']\n",
    "\n",
    "final_model_xdeepfm = xDeepFM(linear_feature_columns_xdeepfm, dnn_feature_columns_xdeepfm, task='binary',\n",
    "                             dnn_hidden_units=best_dnn_hidden_units, dnn_dropout=best_dnn_dropout)\n",
    "final_model_xdeepfm.compile(\"adam\", \"binary_crossentropy\", metrics=['AUC'])\n",
    "\n",
    "final_model_xdeepfm.fit(train_model_input_xdeepfm, ytrain_dl.values,\n",
    "                        batch_size=256, epochs=10, verbose=2, validation_split=0.2)\n",
    "\n",
    "#predict and evaluate the final model\n",
    "pred_ans_xdeepfm = final_model_xdeepfm.predict(test_model_input_xdeepfm, batch_size=256)\n",
    "print(\"Test AUC:\", round(roc_auc_score(ytest_dl.values, pred_ans_xdeepfm), 4))"
   ]
  },
  {
   "cell_type": "markdown",
   "id": "448c65c4-d763-4ed8-9dfc-9186c6821506",
   "metadata": {},
   "source": [
    "Despite its more complex architecture, XDeepFM achieved a lower AUC (0.7609) than both DeepFM (0.7682) and Wide & Deep (0.8057). This suggests that the additional complexity did not improve performance, possibly due to the dataset not benefiting from such intricate feature interactions. the \"simple\" model like Wide & Deep outperformed the other models this case."
   ]
  },
  {
   "cell_type": "markdown",
   "id": "5280179c-64fe-47e2-90b9-758ea5097682",
   "metadata": {},
   "source": [
    "## 4.4. Machine Learning Models ROC Curve Visualisation"
   ]
  },
  {
   "cell_type": "code",
   "execution_count": 59,
   "id": "62df32a6-bee9-4f56-a5b4-960cc3bb9341",
   "metadata": {},
   "outputs": [
    {
     "data": {
      "image/png": "[encoded data removed]",
      "text/plain": [
       "<Figure size 1000x600 with 1 Axes>"
      ]
     },
     "metadata": {},
     "output_type": "display_data"
    }
   ],
   "source": [
    "#calculate FPR, TPR, and AUC for Wide & Deep\n",
    "fpr_wide_deep, tpr_wide_deep, _ = roc_curve(ytest_dl.values, pred_ans_wandeepfm)\n",
    "auc_wide_deep = roc_auc_score(ytest_dl.values, pred_ans_wandeepfm)\n",
    "\n",
    "#calculate FPR, TPR, and AUC for DeepFM\n",
    "fpr_deepfm, tpr_deepfm, _ = roc_curve(ytest_dl.values, pred_ans_deepfm)\n",
    "auc_deepfm = roc_auc_score(ytest_dl.values, pred_ans_deepfm)\n",
    "\n",
    "#calculate FPR, TPR, and AUC for xDeepFM\n",
    "fpr_xdeepfm, tpr_xdeepfm, _ = roc_curve(ytest_dl.values, pred_ans_xdeepfm)\n",
    "auc_xdeepfm = roc_auc_score(ytest_dl.values, pred_ans_xdeepfm)\n",
    "\n",
    "#plot ROC curves for Wide & Deep, DeepFM, and xDeepFM\n",
    "plt.figure(figsize=(10, 6))\n",
    "plt.plot(fpr_wide_deep, tpr_wide_deep, label=f'Wide & Deep (AUC = {auc_wide_deep:.4f})', linewidth=2)\n",
    "plt.plot(fpr_deepfm, tpr_deepfm, label=f'DeepFM (AUC = {auc_deepfm:.4f})', linewidth=2)\n",
    "plt.plot(fpr_xdeepfm, tpr_xdeepfm, label=f'xDeepFM (AUC = {auc_xdeepfm:.4f})', linewidth=2)\n",
    "\n",
    "#plot the baseline\n",
    "plt.plot([0, 1], [0, 1], 'k--', linewidth=1.5, label='Baseline')\n",
    "\n",
    "#add titles, labels, and legend\n",
    "plt.title('ROC Curves for Different Deep Learning Models', fontsize=14)\n",
    "plt.xlabel('False Positive Rate (FPR)', fontsize=12)\n",
    "plt.ylabel('True Positive Rate (TPR)', fontsize=12)\n",
    "plt.legend(fontsize=10, loc='lower right')\n",
    "plt.grid(alpha=0.6)\n",
    "plt.tight_layout()"
   ]
  },
  {
   "cell_type": "markdown",
   "id": "c8fc84f5-bc5d-4023-af8b-acf7e1c2365c",
   "metadata": {},
   "source": [
    "# 5. All Models ROC Curve Visualisation"
   ]
  },
  {
   "cell_type": "code",
   "execution_count": 60,
   "id": "45fccd63-6bcb-46f1-8902-d14664a2ea7a",
   "metadata": {},
   "outputs": [
    {
     "data": {
      "image/png": "[encoded data removed]",
      "text/plain": [
       "<Figure size 1000x600 with 1 Axes>"
      ]
     },
     "metadata": {},
     "output_type": "display_data"
    }
   ],
   "source": [
    "#plot ROC curves for Wide & Deep, DeepFM, and xDeepFM\n",
    "plt.figure(figsize=(10, 6))\n",
    "plt.plot(fpr_wide_deep, tpr_wide_deep, label=f'Wide & Deep (AUC = {auc_wide_deep:.4f})', linewidth=2)\n",
    "plt.plot(fpr_deepfm, tpr_deepfm, label=f'DeepFM (AUC = {auc_deepfm:.4f})', linewidth=2)\n",
    "plt.plot(fpr_xdeepfm, tpr_xdeepfm, label=f'xDeepFM (AUC = {auc_xdeepfm:.4f})', linewidth=2)\n",
    "\n",
    "#plot ROC curves for Decision Tree, CatBoost, and  MLP\n",
    "plt.plot(fpr_dt, tpr_dt, label=f'Decision Tree (AUC = {auc_dt:.4f})', linewidth=2)\n",
    "plt.plot(fpr_cb, tpr_cb, label=f'CatBoost (AUC = {auc_cb:.4f})', linewidth=2)\n",
    "plt.plot(fpr_model, tpr_model, label=f'MLP (AUC = {auc_model:.4f})', linewidth=2)\n",
    "\n",
    "#plot the baseline\n",
    "plt.plot([0, 1], [0, 1], 'k--', linewidth=1.5, label='Baseline')\n",
    "\n",
    "#add titles, labels, and legend\n",
    "plt.title('ROC Curves for Different Models', fontsize=14)\n",
    "plt.xlabel('False Positive Rate (FPR)', fontsize=12)\n",
    "plt.ylabel('True Positive Rate (TPR)', fontsize=12)\n",
    "plt.legend(fontsize=10, loc='lower right')\n",
    "plt.grid(alpha=0.6)\n",
    "plt.tight_layout()"
   ]
  },
  {
   "cell_type": "markdown",
   "id": "3be26fe1-3425-4a47-8cb0-57d65784ce67",
   "metadata": {},
   "source": [
    "# 6. SHAP values:"
   ]
  },
  {
   "cell_type": "markdown",
   "id": "e5cceb4b-99eb-44c1-90bc-48cee0ace754",
   "metadata": {},
   "source": [
    "## 6.1. Top features for Keras MLP:"
   ]
  },
  {
   "cell_type": "code",
   "execution_count": 254,
   "id": "186a5ba8-e1fc-420c-9153-97c6cb3b88d0",
   "metadata": {},
   "outputs": [
    {
     "name": "stderr",
     "output_type": "stream",
     "text": [
      "WARNING:absl:Compiled the loaded model, but the compiled metrics have yet to be built. `model.compile_metrics` will be empty until you train or evaluate the model.\n"
     ]
    },
    {
     "name": "stdout",
     "output_type": "stream",
     "text": [
      "Top 10 Features by Permutation Importance:\n",
      "                            Feature  Importance\n",
      "0              adgroup_Rare Adgroup    0.178864\n",
      "1                             price    0.029051\n",
      "2  advertiser_Occasional Advertiser    0.009070\n",
      "3    advertiser_Moderate Advertiser    0.009016\n",
      "4          adgroup_Moderate Adgroup    0.008282\n",
      "5            campaign_Rare Campaign    0.007113\n",
      "6        category_Frequent Category    0.006758\n",
      "7                 brand_Heavy Brand    0.005968\n",
      "8        category_Moderate Category    0.004990\n",
      "9            brand_Occasional Brand    0.004457\n"
     ]
    }
   ],
   "source": [
    "#load the best model and top features\n",
    "best_model = load_model('best_model.h5')  #load the Keras model\n",
    "best_top_features = joblib.load('best_top_features_keras_rfe.pkl')  #load the selected features\n",
    "\n",
    "#preprocess Xtest to select the same features used for training\n",
    "Xtest_selected = Xtest[best_top_features]  #ensure Xtest contains only the top features\n",
    "\n",
    "#define silent_predict function\n",
    "def silent_predict(model, X):\n",
    "    \"\"\"\n",
    "    Predicts probabilities using the model without verbose output.\n",
    "    \"\"\"\n",
    "    tf.get_logger().setLevel('ERROR')  #suppress TensorFlow logs\n",
    "    return model.predict(X, verbose=0).flatten()  #use verbose=0 in predict()\n",
    "\n",
    "#define compute_permutation_importance function\n",
    "def compute_permutation_importance(model, X, y, random_state=7):\n",
    "    \"\"\"\n",
    "    Computes permutation importance for features in X.\n",
    "    \"\"\"\n",
    "    np.random.seed(random_state)  #set random seed\n",
    "    importances = []\n",
    "    \n",
    "    #get baseline predictions and AUC score\n",
    "    baseline_preds = silent_predict(model, X)\n",
    "    baseline_auc = roc_auc_score(y, baseline_preds)\n",
    "    \n",
    "    for col in X.columns:\n",
    "        #create a copy of X and permute one column\n",
    "        X_permuted = X.copy()\n",
    "        X_permuted[col] = np.random.permutation(X_permuted[col])  #shuffle the column\n",
    "        \n",
    "        #predict on permuted data and compute AUC score\n",
    "        permuted_preds = silent_predict(model, X_permuted)\n",
    "        permuted_auc = roc_auc_score(y, permuted_preds)\n",
    "        \n",
    "        #importance is the drop in AUC from the baseline to the permuted version\n",
    "        importance = baseline_auc - permuted_auc\n",
    "        importances.append((col, importance))\n",
    "    \n",
    "    #sort features by importance (highest to lowest)\n",
    "    importances.sort(key=lambda x: x[1], reverse=True)\n",
    "    return importances, baseline_auc\n",
    "\n",
    "#compute permutation importance\n",
    "importances, baseline_auc = compute_permutation_importance(best_model, Xtest_selected, ytest)\n",
    "\n",
    "#display top features by importance\n",
    "top_features_keras = pd.DataFrame(importances, columns=['Feature', 'Importance']).head(10)\n",
    "\n",
    "print(\"Top 10 Features by Permutation Importance:\")\n",
    "print(top_features_keras)"
   ]
  },
  {
   "cell_type": "markdown",
   "id": "afbecd95-e600-447a-9b5e-c19aadadc93f",
   "metadata": {},
   "source": [
    "## 6.2. SHAP values:"
   ]
  },
  {
   "cell_type": "code",
   "execution_count": 192,
   "id": "6b7af16d-8685-4dc6-afd3-e6ba84c1353d",
   "metadata": {},
   "outputs": [
    {
     "name": "stderr",
     "output_type": "stream",
     "text": [
      "WARNING:absl:Compiled the loaded model, but the compiled metrics have yet to be built. `model.compile_metrics` will be empty until you train or evaluate the model.\n"
     ]
    },
    {
     "name": "stdout",
     "output_type": "stream",
     "text": [
      "\u001b[1m423/423\u001b[0m \u001b[32m━━━━━━━━━━━━━━━━━━━━\u001b[0m\u001b[37m\u001b[0m \u001b[1m0s\u001b[0m 959us/step\n",
      "AUC Score on Xtest: 0.967\n"
     ]
    }
   ],
   "source": [
    "#preprocess Xtest to select the same features used for training\n",
    "Xtest_selected = Xtest[best_top_features]  #ensure Xtest contains only the top features\n",
    "\n",
    "#make predictions on Xtest\n",
    "y_pred = best_model.predict(Xtest_selected)  #predict probabilities for the positive class\n",
    "\n",
    "#calculate the AUC score\n",
    "auc_score_test = roc_auc_score(ytest, y_pred)  #compare with true labels (ytest)\n",
    "print(f\"AUC Score on Xtest: {auc_score_test:.3f}\")"
   ]
  },
  {
   "cell_type": "code",
   "execution_count": 193,
   "id": "2c087d43-c48d-4f4c-b672-30327411c263",
   "metadata": {},
   "outputs": [
    {
     "name": "stdout",
     "output_type": "stream",
     "text": [
      "SHAP Values shape: (99568, 20, 1)\n",
      "Time taken to compute SHAP values: 1768.13 seconds\n"
     ]
    }
   ],
   "source": [
    "#preprocess Xtrain to select the same features used for training\n",
    "Xtrain_selected = Xtrain[best_top_features]  # Ensure Xtrain contains only the top features\n",
    "\n",
    "#convert Xtrain_selected to a NumPy array for SHAP compatibility\n",
    "Xtrain_np_nn = np.array(Xtrain_selected)\n",
    "\n",
    "#initialise SHAP GradientExplainer\n",
    "explainer_nn_shap = shap.GradientExplainer(best_model, Xtrain_np_nn) \n",
    "\n",
    "#compute SHAP values\n",
    "start_time = time.time()\n",
    "shap_values_nn = explainer_nn_shap.shap_values(Xtrain_np_nn)  \n",
    "end_time = time.time()\n",
    "\n",
    "#print the shape of SHAP values and computation time\n",
    "elapsed_time = end_time - start_time\n",
    "print(f\"SHAP Values shape: {np.array(shap_values_nn).shape}\")\n",
    "print(f\"Time taken to compute SHAP values: {elapsed_time:.2f} seconds\")"
   ]
  },
  {
   "cell_type": "code",
   "execution_count": 196,
   "id": "8c6edb86-47ce-445c-b058-1be86cb232c2",
   "metadata": {},
   "outputs": [
    {
     "name": "stdout",
     "output_type": "stream",
     "text": [
      "Shape of SHAP values for class 1: (99568, 20)\n"
     ]
    }
   ],
   "source": [
    "#get SHAP values \n",
    "shap_values_class_1_nn = shap_values_nn[:, :, 0]\n",
    "\n",
    "#print the shape\n",
    "print(f\"Shape of SHAP values for class 1: {shap_values_class_1_nn.shape}\")"
   ]
  },
  {
   "cell_type": "code",
   "execution_count": 197,
   "id": "bbdaa638-27c2-4572-b70e-0600999f18a7",
   "metadata": {},
   "outputs": [],
   "source": [
    "#calculate the mean of absolute SHAP values for class 1\n",
    "mean_shap_class_1_nn = np.abs(shap_values_class_1_nn).mean(axis=0)"
   ]
  },
  {
   "cell_type": "code",
   "execution_count": 199,
   "id": "b543b727-6666-4d32-973e-0c9dedebf19a",
   "metadata": {},
   "outputs": [
    {
     "data": {
      "image/png": "[encoded data removed]",
      "text/plain": [
       "<Figure size 1000x600 with 1 Axes>"
      ]
     },
     "metadata": {},
     "output_type": "display_data"
    }
   ],
   "source": [
    "#create a df for better visualisation\n",
    "feature_names_nn = Xtrain_selected.columns \n",
    "mean_shap_nn = pd.DataFrame({\n",
    "    'Feature': feature_names_nn,\n",
    "    'Mean SHAP Value': mean_shap_class_1_nn})\n",
    "\n",
    "#sort df by 'Mean SHAP Value' in descending order\n",
    "sorted_shap_nn = mean_shap_nn.sort_values(by='Mean SHAP Value', ascending=False)\n",
    "\n",
    "#select top 10 features that contribute positively to class 1\n",
    "top_10_features_nn = sorted_shap_nn.head(10)\n",
    "\n",
    "#visualise the top 10 features' contribution\n",
    "plt.figure(figsize=(10, 6))\n",
    "plt.barh(top_10_features_nn['Feature'], top_10_features_nn['Mean SHAP Value'], color='skyblue')\n",
    "plt.xlabel('Mean SHAP Value')\n",
    "plt.title(\"Neural Networks' Top Features Contributing to Class 1 Prediction\")\n",
    "plt.grid(axis='x')\n",
    "plt.gca().invert_yaxis()  # Invert y-axis to have the highest mean SHAP value at the top\n",
    "plt.show()"
   ]
  }
 ],
 "metadata": {
  "kernelspec": {
   "display_name": "Python 3 (ipykernel)",
   "language": "python",
   "name": "python3"
  },
  "language_info": {
   "codemirror_mode": {
    "name": "ipython",
    "version": 3
   },
   "file_extension": ".py",
   "mimetype": "text/x-python",
   "name": "python",
   "nbconvert_exporter": "python",
   "pygments_lexer": "ipython3",
   "version": "3.12.4"
  }
 },
 "nbformat": 4,
 "nbformat_minor": 5
}
